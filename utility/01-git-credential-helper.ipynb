{
 "cells": [
  {
   "cell_type": "markdown",
   "source": "# Git Credential Helpers are Awesome!\n\nResources:\n- https://git-scm.com/docs/git-credential\n- https://www.theserverside.com/blog/Coffee-Talk-Java-News-Stories-and-Opinions/Where-system-global-and-local-Windows-Git-config-files-are-saved\n- https://stackoverflow.com/questions/53189190/git-multiple-credential-helper\n- https://docs.aws.amazon.com/codecommit/latest/userguide/setting-up-https-windows.html#setting-up-https-windows-credential-helper\n\nDebugging Helpers:\n\n`git -c 'credential.helper=/compute-helpers/code/github_credential_helper.py' fetch`\n\nFor subtrees\n`git -c 'credential.helper=/compute-helpers/code/github_credential_helper.py' subtree pull --prefix starostka`\n\n`> You must provide <repository> <ref>`\n\nGit context:\n\nCredential helpers associate credentials with contexts, defined by their URL.\n\nAttributes:\n- protocol\n- host\n- path\n- username\n- password\n- url",
   "metadata": {
    "cell_id": "77065909972749c1b82c9ef5e899fe97",
    "tags": [],
    "deepnote_cell_type": "markdown",
    "deepnote_cell_height": 687.5625
   }
  },
  {
   "cell_type": "markdown",
   "source": "## Credential helper for Deepnote\n\nDefault helper configuration in system scope\n```\n[credential \"https://github.com\"]\n  useHttpPath = true\n  helper = \"/compute-helpers/code/github_credential_helper.py\"\n```\n\n### Credential context for subtrees\nWith added subtrees we must adjust the input to the helper.\n```\n[credential \"https://github.com/Starostka/starostka.git\"]\n  useHttpPath = true\n  helper = \"/compute-helpers/code/github_credential_helper.py\" # here it needs proper args \n```\n\nSo what we'd like is to tell git that when the remote is a subtree the credential context is based on the home repository.\nWe can do that by modifying the url, since the credential context is based on that:\n```\n  url = https://github.com/Starostka/home.git\n```\n\nThe remaining attributes is derived from the url by the helper:\n```\n    host = github.com\n    path = Starostka/home.git\n    protocol = https\n```",
   "metadata": {
    "tags": [],
    "cell_id": "a6139885-d49c-4243-8c5d-92fc09d0d189",
    "deepnote_cell_type": "markdown",
    "deepnote_cell_height": 589.953125
   }
  },
  {
   "cell_type": "code",
   "source": "#!/usr/bin/env python3\n\"\"\"\nThis script is used as a Git credential helper https://git-scm.com/docs/git-credential\nin our user PODs.\nWe configure git to call this script every time the user wants to communicate with Github repository\nover https.\nIn case Deepnote does not have token for the requested repository, this script returns\nempty string, which signals that next authentication helper should be used.\n\"\"\"\n\nimport sys\nfrom os import environ\nfrom typing import Optional\n\nimport requests\n\n\ndef parse_input(inp: str) -> dict:\n    ret = {}\n    for line in inp.splitlines():\n        name, value = line.split(\"=\")\n        ret[name] = value\n    return ret\n\n\ndef fetch_key(\n    project_id: str, token_service_secret: str, owner: str, repo: str\n) -> Optional[str]:\n    token_service_url = environ.get(\"DEEPNOTE_GITHUB_TOKEN_SERVICE_URL\")\n    if token_service_url is None:\n        return\n    response = requests.get(\n        token_service_url,\n        params={\"projectId\": project_id, \"owner\": owner, \"repo\": repo},\n        headers={\"Authorization\": f\"Bearer {token_service_secret}\"},\n    )\n    if response.ok:\n        return response.text\n\n\ndef parse_repo_path(repo_path: str) -> (str, str):\n    owner, repo = repo_path.split(\"/\")\n    if repo.endswith(\".git\"):\n        repo = repo[: -len(\".git\")]\n    return owner, repo\n\n\ndef generate_credentials(\n    project_id: str, token_service_secret: str, parsed_input: dict\n) -> Optional[dict]:\n    if project_id is None or token_service_secret is None:\n        return\n\n    host = parsed_input.get(\"host\")\n    path = parsed_input.get(\"path\")\n    protocol = parsed_input.get(\"protocol\")\n\n    if (\n        None in (host, path, protocol)\n        or \"\" in (host, path, protocol)\n        or parsed_input.get(\"host\") != \"github.com\"\n        or protocol != \"https\"\n    ):\n        return\n\n    owner, repo = parse_repo_path(path)\n    key = fetch_key(project_id, token_service_secret, owner, repo)\n\n    if key is None:\n        return\n    return {**parsed_input, \"username\": \"x-access-token\", \"password\": key}\n\n\ndef main(output=sys.stdout):\n    project_id = environ.get(\"DEEPNOTE_PROJECT_ID\", None)\n    token_service_secret = environ.get(\"DEEPNOTE_RUNTIME_UUID\", None)\n\n    parsed_input = parse_input(sys.stdin.read())\n\n    credentials = generate_credentials(project_id, token_service_secret, parsed_input)\n    if credentials is not None:\n        credentials_string = \"\\n\".join(\n            map(lambda item: f\"{item[0]}={item[1]}\", credentials.items())\n        )\n        print(credentials_string, file=output)\n\n\nif __name__ == \"__main__\":\n    main()",
   "metadata": {
    "cell_id": "d12d53d51c8e407186110ced5e8f824e",
    "tags": [],
    "deepnote_cell_type": "code",
    "deepnote_cell_height": 1645
   },
   "outputs": [],
   "execution_count": null
  },
  {
   "cell_type": "markdown",
   "source": "## Credential helper for SageMaker",
   "metadata": {
    "cell_id": "0ab455bb902e4fc8aa6b4446eca70b84",
    "tags": [],
    "deepnote_cell_type": "markdown",
    "deepnote_cell_height": 70
   }
  },
  {
   "cell_type": "markdown",
   "source": "## Credential helper for Datalore",
   "metadata": {
    "cell_id": "580dc6730ae94f279bbce18b0a30cd25",
    "tags": [],
    "deepnote_cell_type": "markdown",
    "deepnote_cell_height": 70
   }
  },
  {
   "cell_type": "markdown",
   "source": "## Credential helper for NextJournal",
   "metadata": {
    "cell_id": "91f90e220e4d4f66b452c22d2ca3fc60",
    "tags": [],
    "deepnote_cell_type": "markdown",
    "deepnote_cell_height": 70
   }
  },
  {
   "cell_type": "markdown",
   "source": "<a style='text-decoration:none;line-height:16px;display:flex;color:#5B5B62;padding:10px;justify-content:end;' href='https://deepnote.com?utm_source=created-in-deepnote-cell&projectId=7393f88e-6674-4a74-8a6c-ce9dc44581ca' target=\"_blank\">\n<img alt='Created in deepnote.com' style='display:inline;max-height:16px;margin:0px;margin-right:7.5px;' src='data:image/svg+xml;base64,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' > </img>\nCreated in <span style='font-weight:600;margin-left:4px;'>Deepnote</span></a>",
   "metadata": {
    "tags": [],
    "created_in_deepnote_cell": true,
    "deepnote_cell_type": "markdown"
   }
  }
 ],
 "nbformat": 4,
 "nbformat_minor": 2,
 "metadata": {
  "orig_nbformat": 2,
  "deepnote": {},
  "deepnote_notebook_id": "8a0c155e-8e91-4b82-95e4-60fb11a8d518",
  "deepnote_execution_queue": []
 }
}