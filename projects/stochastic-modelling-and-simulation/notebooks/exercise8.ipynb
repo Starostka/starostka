{
 "cells": [
  {
   "cell_type": "markdown",
   "metadata": {},
   "source": [
    "**Day 6 - June 10 2022**\n",
    "\n",
    "| Student                       | ID        |\n",
    "| -------------                 |:---------:|\n",
    "| Benjamin Starostka Jakobsen   | s184198   |\n",
    "| Muhammad REDACTED             | REDACTED  |\n",
    "| Victor REDACTED               | REDACTED  |"
   ]
  },
  {
   "cell_type": "code",
   "execution_count": null,
   "metadata": {},
   "outputs": [],
   "source": [
    "import matplotlib.pyplot as plt\n",
    "import numpy as np\n",
    "import pandas as pd\n",
    "import seaborn as sns\n",
    "from scipy import stats\n",
    "from scipy.stats import chisquare\n",
    "\n",
    "sns.set_style(\"white\")"
   ]
  },
  {
   "cell_type": "markdown",
   "metadata": {},
   "source": [
    "# Exercise 8\n",
    "# Bootstrapping"
   ]
  },
  {
   "cell_type": "markdown",
   "metadata": {},
   "source": [
    "## 1\n",
    "**Exercise 13 in Chapter 8 of Ross (P.152).**\n",
    "\n",
    "**Let $X_1,..., X_n$ be independent and identically distributed random variables having unknown mean $\\mu$. For given constants $a < b$, we are interested in estimating**\n",
    "$$\n",
    "p = P(a < \\sum_{i=1}^{n} \\frac{X_i}{n} - \\mu < b)\n",
    "$$"
   ]
  },
  {
   "cell_type": "markdown",
   "metadata": {},
   "source": [
    "The probability $p$, with $\\bar{x}$ the sample mean of the original dataset (constant), is equivalent to \n",
    "$$\n",
    "p = P(a < \\bar{x} - \\mu < b)\n",
    "$$\n",
    "$$\n",
    "p = P(a - \\bar{x} <  - \\mu < b - \\bar{x})\n",
    "$$\n",
    "$$\n",
    "p = P(\\bar{x}-a >  \\mu > \\bar{x}-b)\n",
    "$$\n",
    "\n",
    "In others words, $p$ is the probability that the unknown mean $\\mu$ is in the interval $[\\bar{x}-b, \\bar{x}-a]$."
   ]
  },
  {
   "cell_type": "markdown",
   "metadata": {},
   "source": [
    "### (a)\n",
    "**Explain how we can use the bootstrap approach to estimate p.**"
   ]
  },
  {
   "cell_type": "markdown",
   "metadata": {},
   "source": [
    "• Create $r$ simulated datasets by randomly sampling $n$ elements with replacement from the original dataset. \n",
    "\n",
    "• Compute the sample mean for each of those simulated datasets. \n",
    "\n",
    "• Count the number of times that the sample means fall into the interval $[\\bar{x}-b, \\bar{x}-a]$.\n",
    "\n",
    "Then, the estimate of the probability $p$ is the average, $i.e.$ the count divided by the number of simulated datasets $r$."
   ]
  },
  {
   "cell_type": "markdown",
   "metadata": {},
   "source": [
    "### (b)\n",
    "**Estimate $p$ if $n = 10$ and the values of the $X_i$ are 56, 101, 78, 67, 93, 87,\n",
    "64, 72, 80, and 69.**\n",
    "\n",
    "**Take $a=-5$, $b =5$.**"
   ]
  },
  {
   "cell_type": "code",
   "execution_count": null,
   "metadata": {},
   "outputs": [],
   "source": [
    "a = -5\n",
    "b = 5\n",
    "X = [56, 101, 78, 67, 93, 87, 64, 72, 80, 69]\n",
    "n = len(X)\n",
    "x_bar = np.mean(X)"
   ]
  },
  {
   "cell_type": "code",
   "execution_count": null,
   "metadata": {},
   "outputs": [
    {
     "data": {
      "image/png": "[encoded data removed]",
      "text/plain": [
       "<Figure size 432x288 with 1 Axes>"
      ]
     },
     "metadata": {
      "image/png": {
       "height": 280,
       "width": 397
      },
      "needs_background": "light"
     },
     "output_type": "display_data"
    }
   ],
   "source": [
    "r = 1000\n",
    "mus = []\n",
    "for i in range(r):\n",
    "    simulated_dataset = np.random.choice(X, n, replace=True)\n",
    "    mus += [np.mean(simulated_dataset)]\n",
    "\n",
    "fig, ax = plt.subplots()\n",
    "hist = ax.hist(mus)\n",
    "ax.vlines(x=x_bar - a, ymin=0, ymax=max(hist[0]), color=\"C2\")\n",
    "ax.vlines(x=x_bar - b, ymin=0, ymax=max(hist[0]), color=\"C2\")\n",
    "ax.set(\n",
    "    xlabel=r\"$\\mu$\",\n",
    "    ylabel=\"count\",\n",
    "    title=r\"Histogram of the empirical mean of the simulated dataset\",\n",
    ")\n",
    "plt.show()"
   ]
  },
  {
   "cell_type": "code",
   "execution_count": null,
   "metadata": {},
   "outputs": [
    {
     "name": "stdout",
     "output_type": "stream",
     "text": [
      "The sample mean of the original dataset, x bar, equals 76.7\n",
      "The probability that the true mean mu is in [x_bar-5, x_bar+5] is 0.751\n"
     ]
    }
   ],
   "source": [
    "p = np.sum(np.array((a < x_bar - mus) & (x_bar - mus < b))) / r\n",
    "print(\"The sample mean of the original dataset, x bar, equals\", x_bar)\n",
    "print(\"The probability that the true mean mu is in [x_bar-5, x_bar+5] is\", p)"
   ]
  },
  {
   "cell_type": "markdown",
   "metadata": {},
   "source": [
    "## 2\n",
    "**Exercise 15 in Chapter 8 of Ross (P.152).**\n",
    "\n",
    "**In the following three exercises $X_1 ,..., X_n$ is a sample from a distribution\n",
    "whose variance is (the unknown) $\\sigma^2$. We are planning to estimate $\\sigma^2$ by the\n",
    "sample variance $S^2 = \\sum^n{i=1}(X_i-X)^2/(n-1)$,and we want to use the bootstrap\n",
    "technique to estimate $Var(S^2)$.**\n",
    "\n",
    "**If n = 15 and the data are 5, 4, 9, 6, 21, 17, 11, 20, 7, 10, 21, 15, 13, 16, 8\n",
    "approximate (by a simulation) the bootstrap estimate of $Var(S^2)$**"
   ]
  },
  {
   "cell_type": "code",
   "execution_count": null,
   "metadata": {},
   "outputs": [
    {
     "data": {
      "image/png": "[encoded data removed]",
      "text/plain": [
       "<Figure size 432x288 with 1 Axes>"
      ]
     },
     "metadata": {
      "image/png": {
       "height": 286,
       "width": 382
      },
      "needs_background": "light"
     },
     "output_type": "display_data"
    }
   ],
   "source": [
    "X = [5, 4, 9, 6, 21, 17, 11, 20, 7, 10, 21, 15, 13, 16, 8]\n",
    "n = len(X)\n",
    "\n",
    "variances = []\n",
    "r = 100\n",
    "for i in range(r):\n",
    "    simulated_dataset = np.random.choice(X, n, replace=True)\n",
    "    variances += [np.var(simulated_dataset)]\n",
    "\n",
    "variances = np.array(variances)\n",
    "\n",
    "fig, ax = plt.subplots()\n",
    "ax.hist(variances)\n",
    "ax.set(\n",
    "    xlabel=r\"$S^2$\", ylabel=\"count\", title=r\"Histogram of the empirical variance $S^2$\"\n",
    ")\n",
    "\n",
    "plt.show()"
   ]
  },
  {
   "cell_type": "code",
   "execution_count": null,
   "metadata": {},
   "outputs": [
    {
     "name": "stdout",
     "output_type": "stream",
     "text": [
      "50.29617837827163\n"
     ]
    }
   ],
   "source": [
    "varS2 = np.var(variances)\n",
    "print(varS2)"
   ]
  },
  {
   "cell_type": "markdown",
   "metadata": {},
   "source": [
    "## 3\n",
    "**Write a subroutine that takes as input a “data” vector of\n",
    "observed values, and which outputs the median as well as the\n",
    "bootstrap estimate of the variance of the median, based on\n",
    "$r = 100$ bootstrap replicates. Simulate $N = 200$ Pareto\n",
    "distributed random variates with $\\beta = 1$ and $k = 1.05$.**"
   ]
  },
  {
   "cell_type": "code",
   "execution_count": null,
   "metadata": {},
   "outputs": [],
   "source": [
    "N = 200\n",
    "beta = 1\n",
    "k = 1.05\n",
    "X = stats.pareto.rvs(scale=beta, b=k, size=N)"
   ]
  },
  {
   "cell_type": "code",
   "execution_count": null,
   "metadata": {},
   "outputs": [
    {
     "data": {
      "image/png": "[encoded data removed]",
      "text/plain": [
       "<Figure size 1080x216 with 1 Axes>"
      ]
     },
     "metadata": {
      "image/png": {
       "height": 226,
       "width": 894
      },
      "needs_background": "light"
     },
     "output_type": "display_data"
    }
   ],
   "source": [
    "# plot histogram and pdf\n",
    "fig, ax = plt.subplots(1, 1, figsize=(15, 3))\n",
    "x = np.linspace(\n",
    "    stats.pareto.ppf(0.1, scale=beta, b=k), stats.pareto.ppf(0.9, scale=beta, b=k), N\n",
    ")\n",
    "y = stats.pareto.pdf(x, scale=beta, b=k)\n",
    "# ax.plot(x, y, '-', lw=1, alpha=0.5, color='red', label='Analytical PDF')\n",
    "ax.hist(X, bins=200, label=\"Dataset density\")\n",
    "ax.legend()\n",
    "ax.set(\n",
    "    xlabel=r\"$X$\",\n",
    "    ylabel=r\"$P(X)$\",\n",
    "    title=f\"Pareto distribution with k={k} and beta={beta}\",\n",
    ")\n",
    "plt.show()"
   ]
  },
  {
   "cell_type": "code",
   "execution_count": null,
   "metadata": {},
   "outputs": [
    {
     "data": {
      "image/png": "[encoded data removed]",
      "text/plain": [
       "<Figure size 1080x216 with 1 Axes>"
      ]
     },
     "metadata": {
      "image/png": {
       "height": 224,
       "width": 888
      },
      "needs_background": "light"
     },
     "output_type": "display_data"
    }
   ],
   "source": [
    "X_sorted = np.sort(X)\n",
    "cdf_observed = np.arange(1, N + 1) / N\n",
    "cdf_expected = stats.pareto.cdf(X_sorted, scale=beta, b=k)\n",
    "fig, ax = plt.subplots(1, 1, figsize=(15, 3))\n",
    "# ax.plot(X_sorted,cdf_expected, '-', lw=4, alpha=0.6, label='Analytical CDF')\n",
    "ax.step(X_sorted, cdf_observed, \"-\", lw=4, alpha=0.6, label=\"Empirical CDF\")\n",
    "ax.set(xlabel=\"x\", ylabel=r\"P(X<x)\", title=\"Cumulative distribution function\")\n",
    "ax.legend()\n",
    "ax.grid()\n",
    "\n",
    "plt.show()"
   ]
  },
  {
   "cell_type": "markdown",
   "metadata": {},
   "source": [
    "### (a)\n",
    "**Compute the mean and the median (of the sample)**"
   ]
  },
  {
   "cell_type": "code",
   "execution_count": null,
   "metadata": {},
   "outputs": [
    {
     "name": "stdout",
     "output_type": "stream",
     "text": [
      "Mean: 7.050872095269907\n",
      "Median: 1.9992234581129629\n"
     ]
    }
   ],
   "source": [
    "mean = np.mean(X)\n",
    "median = np.median(X)\n",
    "print(\"Mean:\", mean)\n",
    "print(\"Median:\", median)"
   ]
  },
  {
   "cell_type": "markdown",
   "metadata": {},
   "source": [
    "### (b) (c)\n",
    "**Make the bootstrap estimate of the variance of the sample mean.**\n",
    "\n",
    "**Make the bootstrap estimate of the variance of the sample median.**"
   ]
  },
  {
   "cell_type": "code",
   "execution_count": null,
   "metadata": {},
   "outputs": [],
   "source": [
    "# Boostrap\n",
    "r = 100\n",
    "means = []\n",
    "medians = []\n",
    "for i in range(r):\n",
    "    simulated_dataset = np.random.choice(X, n, replace=True)\n",
    "    means += [np.mean(simulated_dataset)]\n",
    "    medians += [np.median(simulated_dataset)]\n",
    "\n",
    "means = np.array(means)"
   ]
  },
  {
   "cell_type": "code",
   "execution_count": null,
   "metadata": {},
   "outputs": [
    {
     "data": {
      "image/png": "[encoded data removed]",
      "text/plain": [
       "<Figure size 1080x288 with 1 Axes>"
      ]
     },
     "metadata": {
      "image/png": {
       "height": 264,
       "width": 885
      },
      "needs_background": "light"
     },
     "output_type": "display_data"
    }
   ],
   "source": [
    "fig, ax = plt.subplots(1, 1, figsize=(15, 4))\n",
    "ax.hist(means, bins=20, label=\"Mean\")\n",
    "ax.hist(medians, bins=10, label=\"Median\")\n",
    "ax.set(ylabel=\"count\", title=r\"Histogram of the boostrap sample means and medians\")\n",
    "ax.legend()\n",
    "plt.show()"
   ]
  },
  {
   "cell_type": "code",
   "execution_count": null,
   "metadata": {},
   "outputs": [
    {
     "name": "stdout",
     "output_type": "stream",
     "text": [
      "Boostrap estimate of the variance of the sample mean: 28.426021922748358\n",
      "Boostrap estimate of the variance of the sample median: 0.6058294012338901\n"
     ]
    }
   ],
   "source": [
    "print(\"Boostrap estimate of the variance of the sample mean:\", np.var(means))\n",
    "print(\"Boostrap estimate of the variance of the sample median:\", np.var(medians))"
   ]
  },
  {
   "cell_type": "markdown",
   "metadata": {},
   "source": [
    "### (d)\n",
    "**Compare the precision of the estimated median with the precision of the estimated mean.**"
   ]
  },
  {
   "cell_type": "markdown",
   "metadata": {},
   "source": [
    "During bootstrap, some simulated datasets will contains outliers.\n",
    "\n",
    "On the one hand, the sample mean is not robust to outliers, and will be influenced by those outliers. Thus, the sample means of datasets containing outlier(s) will be large, while the sample means of the others will be lower. This results in a very large variance of the sample means. \n",
    "\n",
    "On the other hand, the median is robust to outliers, and the values for the sample median for all of the simulated datasets will be close to each other, resulting in a very low variance.\n",
    "\n",
    "All in all, the estimate of the sample median is a lot more precise, because its variance is lower (it varies less depending on the dataset)."
   ]
  },
  {
   "cell_type": "markdown",
   "metadata": {},
   "source": [
    "Moreover, we know that the sample mean estimator, $\\bar{x}$ has the variance, $\\frac{1}{n}Var(X)$. \n",
    "To estimate this, we (typically) just use the sample variance $\\frac{1}{n}S^2$. "
   ]
  },
  {
   "cell_type": "code",
   "execution_count": null,
   "metadata": {},
   "outputs": [
    {
     "name": "stdout",
     "output_type": "stream",
     "text": [
      "Variance of the sample mean just using the sample variance: 2.1039928455846817\n"
     ]
    }
   ],
   "source": [
    "print(\n",
    "    \"Variance of the sample mean just using the sample variance:\", (1 / N) * np.var(X)\n",
    ")"
   ]
  },
  {
   "cell_type": "markdown",
   "metadata": {},
   "source": [
    "We see that just using the sample variance $S^2$ to compute the estimate of the variance of the sample mean gives a very different value than the one computed using bootstrap. The value obtained with bootstrap is a better estimate of the true variance of the sample mean."
   ]
  }
 ],
 "metadata": {
  "kernelspec": {
   "display_name": "Python 3.10.0 64-bit ('standard')",
   "language": "python",
   "name": "python3"
  }
 },
 "nbformat": 4,
 "nbformat_minor": 2
}
