{
 "cells": [
  {
   "cell_type": "code",
   "execution_count": null,
   "metadata": {},
   "outputs": [],
   "source": [
    "import random\n",
    "\n",
    "import matplotlib.pyplot as plt\n",
    "import numpy as np\n",
    "import pandas as pd\n",
    "import scipy\n",
    "import scipy.stats as stats\n",
    "import seaborn as sns\n",
    "from scipy.linalg import expm\n",
    "from scipy.special import smirnov\n",
    "\n",
    "sns.set_style(\"white\")"
   ]
  },
  {
   "cell_type": "markdown",
   "metadata": {},
   "source": [
    "# 02443 Stochastic Simulation - Project 1\n",
    "\n",
    "Group number 4\n",
    "\n",
    "16-06-2022\n",
    "\n",
    "\n",
    "| Students                      | ID        |\n",
    "| -------------                 |:---------:|\n",
    "| Mie REDACTED                  | REDACTED  |\n",
    "| Rasmus REDACTED               | REDACTED  |\n",
    "| Benjamin Starostka Jakobsen   | s184198   |\n",
    "| Muhammad REDACTED             | REDACTED  |\n",
    "| Victor REDACTED               | REDACTED  |"
   ]
  },
  {
   "cell_type": "markdown",
   "metadata": {},
   "source": [
    "# Introduction\n",
    "In this project we want to simulate and analyse a Markov model of breast cancer. The aim is by using the model and different methods we are able to describe possible complications following a surgery for breast cancer. \n",
    "\n",
    "## Markov Chains\n",
    "The Markov Chains model follows that the random variables $X_t$ for $t=0,1,\\dots$ are indexed by time and can attain the values $1,2,\\dots,N$. The random variables folloes the Markov property:\n",
    "\n",
    "$P(X_{t+1}|X_1,X_2,...,X_t)=P(X_{t+1}|X_t)$\n",
    "\n",
    "That meant that next value of $X_{t+1}$ can be determined of the value of $X_t$. The relationsship between $X_t$ and $X_{t+1}$ can be described with probabilities of going from state $i\\in\\{1,2,..,N \\}$ to state $j\\in\\{1,2,..,N \\}$. This is presented in a $NxN$ probapillity matrix $p_{ij}$. The matrix has the condition that $\\sum_{j=1}^{N}p_{ij}=1, \\forall i=1,2,...,N.$ \n"
   ]
  },
  {
   "cell_type": "markdown",
   "metadata": {},
   "source": [
    "# Part 1: A discrete-time model\n",
    "In this part of the project, we will work with the above-presented Markov model. \n",
    "\n",
    "## Breast cancer assumptions\n",
    "This study follows women after they had a breast tumor removed. Every woman can go through different stages:\n",
    "\n",
    "* **State 1:** Healthy. The woman in this state stays healthy.\n",
    "* **State 2:** Local Recurrence. Cancer reappears close to the removed tumor.\n",
    "* **State 3:** Distant metastatis. Cancer reappears distant from where it was operated.\n",
    "* **State 4:** Both Local Recurrence and Distant metastasis.\n",
    "* **State 5:** Death. \n",
    "\n",
    "A woman cannot directly go from State 1 (Healthy) to state 4 (Both), the woman will reach first state 2 or state 3. Death can happen from any state. If the death state has been entered it can never be left again. The woman can also stay in the same state. \n"
   ]
  },
  {
   "cell_type": "markdown",
   "metadata": {},
   "source": [
    "## Task 1\n",
    "In this task, we want to simulate 1000 women to investigate their lifetime distribution after surgery. All women start in state 1 and the simulation will run until the woman is dead (state 5). We will also investigate the proportion of women where cancer locally Recurrence.\n",
    "\n",
    "Given $P$ a transition probability matrix $N\\times N$.\n",
    "\n",
    "$$\n",
    "P=\\begin{bmatrix} p_{11} & p_{12} & \\cdots & p_{1N} \\\\ p_{21} & p_{22} & \\cdots & p_{2N} \\\\ \\vdots & \\vdots & \\ddots & \\vdots \\\\ p_{N1} & p_{N2} & \\cdots & p_{NN} \\end{bmatrix}\n",
    "$$\n",
    "\n",
    "In this project we have $N=5$ states. This discrete Markov chain can be visualized below. The 5 states are represented as nodes and the transitions probabilities $p_{ij}$ as arrows between state $i$ and $j$. Notice how for each state the sum of all outgoing arrows is equal to 1.\n",
    "![mc_sketch](Figures/sketch_markov_chain.png)"
   ]
  },
  {
   "cell_type": "markdown",
   "metadata": {},
   "source": [
    "First, we want to program the expected distribution given a time $T$, for where the distribution should end. One time step is equal to one month. Then, the probability distribution over the states at time *t* follows the formula:\n",
    "\n",
    "$$\n",
    "\\pi_t =\\pi_{t-1}P \\Leftrightarrow \\pi_t = \\pi_0P^{t}\n",
    "$$  \n",
    "\n",
    "The given probability matrix P and the program for expected distribution given a time $T$ are presented below."
   ]
  },
  {
   "cell_type": "code",
   "execution_count": null,
   "metadata": {},
   "outputs": [],
   "source": [
    "# Given probability matrix\n",
    "P = [\n",
    "    [0.9915, 0.005, 0.0025, 0, 0.001],\n",
    "    [0, 0.986, 0.005, 0.004, 0.005],\n",
    "    [0, 0, 0.992, 0.003, 0.005],\n",
    "    [0, 0, 0, 0.991, 0.009],\n",
    "    [0, 0, 0, 0, 1],\n",
    "]\n",
    "P = np.array(P)\n",
    "N = P.shape[0]"
   ]
  },
  {
   "cell_type": "code",
   "execution_count": null,
   "metadata": {},
   "outputs": [],
   "source": [
    "# ----- Expected distribution -----\n",
    "\n",
    "\n",
    "def breast_cancer_analytical(T):\n",
    "    timesteps = np.arange(0, T + 1)\n",
    "    PIs = np.zeros((T + 1, N))\n",
    "    PIs[0, :] = np.array([1, 0, 0, 0, 0])  # initial state distribution\n",
    "    for t in timesteps[1:]:\n",
    "        PIs[t, :] = PIs[t - 1, :] @ P\n",
    "\n",
    "    return PIs"
   ]
  },
  {
   "cell_type": "markdown",
   "metadata": {},
   "source": [
    "Next, we will program a stochastic simulation given $n$ women and a maximum time limit period $T_{max}$. $T_{max}$ is given to ensure that the simulation does not run too long (because a woman could potentially live very very long). The simulation will also terminate if all women are dead. If $T_{max}$ is too short and some women are still alive, a warning message will be printed and encourage them to regive a more significant time limit. The aim of the program is for every time step $t$ and every state $i$, update for each woman their state according to transition probabilities of state $i$. If the women still are alive \n",
    "\n",
    "The program is follow following steps:\n",
    "\n",
    "* **Step 1:** Initialization. All women are healthy.\n",
    "* **Step 2:** For every time step $t$ \n",
    "    * **Step 2.1:** For every state $i$, update the state of each woman in state $i$ according to transition probabilities of state $i$. \n",
    "    * **Step 2.2:** Increase lifetime by one for women still alive.\n",
    "    * **Step 2.3:** Update empirical state probability distribution.\n",
    "    * **Step 2.3:** Check if all women are dead, if it is the case terminate the simulation.\n",
    "* **Step 3:** Check if any women still alive given the $T_{max}$ then print message.\n",
    "\n",
    "Below is the program presented."
   ]
  },
  {
   "cell_type": "code",
   "execution_count": null,
   "metadata": {},
   "outputs": [],
   "source": [
    "# ----- Stochastic Simulation -----\n",
    "\n",
    "\n",
    "def breast_cancer_simulation(P, n, Tmax, verbose=False):\n",
    "    N = P.shape[0]\n",
    "    T = Tmax\n",
    "\n",
    "    # Initialization\n",
    "    timesteps = np.arange(0, T + 1)\n",
    "    pis = np.zeros((T + 1, N))\n",
    "    lifetimes = np.zeros((n,))\n",
    "    women = np.ones((T + 1, n), dtype=int)  # Initially, all women are healthy\n",
    "    pis[0, :] = np.array([1, 0, 0, 0, 0])  # Initially, all women are healthy\n",
    "\n",
    "    # Simulation loop\n",
    "    for t in timesteps[1:]:\n",
    "        # Batch update:\n",
    "        # For each women in state i, update their state according to transition probabilities of state i.\n",
    "        for i in range(N):\n",
    "            transition_prob = P[i, :]\n",
    "            state_i_idx = np.argwhere(women[t - 1, :] == i + 1).flatten()\n",
    "            women[t, state_i_idx] = np.random.choice(\n",
    "                np.arange(1, N + 1), p=transition_prob, size=len(state_i_idx)\n",
    "            )\n",
    "\n",
    "        # Increase lifetime by one for women still alive\n",
    "        alive_idx = np.argwhere(women[t, :] < 5).flatten()\n",
    "        lifetimes[alive_idx] += 1\n",
    "\n",
    "        # Update empirical state probability distribution\n",
    "        pis[t, :] = (\n",
    "            np.array([len(np.argwhere(women[t, :] == i + 1)) for i in range(N)]) / n\n",
    "        )\n",
    "\n",
    "        if len(alive_idx) == 0:  # All women dead\n",
    "            T = t\n",
    "            break\n",
    "\n",
    "    if len(alive_idx) != 0 and verbose:  # not all women dead\n",
    "        print(\n",
    "            \"The simulation ended after %d months, not all women died in the period. To ensure that choose a significant Tmax\"\n",
    "            % T\n",
    "        )\n",
    "\n",
    "    return women[: T + 1, :], lifetimes, pis[: T + 1, :], T"
   ]
  },
  {
   "cell_type": "code",
   "execution_count": null,
   "metadata": {},
   "outputs": [
    {
     "name": "stdout",
     "output_type": "stream",
     "text": [
      "Simulation ended, i.e. all women died, after 1176 months (98.00 years).\n"
     ]
    }
   ],
   "source": [
    "n = 1000  # number of women to simulate\n",
    "women, lifetimes, PIs_sim, T = breast_cancer_simulation(P, n, Tmax=2000, verbose=True)\n",
    "print(\n",
    "    \"Simulation ended, i.e. all women died, after {} months ({:.2f} years).\".format(\n",
    "        T, T / 12\n",
    "    )\n",
    ")\n",
    "timesteps = np.arange(0, T + 1)"
   ]
  },
  {
   "cell_type": "markdown",
   "metadata": {},
   "source": [
    "The simulation terminates due to all women are dead. If we investigate time, we observe that it is unrealistic that a woman lives more than 100 years after breast cancer surgery. This model is not realistic for an actual lifetime. The model does only account probability of death from a cancer perspective. It does not account for probability for, for example, other illnesses or accidents.   \n",
    "\n",
    "We want to see the 1000 women's lifetime distribution visualized in a histogram and a boxplot."
   ]
  },
  {
   "cell_type": "code",
   "execution_count": null,
   "metadata": {},
   "outputs": [
    {
     "data": {
      "image/png": "[encoded data removed]",
      "text/plain": [
       "<Figure size 1440x288 with 1 Axes>"
      ]
     },
     "metadata": {
      "image/png": {
       "height": 281,
       "width": 1164
      },
      "needs_background": "light"
     },
     "output_type": "display_data"
    },
    {
     "data": {
      "image/png": "[encoded data removed]",
      "text/plain": [
       "<Figure size 1440x288 with 1 Axes>"
      ]
     },
     "metadata": {
      "image/png": {
       "height": 281,
       "width": 1130
      },
      "needs_background": "light"
     },
     "output_type": "display_data"
    },
    {
     "data": {
      "application/vnd.deepnote.dataframe.v3+json": {
       "column_count": 8,
       "columns": [
        {
         "dtype": "float64",
         "name": "count",
         "stats": {
          "histogram": [
           {
            "bin_end": 999.6,
            "bin_start": 999.5,
            "count": 0
           },
           {
            "bin_end": 999.7,
            "bin_start": 999.6,
            "count": 0
           },
           {
            "bin_end": 999.8,
            "bin_start": 999.7,
            "count": 0
           },
           {
            "bin_end": 999.9,
            "bin_start": 999.8,
            "count": 0
           },
           {
            "bin_end": 1000,
            "bin_start": 999.9,
            "count": 0
           },
           {
            "bin_end": 1000.1,
            "bin_start": 1000,
            "count": 1
           },
           {
            "bin_end": 1000.2,
            "bin_start": 1000.1,
            "count": 0
           },
           {
            "bin_end": 1000.3,
            "bin_start": 1000.2,
            "count": 0
           },
           {
            "bin_end": 1000.4,
            "bin_start": 1000.3,
            "count": 0
           },
           {
            "bin_end": 1000.5,
            "bin_start": 1000.4,
            "count": 0
           }
          ],
          "max": "1000.0",
          "min": "1000.0",
          "nan_count": 0,
          "unique_count": 1
         }
        },
        {
         "dtype": "float64",
         "name": "mean",
         "stats": {
          "histogram": [
           {
            "bin_end": 267.632,
            "bin_start": 267.532,
            "count": 0
           },
           {
            "bin_end": 267.73199999999997,
            "bin_start": 267.632,
            "count": 0
           },
           {
            "bin_end": 267.832,
            "bin_start": 267.73199999999997,
            "count": 0
           },
           {
            "bin_end": 267.93199999999996,
            "bin_start": 267.832,
            "count": 0
           },
           {
            "bin_end": 268.032,
            "bin_start": 267.93199999999996,
            "count": 0
           },
           {
            "bin_end": 268.132,
            "bin_start": 268.032,
            "count": 1
           },
           {
            "bin_end": 268.23199999999997,
            "bin_start": 268.132,
            "count": 0
           },
           {
            "bin_end": 268.332,
            "bin_start": 268.23199999999997,
            "count": 0
           },
           {
            "bin_end": 268.43199999999996,
            "bin_start": 268.332,
            "count": 0
           },
           {
            "bin_end": 268.532,
            "bin_start": 268.43199999999996,
            "count": 0
           }
          ],
          "max": "268.032",
          "min": "268.032",
          "nan_count": 0,
          "unique_count": 1
         }
        },
        {
         "dtype": "float64",
         "name": "std",
         "stats": {
          "histogram": [
           {
            "bin_end": 190.76605723150078,
            "bin_start": 190.6660572315008,
            "count": 0
           },
           {
            "bin_end": 190.86605723150078,
            "bin_start": 190.76605723150078,
            "count": 0
           },
           {
            "bin_end": 190.9660572315008,
            "bin_start": 190.86605723150078,
            "count": 0
           },
           {
            "bin_end": 191.0660572315008,
            "bin_start": 190.9660572315008,
            "count": 0
           },
           {
            "bin_end": 191.1660572315008,
            "bin_start": 191.0660572315008,
            "count": 0
           },
           {
            "bin_end": 191.26605723150078,
            "bin_start": 191.1660572315008,
            "count": 1
           },
           {
            "bin_end": 191.36605723150078,
            "bin_start": 191.26605723150078,
            "count": 0
           },
           {
            "bin_end": 191.4660572315008,
            "bin_start": 191.36605723150078,
            "count": 0
           },
           {
            "bin_end": 191.5660572315008,
            "bin_start": 191.4660572315008,
            "count": 0
           },
           {
            "bin_end": 191.6660572315008,
            "bin_start": 191.5660572315008,
            "count": 0
           }
          ],
          "max": "191.1660572315008",
          "min": "191.1660572315008",
          "nan_count": 0,
          "unique_count": 1
         }
        },
        {
         "dtype": "float64",
         "name": "min",
         "stats": {
          "histogram": [
           {
            "bin_end": -0.4,
            "bin_start": -0.5,
            "count": 0
           },
           {
            "bin_end": -0.3,
            "bin_start": -0.4,
            "count": 0
           },
           {
            "bin_end": -0.19999999999999996,
            "bin_start": -0.3,
            "count": 0
           },
           {
            "bin_end": -0.09999999999999998,
            "bin_start": -0.19999999999999996,
            "count": 0
           },
           {
            "bin_end": 0,
            "bin_start": -0.09999999999999998,
            "count": 0
           },
           {
            "bin_end": 0.10000000000000009,
            "bin_start": 0,
            "count": 1
           },
           {
            "bin_end": 0.20000000000000007,
            "bin_start": 0.10000000000000009,
            "count": 0
           },
           {
            "bin_end": 0.30000000000000004,
            "bin_start": 0.20000000000000007,
            "count": 0
           },
           {
            "bin_end": 0.4,
            "bin_start": 0.30000000000000004,
            "count": 0
           },
           {
            "bin_end": 0.5,
            "bin_start": 0.4,
            "count": 0
           }
          ],
          "max": "0.0",
          "min": "0.0",
          "nan_count": 0,
          "unique_count": 1
         }
        },
        {
         "dtype": "float64",
         "name": "25%",
         "stats": {
          "histogram": [
           {
            "bin_end": 123.35,
            "bin_start": 123.25,
            "count": 0
           },
           {
            "bin_end": 123.45,
            "bin_start": 123.35,
            "count": 0
           },
           {
            "bin_end": 123.55,
            "bin_start": 123.45,
            "count": 0
           },
           {
            "bin_end": 123.65,
            "bin_start": 123.55,
            "count": 0
           },
           {
            "bin_end": 123.75,
            "bin_start": 123.65,
            "count": 0
           },
           {
            "bin_end": 123.85,
            "bin_start": 123.75,
            "count": 1
           },
           {
            "bin_end": 123.95,
            "bin_start": 123.85,
            "count": 0
           },
           {
            "bin_end": 124.05,
            "bin_start": 123.95,
            "count": 0
           },
           {
            "bin_end": 124.15,
            "bin_start": 124.05,
            "count": 0
           },
           {
            "bin_end": 124.25,
            "bin_start": 124.15,
            "count": 0
           }
          ],
          "max": "123.75",
          "min": "123.75",
          "nan_count": 0,
          "unique_count": 1
         }
        },
        {
         "dtype": "float64",
         "name": "50%",
         "stats": {
          "histogram": [
           {
            "bin_end": 227.6,
            "bin_start": 227.5,
            "count": 0
           },
           {
            "bin_end": 227.7,
            "bin_start": 227.6,
            "count": 0
           },
           {
            "bin_end": 227.8,
            "bin_start": 227.7,
            "count": 0
           },
           {
            "bin_end": 227.9,
            "bin_start": 227.8,
            "count": 0
           },
           {
            "bin_end": 228,
            "bin_start": 227.9,
            "count": 0
           },
           {
            "bin_end": 228.1,
            "bin_start": 228,
            "count": 1
           },
           {
            "bin_end": 228.2,
            "bin_start": 228.1,
            "count": 0
           },
           {
            "bin_end": 228.3,
            "bin_start": 228.2,
            "count": 0
           },
           {
            "bin_end": 228.4,
            "bin_start": 228.3,
            "count": 0
           },
           {
            "bin_end": 228.5,
            "bin_start": 228.4,
            "count": 0
           }
          ],
          "max": "228.0",
          "min": "228.0",
          "nan_count": 0,
          "unique_count": 1
         }
        },
        {
         "dtype": "float64",
         "name": "75%",
         "stats": {
          "histogram": [
           {
            "bin_end": 373.85,
            "bin_start": 373.75,
            "count": 0
           },
           {
            "bin_end": 373.95,
            "bin_start": 373.85,
            "count": 0
           },
           {
            "bin_end": 374.05,
            "bin_start": 373.95,
            "count": 0
           },
           {
            "bin_end": 374.15,
            "bin_start": 374.05,
            "count": 0
           },
           {
            "bin_end": 374.25,
            "bin_start": 374.15,
            "count": 0
           },
           {
            "bin_end": 374.35,
            "bin_start": 374.25,
            "count": 1
           },
           {
            "bin_end": 374.45,
            "bin_start": 374.35,
            "count": 0
           },
           {
            "bin_end": 374.55,
            "bin_start": 374.45,
            "count": 0
           },
           {
            "bin_end": 374.65,
            "bin_start": 374.55,
            "count": 0
           },
           {
            "bin_end": 374.75,
            "bin_start": 374.65,
            "count": 0
           }
          ],
          "max": "374.25",
          "min": "374.25",
          "nan_count": 0,
          "unique_count": 1
         }
        },
        {
         "dtype": "float64",
         "name": "max",
         "stats": {
          "histogram": [
           {
            "bin_end": 1174.6,
            "bin_start": 1174.5,
            "count": 0
           },
           {
            "bin_end": 1174.7,
            "bin_start": 1174.6,
            "count": 0
           },
           {
            "bin_end": 1174.8,
            "bin_start": 1174.7,
            "count": 0
           },
           {
            "bin_end": 1174.9,
            "bin_start": 1174.8,
            "count": 0
           },
           {
            "bin_end": 1175,
            "bin_start": 1174.9,
            "count": 0
           },
           {
            "bin_end": 1175.1,
            "bin_start": 1175,
            "count": 1
           },
           {
            "bin_end": 1175.2,
            "bin_start": 1175.1,
            "count": 0
           },
           {
            "bin_end": 1175.3,
            "bin_start": 1175.2,
            "count": 0
           },
           {
            "bin_end": 1175.4,
            "bin_start": 1175.3,
            "count": 0
           },
           {
            "bin_end": 1175.5,
            "bin_start": 1175.4,
            "count": 0
           }
          ],
          "max": "1175.0",
          "min": "1175.0",
          "nan_count": 0,
          "unique_count": 1
         }
        },
        {
         "dtype": "object",
         "name": "_deepnote_index_column"
        }
       ],
       "row_count": 1,
       "rows": [
        {
         "25%": 123.75,
         "50%": 228,
         "75%": 374.25,
         "_deepnote_index_column": "Lifetimes",
         "count": 1000,
         "max": 1175,
         "mean": 268.032,
         "min": 0,
         "std": 191.1660572315008
        }
       ]
      },
      "text/html": [
       "<div>\n",
       "<style scoped>\n",
       "    .dataframe tbody tr th:only-of-type {\n",
       "        vertical-align: middle;\n",
       "    }\n",
       "\n",
       "    .dataframe tbody tr th {\n",
       "        vertical-align: top;\n",
       "    }\n",
       "\n",
       "    .dataframe thead th {\n",
       "        text-align: right;\n",
       "    }\n",
       "</style>\n",
       "<table border=\"1\" class=\"dataframe\">\n",
       "  <thead>\n",
       "    <tr style=\"text-align: right;\">\n",
       "      <th></th>\n",
       "      <th>count</th>\n",
       "      <th>mean</th>\n",
       "      <th>std</th>\n",
       "      <th>min</th>\n",
       "      <th>25%</th>\n",
       "      <th>50%</th>\n",
       "      <th>75%</th>\n",
       "      <th>max</th>\n",
       "    </tr>\n",
       "  </thead>\n",
       "  <tbody>\n",
       "    <tr>\n",
       "      <th>Lifetimes</th>\n",
       "      <td>1000.0</td>\n",
       "      <td>268.032</td>\n",
       "      <td>191.166057</td>\n",
       "      <td>0.0</td>\n",
       "      <td>123.75</td>\n",
       "      <td>228.0</td>\n",
       "      <td>374.25</td>\n",
       "      <td>1175.0</td>\n",
       "    </tr>\n",
       "  </tbody>\n",
       "</table>\n",
       "</div>"
      ],
      "text/plain": [
       "            count     mean         std  min     25%    50%     75%     max\n",
       "Lifetimes  1000.0  268.032  191.166057  0.0  123.75  228.0  374.25  1175.0"
      ]
     },
     "metadata": {},
     "output_type": "display_data"
    }
   ],
   "source": [
    "# Summary of lifetime distribution\n",
    "fig, ax = plt.subplots(figsize=(20, 4))\n",
    "ax.hist(lifetimes, bins=40, color=\"powderblue\", edgecolor=\"darkslategrey\")\n",
    "ax.set(\n",
    "    xlabel=r\"Lifetime $t$ (months)\",\n",
    "    ylabel=\"count\",\n",
    "    title=\"Histogram of lifetime distribution after surgery\",\n",
    ")\n",
    "plt.show()\n",
    "\n",
    "fig, ax = plt.subplots(figsize=(20, 4))\n",
    "ax = sns.boxplot(\n",
    "    x=lifetimes,\n",
    "    linewidth=2.5,\n",
    "    color=\"powderblue\",\n",
    "    medianprops=dict(color=\"blue\", alpha=0.7),\n",
    "    showmeans=True,\n",
    "    meanline=True,\n",
    "    meanprops={\"color\": \"white\"},\n",
    ")\n",
    "ax.set(\n",
    "    xlabel=r\"Lifetime $t$ (months)\",\n",
    "    title=\"Boxplot of lifetime distribution after surgery\",\n",
    ")\n",
    "plt.show()\n",
    "\n",
    "# Descriptive statistics\n",
    "df_describe = pd.DataFrame(lifetimes, columns=[\"Lifetimes\"])\n",
    "display(df_describe.describe().T)"
   ]
  },
  {
   "cell_type": "markdown",
   "metadata": {},
   "source": [
    "On average, a woman dies around 20 years after breast cancer surgery. By looking at the distribution, it is common for women to die in the first 20 years. Women who live more than 60 years after the surgery make up the tail of the distribution with some outliers living up tp 10,000 months (83 years). Knowing that about 80% of women diagnosed with breast cancer each year are ages 45 or older, we can assume that the women undergoing this surgery are very likely to be in that age range. Thus, their total lifetime would be their age + their lifetime after surgery.\n",
    "\n",
    "Lastly, we look into the proportion of women cancer eventually reappears locally. We also investigated the proportion of women who went through the other states."
   ]
  },
  {
   "cell_type": "code",
   "execution_count": null,
   "metadata": {},
   "outputs": [
    {
     "name": "stdout",
     "output_type": "stream",
     "text": [
      "Proportion of women that went through state 1 is 1.0\n",
      "Proportion of women that went through state 2 is 0.594\n",
      "Proportion of women that went through state 3 is 0.484\n",
      "Proportion of women that went through state 4 is 0.384\n",
      "Proportion of women that went through state 5 is 1.0\n"
     ]
    }
   ],
   "source": [
    "# In what proportion of women does the cancer eventually reappear, locally (state 2)?\n",
    "proportion_through_state = np.zeros((N,))\n",
    "for s in range(N):\n",
    "    nb = 0\n",
    "    for i in range(n):\n",
    "        nb += int(s + 1 in women[:, i])\n",
    "    nb /= n\n",
    "    proportion_through_state[s] = nb\n",
    "    print(f\"Proportion of women that went through state {s + 1} is {nb}\")"
   ]
  },
  {
   "cell_type": "markdown",
   "metadata": {},
   "source": [
    "In our model, it is evident that 100% of the women went through state 1 (healthy) and state 5 (Dead), as it is the initial and terminal state for every woman. About 60% of the woman reaches state 2, that the cancer eventually reappears locally. Around 50% experience that distant cancer reappers. Around 35% experience both locally and dostant cancer."
   ]
  },
  {
   "cell_type": "markdown",
   "metadata": {},
   "source": [
    "## Task 2\n",
    "\n",
    "In this task we will be using a statistical test invesigate the distribution over the states at a given time $t$. The distributions $\\pi_t$ from the simulation can be compared to the analytical distributions using a $\\chi^2$-test.\n",
    "\n",
    "The simulation is first validated by comparing the distribution at the certain time point, $t=120$."
   ]
  },
  {
   "cell_type": "code",
   "execution_count": null,
   "metadata": {},
   "outputs": [],
   "source": [
    "# Calculate the expected state distributions for all timesteps\n",
    "PIs_analytical = breast_cancer_analytical(T)\n",
    "\n",
    "# Given time t\n",
    "t = 120\n",
    "\n",
    "# Simulated distribution for t=120\n",
    "p120_sim = PIs_sim[t, :]\n",
    "# Analytical distribution for t=120\n",
    "p120_true = PIs_analytical[t, :]\n",
    "\n",
    "# Statistical test\n",
    "n_obs = p120_sim * n\n",
    "n_exp = p120_true * n\n",
    "\n",
    "chisq, p_value = stats.chisquare(n_obs, f_exp=n_exp)"
   ]
  },
  {
   "cell_type": "code",
   "execution_count": null,
   "metadata": {},
   "outputs": [
    {
     "data": {
      "image/png": "[encoded data removed]",
      "text/plain": [
       "<Figure size 1440x288 with 2 Axes>"
      ]
     },
     "metadata": {
      "image/png": {
       "height": 268,
       "width": 1159
      },
      "needs_background": "light"
     },
     "output_type": "display_data"
    },
    {
     "name": "stdout",
     "output_type": "stream",
     "text": [
      "Test statistic: 3.556330783527027\n",
      "p-value: 0.46936497591493154\n"
     ]
    }
   ],
   "source": [
    "fig, axes = plt.subplots(1, 2, figsize=(20, 4))\n",
    "# Bar plot of distribution pi_120\n",
    "ax = axes[0]\n",
    "color_palette = [\"C0\", \"C1\", \"C2\", \"C3\", \"C4\"]\n",
    "x = np.arange(1, N + 1)\n",
    "ax.plot(x, p120_true, \"bo\", ms=8, label=\"Analytical distribution\", alpha=0.5)\n",
    "ax.vlines(x, 0, p120_true, colors=\"b\", lw=5, alpha=0.5)\n",
    "ax.bar(x=x, height=p120_sim, color=color_palette)\n",
    "ax.set(title=r\"$\\pi_{120}$ : State distribution at $t=120$\")\n",
    "ax.legend()\n",
    "\n",
    "# Chi2 test plot\n",
    "ax = axes[1]\n",
    "df = N - 1\n",
    "x = np.linspace(stats.chi2.ppf(0.01, df), stats.chi2.ppf(0.99, df), 100)\n",
    "y = stats.chi2.pdf(x, df)\n",
    "ax.plot(x, y, \"b-\", lw=1, alpha=0.6, label=r\"$\\chi^2$ pdf\")\n",
    "ax.vlines(x=chisq, ymin=0, ymax=max(y), color=\"green\", label=\"Test statistic\")\n",
    "ax.fill_between(\n",
    "    x,\n",
    "    0,\n",
    "    y,\n",
    "    where=x >= stats.chi2.ppf(0.95, df),\n",
    "    facecolor=\"red\",\n",
    "    alpha=0.3,\n",
    "    interpolate=True,\n",
    "    label=\"critical region\",\n",
    ")\n",
    "ax.set(title=r\"$\\chi^2$-test\")\n",
    "ax.legend()\n",
    "\n",
    "plt.show()\n",
    "\n",
    "print(\"Test statistic:\", chisq)\n",
    "print(\"p-value:\", p_value)"
   ]
  },
  {
   "cell_type": "markdown",
   "metadata": {},
   "source": [
    "Visually, the figure on the left shows the empirical distribution as a bar plot with the analytical distribution as vertical lines. We see that the two distributions appear very similar. Then, the figure on the right shows the $\\chi^2$-test with $N-1$ degrees of freedom ($N=5$ states, $i.e.$ classes). The test statistic is not in the critical region. Since the p-value > 0.05, the hypothesis that the simulated distribution follows the analytical distribution is not rejected. Thus, we can assume that the simulated proportions of women in each state for $t=120$ correspond to what we expect.\n",
    "\n",
    "Note that, by definition of the statistical test with $\\alpha=0.05$, in 5% of the time the test is going to reject $H_0$ even if $H_0$ holds."
   ]
  },
  {
   "cell_type": "code",
   "execution_count": null,
   "metadata": {},
   "outputs": [
    {
     "data": {
      "image/png": "[encoded data removed]",
      "text/plain": [
       "<Figure size 1440x432 with 1 Axes>"
      ]
     },
     "metadata": {
      "image/png": {
       "height": 391,
       "width": 1170
      },
      "needs_background": "light"
     },
     "output_type": "display_data"
    }
   ],
   "source": [
    "fig, ax = plt.subplots(figsize=(20, 6))\n",
    "ax.vlines(x=120, ymin=0, ymax=1, ls=\"--\", color=\"grey\", alpha=0.5)\n",
    "for i in range(N):\n",
    "    ax.plot(\n",
    "        timesteps,\n",
    "        PIs_analytical[:, i],\n",
    "        ls=\"-\",\n",
    "        alpha=0.5,\n",
    "        c=color_palette[i],\n",
    "        label=rf\"Expected $P(X_t={i + 1})$\",\n",
    "    )\n",
    "    ax.plot(\n",
    "        timesteps,\n",
    "        PIs_sim[:, i],\n",
    "        ls=\":\",\n",
    "        lw=3,\n",
    "        alpha=1.0,\n",
    "        c=color_palette[i],\n",
    "        label=rf\"Observed  $P(X_t={i + 1})$\",\n",
    "    )\n",
    "    ax.set(\n",
    "        xlabel=r\"$t$\",\n",
    "        ylabel=r\"$P(X_t = x)$\",\n",
    "        title=r\"Probability distribution over the states $\\pi_t$ along time\",\n",
    "    )\n",
    "    ax.legend()\n",
    "\n",
    "plt.xticks(list(range(0, T + 1, 200)) + [120])\n",
    "plt.show()"
   ]
  },
  {
   "cell_type": "markdown",
   "metadata": {},
   "source": [
    "The figure above shows the evolution of the probability distributions $\\pi_t$ along time (for $\\pi_0=[1,0,0,0,0]$). \n",
    "\n",
    "One can clearly observe that the expected distributions (analytical) and the observed ones (simulated) are very similar. The vertical dashed grey line is the distribution analyzed above at $t=120$. It looks like our simulation corresponds to our expectations for all time steps."
   ]
  },
  {
   "cell_type": "markdown",
   "metadata": {},
   "source": [
    "## Task 3\n",
    "This time instead of validating the simulation at a particular time point, we validate the simulation by ensuring the empirical lifetime distribution matches the theoretical. We want to show that T follows a so-called discrete phase-type distribution. This distribution has a probability mass function. This distribution has probability mass function and means given as:\n",
    "\n",
    "$$\n",
    "P(T=t)=\\pi_0 (P_s)^t p_s\n",
    "$$\n",
    "\n",
    "$$\n",
    "E(T)= \\pi_0 (I-P_s)^{-1}1\n",
    "$$\n",
    "\n",
    "Where $\\pi_0$ is the distribution over the states 1-5 for $t=0$. $P_s$ is given as the sub-matrix 4x4 of $P$, where the last column and row are removed. $p_s$ is the column vector covering the probability of dying in states 1-4. Finally, 1 is a vector of ones of appropriate dimensions.\n",
    "\n"
   ]
  },
  {
   "cell_type": "code",
   "execution_count": null,
   "metadata": {},
   "outputs": [
    {
     "data": {
      "image/png": "[encoded data removed]",
      "text/plain": [
       "<Figure size 1440x288 with 1 Axes>"
      ]
     },
     "metadata": {
      "image/png": {
       "height": 281,
       "width": 1186
      },
      "needs_background": "light"
     },
     "output_type": "display_data"
    }
   ],
   "source": [
    "# probability mass function\n",
    "\n",
    "\n",
    "def pmf(t, pi, Ps, ps):\n",
    "    return pi @ np.linalg.matrix_power(Ps, t) @ ps\n",
    "\n",
    "\n",
    "# probability mass function for the sub-matrix 4x4 of P.\n",
    "def pmf2(t, p0, P_5x5):\n",
    "    return pmf(t, p0[:-1], P_5x5[:-1, :-1], P_5x5[:-1, -1])\n",
    "\n",
    "\n",
    "# mean\n",
    "def expectation(pi, Ps):\n",
    "    return pi @ np.linalg.pinv(np.identity(Ps.shape[0]) - Ps) @ np.ones(Ps.shape[0])\n",
    "\n",
    "\n",
    "# mean for the sub-matrix 4x4 of P.\n",
    "def expectation2(p0, P_5x5):\n",
    "    return expectation(p0[:-1], P_5x5[:-1, :-1])\n",
    "\n",
    "\n",
    "# true lifetimes\n",
    "lifetimes_true_pmf = np.array([pmf2(t, PIs_sim[0, :], P) for t in timesteps])\n",
    "\n",
    "# plotting\n",
    "fig, ax = plt.subplots(figsize=(20, 4))\n",
    "ax.plot(timesteps, lifetimes_true_pmf, color=\"red\", label=\"analytical\")\n",
    "ax.hist(\n",
    "    lifetimes,\n",
    "    bins=40,\n",
    "    density=True,\n",
    "    color=\"powderblue\",\n",
    "    edgecolor=\"darkslategrey\",\n",
    "    label=\"simulated\",\n",
    ")\n",
    "ax.set(xlabel=r\"Lifetime $t$ (months)\", ylabel=\"p\", title=\"Lifetime distribution\")\n",
    "ax.legend()\n",
    "plt.show()"
   ]
  },
  {
   "cell_type": "markdown",
   "metadata": {},
   "source": [
    "In the above figure, the simulation seems to follow the theoretical distribution. The distribution will be verifed with a $\\chi^2$-test because it is a discrete distribution."
   ]
  },
  {
   "cell_type": "code",
   "execution_count": null,
   "metadata": {},
   "outputs": [],
   "source": [
    "# Chi2 test for lifetimes distributions\n",
    "bin_width = 100\n",
    "bins = int(np.ceil(max(lifetimes) / bin_width))  # number of classes\n",
    "n_obs, bin_edges = np.histogram(lifetimes, bins=bins, range=(0, bin_width * bins))\n",
    "\n",
    "cdf = np.cumsum(lifetimes_true_pmf)\n",
    "f_exp = []\n",
    "for i in range(len(bin_edges) - 2):\n",
    "    f_exp += [\n",
    "        cdf[int(bin_edges[i + 1])] - cdf[int(bin_edges[i])]\n",
    "    ]  # P(z < X < y) = P(X<y) - P(X<z)\n",
    "f_exp += [1 - np.sum(f_exp)]  # Last bin has probability P(X>x) = 1 - P(X<x)\n",
    "\n",
    "n_exp = np.array(f_exp) * n\n",
    "\n",
    "chisq, p_value = stats.chisquare(n_obs, f_exp=n_exp)"
   ]
  },
  {
   "cell_type": "code",
   "execution_count": null,
   "metadata": {},
   "outputs": [
    {
     "data": {
      "image/png": "[encoded data removed]",
      "text/plain": [
       "<Figure size 1440x288 with 2 Axes>"
      ]
     },
     "metadata": {
      "image/png": {
       "height": 268,
       "width": 1156
      },
      "needs_background": "light"
     },
     "output_type": "display_data"
    },
    {
     "name": "stdout",
     "output_type": "stream",
     "text": [
      "Test statistic: 6.443556697655841\n",
      "p-value: 0.842192261469128\n"
     ]
    }
   ],
   "source": [
    "fig, axes = plt.subplots(1, 2, figsize=(20, 4))\n",
    "# Bar plot of distribution pi_120\n",
    "ax = axes[0]\n",
    "x = np.arange(bin_width / 2, bin_width * bins, bin_width)\n",
    "ax.plot(x, n_exp, \"ro\", ms=8, label=\"Expected distribution\", alpha=0.5)\n",
    "ax.vlines(x, 0, n_exp, colors=\"red\", lw=5, alpha=0.5)\n",
    "ax.hist(\n",
    "    lifetimes,\n",
    "    bins=bins,\n",
    "    range=(0, bin_width * bins),\n",
    "    color=\"powderblue\",\n",
    "    edgecolor=\"darkslategrey\",\n",
    "    label=\"Simulated distribution\",\n",
    ")\n",
    "ax.set(title=rf\"Lifetime ditribution (bins={bins}, width={bin_width})\")\n",
    "ax.legend()\n",
    "\n",
    "# Chi2 test plot\n",
    "ax = axes[1]\n",
    "df = bins - 1\n",
    "x = np.linspace(stats.chi2.ppf(0.01, df), stats.chi2.ppf(0.99, df), 100)\n",
    "y = stats.chi2.pdf(x, df)\n",
    "ax.plot(x, y, \"b-\", lw=1, alpha=0.6, label=r\"$\\chi^2$ pdf\")\n",
    "ax.vlines(x=chisq, ymin=0, ymax=max(y), color=\"green\", label=\"Test statistic\")\n",
    "ax.fill_between(\n",
    "    x,\n",
    "    0,\n",
    "    y,\n",
    "    where=x >= stats.chi2.ppf(0.95, df),\n",
    "    facecolor=\"red\",\n",
    "    alpha=0.3,\n",
    "    interpolate=True,\n",
    "    label=\"critical region\",\n",
    ")\n",
    "ax.set(title=r\"$\\chi^2$-test\")\n",
    "ax.legend()\n",
    "plt.show()\n",
    "\n",
    "print(\"Test statistic:\", chisq)\n",
    "print(\"p-value:\", p_value)"
   ]
  },
  {
   "cell_type": "markdown",
   "metadata": {},
   "source": [
    "Since the p-value > 0.05, the hypothesis that the simulated distribution follows the analytical distribution is not rejected.\n",
    "The plot of the left shows the lifefetimes divided into $bins$ classes and the plot on the right shows the $\\chi^2$-test. \n",
    "\n",
    "Here, we show the lifetimes divided into 12 classes, each of width 100 months. The last class accounts for lifetimes in $[1100,\\infty]$. We experimented with dividing the distribution into multiple numbers of classes. Each time, the test did not reject the null hypothesis.\n",
    "\n",
    "Note that with bins of width 1, this is equivalent to have one class per timestep $t$."
   ]
  },
  {
   "cell_type": "markdown",
   "metadata": {},
   "source": [
    "This is also investigated by calculating the Confidence interval.\n",
    "\n",
    "Confidence interval for the mean of $n$ estimates, $\\hat{\\theta}_1,\\dots,\\hat{\\theta}_2$:\n",
    "$$\n",
    "\\bar{\\theta} = \\frac{\\sum_{i=1}^n\\hat{\\theta}_i}{n}\n",
    "$$\n",
    "$$\n",
    "S_{\\theta}^2 = \\frac{1}{n-1}\\sum_{i=1}^n(\\hat{\\theta}_i^2 - \\bar{\\theta})\n",
    "$$\n",
    "$$\n",
    "\\left[\\bar{\\theta} + \\frac{S_{\\theta}}{\\sqrt{n}} t_{\\frac{\\alpha}{2}}\\: ; \\: \\bar{\\theta} + \\frac{S_{\\theta}}{\\sqrt{n}} t_{1-\\frac{\\alpha}{2}} \\right]\n",
    "$$\n",
    "where $t$ is the quantile from the t-distribution with $n-1$ degrees of freedom.\n"
   ]
  },
  {
   "cell_type": "code",
   "execution_count": null,
   "metadata": {},
   "outputs": [],
   "source": [
    "def confidence_interval_mean(X, alpha=0.05):\n",
    "    n = len(X)\n",
    "    mean = np.mean(X)\n",
    "    var = np.var(X, ddof=1)\n",
    "    qt = stats.t.interval(1 - alpha, df=n - 1)\n",
    "    conf = mean + np.array(qt) * np.sqrt(var) / np.sqrt(n)\n",
    "    return conf"
   ]
  },
  {
   "cell_type": "code",
   "execution_count": null,
   "metadata": {},
   "outputs": [
    {
     "name": "stdout",
     "output_type": "stream",
     "text": [
      "analytical - mean: 262.37161531279315\n",
      "simulation - mean: 268.032, 95.0%-confidence interval: [256.16925041 279.89474959]\n"
     ]
    }
   ],
   "source": [
    "alpha = 0.05\n",
    "lifetime_conf = confidence_interval_mean(lifetimes, alpha)\n",
    "\n",
    "lifetime_mean_analytical = expectation2(PIs_sim[0, :], P)\n",
    "lifetime_mean = np.mean(lifetimes)\n",
    "print(\"analytical - mean:\", lifetime_mean_analytical)\n",
    "print(\n",
    "    \"simulation - mean: {}, {}%-confidence interval: {}\".format(\n",
    "        lifetime_mean, (1 - alpha) * 100, lifetime_conf\n",
    "    )\n",
    ")"
   ]
  },
  {
   "cell_type": "markdown",
   "metadata": {},
   "source": [
    "Notice, the analytical mean is within the 95% confidence interval of the simulated mean."
   ]
  },
  {
   "cell_type": "markdown",
   "metadata": {},
   "source": [
    "## Task 4\n",
    "\n",
    "In this task, we want to simulate 1000 women who meet specific requirements. The requirement is that we want women who survive the first 12 months following surgery, but their breast cancer has also reappeared within the first 12 months, either locally or distant. \n",
    "\n",
    "To estimate these 1000 women, we start by simulating a large number of women that hopefully has enough that relapse. Then we filter for the woman that survives and cancer has reappeared in the first 12 months. Then we can check that the simulation cover 1000 women. If not, we will increase the first simulation number.\n",
    "\n",
    "The estimated expected lifetime is presented in a histogram below."
   ]
  },
  {
   "cell_type": "code",
   "execution_count": null,
   "metadata": {},
   "outputs": [],
   "source": [
    "# simulate women (assuming 20000 has enough that relapse)\n",
    "women_relapsed, lifetime_relapsed, _, _ = breast_cancer_simulation(\n",
    "    P, n=20000, Tmax=2000\n",
    ")\n",
    "\n",
    "# filter women who: who, in the first 12 months, survived but relapsed\n",
    "survived_idx = np.argwhere(women_relapsed[12, :] < 5)  # survived\n",
    "relapsed_idx = np.argwhere(women_relapsed[12, :] > 1)  # relapsed\n",
    "\n",
    "filtered_idx = np.intersect1d(survived_idx, relapsed_idx)\n",
    "\n",
    "if len(filtered_idx) < 1000:\n",
    "    print(f\"Not enough women simulated! {len(filtered_idx)}/1000\")\n",
    "\n",
    "# Take 1000 acceptable simulations\n",
    "women_relapsed = women_relapsed[:, filtered_idx[:1000]]\n",
    "lifetime_relapsed = lifetime_relapsed[filtered_idx[:1000]]"
   ]
  },
  {
   "cell_type": "code",
   "execution_count": null,
   "metadata": {},
   "outputs": [
    {
     "name": "stdout",
     "output_type": "stream",
     "text": [
      "Expected lifetime: 175.07 months for relapsed women\n"
     ]
    },
    {
     "data": {
      "image/png": "[encoded data removed]",
      "text/plain": [
       "<Figure size 1440x288 with 1 Axes>"
      ]
     },
     "metadata": {
      "image/png": {
       "height": 281,
       "width": 1170
      },
      "needs_background": "light"
     },
     "output_type": "display_data"
    },
    {
     "data": {
      "image/png": "[encoded data removed]",
      "text/plain": [
       "<Figure size 1440x288 with 1 Axes>"
      ]
     },
     "metadata": {
      "image/png": {
       "height": 281,
       "width": 1130
      },
      "needs_background": "light"
     },
     "output_type": "display_data"
    },
    {
     "data": {
      "application/vnd.deepnote.dataframe.v3+json": {
       "column_count": 8,
       "columns": [
        {
         "dtype": "float64",
         "name": "count",
         "stats": {
          "histogram": [
           {
            "bin_end": 999.6,
            "bin_start": 999.5,
            "count": 0
           },
           {
            "bin_end": 999.7,
            "bin_start": 999.6,
            "count": 0
           },
           {
            "bin_end": 999.8,
            "bin_start": 999.7,
            "count": 0
           },
           {
            "bin_end": 999.9,
            "bin_start": 999.8,
            "count": 0
           },
           {
            "bin_end": 1000,
            "bin_start": 999.9,
            "count": 0
           },
           {
            "bin_end": 1000.1,
            "bin_start": 1000,
            "count": 1
           },
           {
            "bin_end": 1000.2,
            "bin_start": 1000.1,
            "count": 0
           },
           {
            "bin_end": 1000.3,
            "bin_start": 1000.2,
            "count": 0
           },
           {
            "bin_end": 1000.4,
            "bin_start": 1000.3,
            "count": 0
           },
           {
            "bin_end": 1000.5,
            "bin_start": 1000.4,
            "count": 0
           }
          ],
          "max": "1000.0",
          "min": "1000.0",
          "nan_count": 0,
          "unique_count": 1
         }
        },
        {
         "dtype": "float64",
         "name": "mean",
         "stats": {
          "histogram": [
           {
            "bin_end": 174.671,
            "bin_start": 174.571,
            "count": 0
           },
           {
            "bin_end": 174.771,
            "bin_start": 174.671,
            "count": 0
           },
           {
            "bin_end": 174.871,
            "bin_start": 174.771,
            "count": 0
           },
           {
            "bin_end": 174.971,
            "bin_start": 174.871,
            "count": 0
           },
           {
            "bin_end": 175.071,
            "bin_start": 174.971,
            "count": 0
           },
           {
            "bin_end": 175.171,
            "bin_start": 175.071,
            "count": 1
           },
           {
            "bin_end": 175.271,
            "bin_start": 175.171,
            "count": 0
           },
           {
            "bin_end": 175.371,
            "bin_start": 175.271,
            "count": 0
           },
           {
            "bin_end": 175.471,
            "bin_start": 175.371,
            "count": 0
           },
           {
            "bin_end": 175.571,
            "bin_start": 175.471,
            "count": 0
           }
          ],
          "max": "175.071",
          "min": "175.071",
          "nan_count": 0,
          "unique_count": 1
         }
        },
        {
         "dtype": "float64",
         "name": "std",
         "stats": {
          "histogram": [
           {
            "bin_end": 149.76784056294923,
            "bin_start": 149.66784056294924,
            "count": 0
           },
           {
            "bin_end": 149.86784056294923,
            "bin_start": 149.76784056294923,
            "count": 0
           },
           {
            "bin_end": 149.96784056294925,
            "bin_start": 149.86784056294923,
            "count": 0
           },
           {
            "bin_end": 150.06784056294924,
            "bin_start": 149.96784056294925,
            "count": 0
           },
           {
            "bin_end": 150.16784056294924,
            "bin_start": 150.06784056294924,
            "count": 0
           },
           {
            "bin_end": 150.26784056294923,
            "bin_start": 150.16784056294924,
            "count": 1
           },
           {
            "bin_end": 150.36784056294923,
            "bin_start": 150.26784056294923,
            "count": 0
           },
           {
            "bin_end": 150.46784056294925,
            "bin_start": 150.36784056294923,
            "count": 0
           },
           {
            "bin_end": 150.56784056294924,
            "bin_start": 150.46784056294925,
            "count": 0
           },
           {
            "bin_end": 150.66784056294924,
            "bin_start": 150.56784056294924,
            "count": 0
           }
          ],
          "max": "150.16784056294924",
          "min": "150.16784056294924",
          "nan_count": 0,
          "unique_count": 1
         }
        },
        {
         "dtype": "float64",
         "name": "min",
         "stats": {
          "histogram": [
           {
            "bin_end": 11.6,
            "bin_start": 11.5,
            "count": 0
           },
           {
            "bin_end": 11.7,
            "bin_start": 11.6,
            "count": 0
           },
           {
            "bin_end": 11.8,
            "bin_start": 11.7,
            "count": 0
           },
           {
            "bin_end": 11.9,
            "bin_start": 11.8,
            "count": 0
           },
           {
            "bin_end": 12,
            "bin_start": 11.9,
            "count": 0
           },
           {
            "bin_end": 12.1,
            "bin_start": 12,
            "count": 1
           },
           {
            "bin_end": 12.2,
            "bin_start": 12.1,
            "count": 0
           },
           {
            "bin_end": 12.3,
            "bin_start": 12.2,
            "count": 0
           },
           {
            "bin_end": 12.4,
            "bin_start": 12.3,
            "count": 0
           },
           {
            "bin_end": 12.5,
            "bin_start": 12.4,
            "count": 0
           }
          ],
          "max": "12.0",
          "min": "12.0",
          "nan_count": 0,
          "unique_count": 1
         }
        },
        {
         "dtype": "float64",
         "name": "25%",
         "stats": {
          "histogram": [
           {
            "bin_end": 66.6,
            "bin_start": 66.5,
            "count": 0
           },
           {
            "bin_end": 66.7,
            "bin_start": 66.6,
            "count": 0
           },
           {
            "bin_end": 66.8,
            "bin_start": 66.7,
            "count": 0
           },
           {
            "bin_end": 66.9,
            "bin_start": 66.8,
            "count": 0
           },
           {
            "bin_end": 67,
            "bin_start": 66.9,
            "count": 0
           },
           {
            "bin_end": 67.1,
            "bin_start": 67,
            "count": 1
           },
           {
            "bin_end": 67.2,
            "bin_start": 67.1,
            "count": 0
           },
           {
            "bin_end": 67.3,
            "bin_start": 67.2,
            "count": 0
           },
           {
            "bin_end": 67.4,
            "bin_start": 67.3,
            "count": 0
           },
           {
            "bin_end": 67.5,
            "bin_start": 67.4,
            "count": 0
           }
          ],
          "max": "67.0",
          "min": "67.0",
          "nan_count": 0,
          "unique_count": 1
         }
        },
        {
         "dtype": "float64",
         "name": "50%",
         "stats": {
          "histogram": [
           {
            "bin_end": 134.6,
            "bin_start": 134.5,
            "count": 0
           },
           {
            "bin_end": 134.7,
            "bin_start": 134.6,
            "count": 0
           },
           {
            "bin_end": 134.8,
            "bin_start": 134.7,
            "count": 0
           },
           {
            "bin_end": 134.9,
            "bin_start": 134.8,
            "count": 0
           },
           {
            "bin_end": 135,
            "bin_start": 134.9,
            "count": 0
           },
           {
            "bin_end": 135.1,
            "bin_start": 135,
            "count": 1
           },
           {
            "bin_end": 135.2,
            "bin_start": 135.1,
            "count": 0
           },
           {
            "bin_end": 135.3,
            "bin_start": 135.2,
            "count": 0
           },
           {
            "bin_end": 135.4,
            "bin_start": 135.3,
            "count": 0
           },
           {
            "bin_end": 135.5,
            "bin_start": 135.4,
            "count": 0
           }
          ],
          "max": "135.0",
          "min": "135.0",
          "nan_count": 0,
          "unique_count": 1
         }
        },
        {
         "dtype": "float64",
         "name": "75%",
         "stats": {
          "histogram": [
           {
            "bin_end": 236.85,
            "bin_start": 236.75,
            "count": 0
           },
           {
            "bin_end": 236.95,
            "bin_start": 236.85,
            "count": 0
           },
           {
            "bin_end": 237.05,
            "bin_start": 236.95,
            "count": 0
           },
           {
            "bin_end": 237.15,
            "bin_start": 237.05,
            "count": 0
           },
           {
            "bin_end": 237.25,
            "bin_start": 237.15,
            "count": 0
           },
           {
            "bin_end": 237.35,
            "bin_start": 237.25,
            "count": 1
           },
           {
            "bin_end": 237.45,
            "bin_start": 237.35,
            "count": 0
           },
           {
            "bin_end": 237.55,
            "bin_start": 237.45,
            "count": 0
           },
           {
            "bin_end": 237.65,
            "bin_start": 237.55,
            "count": 0
           },
           {
            "bin_end": 237.75,
            "bin_start": 237.65,
            "count": 0
           }
          ],
          "max": "237.25",
          "min": "237.25",
          "nan_count": 0,
          "unique_count": 1
         }
        },
        {
         "dtype": "float64",
         "name": "max",
         "stats": {
          "histogram": [
           {
            "bin_end": 946.6,
            "bin_start": 946.5,
            "count": 0
           },
           {
            "bin_end": 946.7,
            "bin_start": 946.6,
            "count": 0
           },
           {
            "bin_end": 946.8,
            "bin_start": 946.7,
            "count": 0
           },
           {
            "bin_end": 946.9,
            "bin_start": 946.8,
            "count": 0
           },
           {
            "bin_end": 947,
            "bin_start": 946.9,
            "count": 0
           },
           {
            "bin_end": 947.1,
            "bin_start": 947,
            "count": 1
           },
           {
            "bin_end": 947.2,
            "bin_start": 947.1,
            "count": 0
           },
           {
            "bin_end": 947.3,
            "bin_start": 947.2,
            "count": 0
           },
           {
            "bin_end": 947.4,
            "bin_start": 947.3,
            "count": 0
           },
           {
            "bin_end": 947.5,
            "bin_start": 947.4,
            "count": 0
           }
          ],
          "max": "947.0",
          "min": "947.0",
          "nan_count": 0,
          "unique_count": 1
         }
        },
        {
         "dtype": "object",
         "name": "_deepnote_index_column"
        }
       ],
       "row_count": 1,
       "rows": [
        {
         "25%": 67,
         "50%": 135,
         "75%": 237.25,
         "_deepnote_index_column": "lifetime_relapsed",
         "count": 1000,
         "max": 947,
         "mean": 175.071,
         "min": 12,
         "std": 150.16784056294924
        }
       ]
      },
      "text/html": [
       "<div>\n",
       "<style scoped>\n",
       "    .dataframe tbody tr th:only-of-type {\n",
       "        vertical-align: middle;\n",
       "    }\n",
       "\n",
       "    .dataframe tbody tr th {\n",
       "        vertical-align: top;\n",
       "    }\n",
       "\n",
       "    .dataframe thead th {\n",
       "        text-align: right;\n",
       "    }\n",
       "</style>\n",
       "<table border=\"1\" class=\"dataframe\">\n",
       "  <thead>\n",
       "    <tr style=\"text-align: right;\">\n",
       "      <th></th>\n",
       "      <th>count</th>\n",
       "      <th>mean</th>\n",
       "      <th>std</th>\n",
       "      <th>min</th>\n",
       "      <th>25%</th>\n",
       "      <th>50%</th>\n",
       "      <th>75%</th>\n",
       "      <th>max</th>\n",
       "    </tr>\n",
       "  </thead>\n",
       "  <tbody>\n",
       "    <tr>\n",
       "      <th>lifetime_relapsed</th>\n",
       "      <td>1000.0</td>\n",
       "      <td>175.071</td>\n",
       "      <td>150.167841</td>\n",
       "      <td>12.0</td>\n",
       "      <td>67.0</td>\n",
       "      <td>135.0</td>\n",
       "      <td>237.25</td>\n",
       "      <td>947.0</td>\n",
       "    </tr>\n",
       "  </tbody>\n",
       "</table>\n",
       "</div>"
      ],
      "text/plain": [
       "                    count     mean         std   min   25%    50%     75%  \\\n",
       "lifetime_relapsed  1000.0  175.071  150.167841  12.0  67.0  135.0  237.25   \n",
       "\n",
       "                     max  \n",
       "lifetime_relapsed  947.0  "
      ]
     },
     "metadata": {},
     "output_type": "display_data"
    }
   ],
   "source": [
    "# Summary of lifetime distribution\n",
    "print(f\"Expected lifetime: {np.mean(lifetime_relapsed):3.2f} months for relapsed women\")\n",
    "\n",
    "fig, ax = plt.subplots(figsize=(20, 4))\n",
    "ax.hist(lifetime_relapsed, bins=40, color=\"pink\", edgecolor=\"crimson\")\n",
    "ax.set(\n",
    "    xlabel=r\"Lifetime $t$ (months)\",\n",
    "    ylabel=\"count\",\n",
    "    title=\"Lifetime distribution of 1000 relapsed women surviving the first 12 months\",\n",
    ")\n",
    "plt.show()\n",
    "\n",
    "fig, ax = plt.subplots(figsize=(20, 4))\n",
    "ax = sns.boxplot(\n",
    "    x=lifetime_relapsed,\n",
    "    linewidth=2.5,\n",
    "    color=\"pink\",\n",
    "    medianprops=dict(color=\"crimson\", alpha=0.7),\n",
    "    showmeans=True,\n",
    "    meanline=True,\n",
    "    meanprops={\"color\": \"white\"},\n",
    ")\n",
    "ax.set(\n",
    "    xlabel=r\"Lifetime $t$ (months)\",\n",
    "    title=\"Boxplot of 1000 relapsed women surviving the first 12 months\",\n",
    ")\n",
    "plt.show()\n",
    "\n",
    "# Descriptive statistics\n",
    "df_describe = pd.DataFrame(lifetime_relapsed, columns=[\"lifetime_relapsed\"])\n",
    "display(df_describe.describe().T)"
   ]
  },
  {
   "cell_type": "markdown",
   "metadata": {},
   "source": [
    "Obviously, in this case the minimum value of lifetimes is $\\geq 12$. The maximum lifetime is lower than before, i.e. it seems like the woman that lived for a very long time previously were not wowen that relapsed in the first year.\n",
    "\n",
    "For these women, their lifetime is shorter on average—they live about 14 years after surgery. This sample distribution looks different from the one with all types of women. Here, it peaks sooner and steadily decreases over time. It is maybe close to an exponential distribution."
   ]
  },
  {
   "cell_type": "markdown",
   "metadata": {},
   "source": [
    "## Task 5\n",
    "In this task, we want to investigate the fraction of women that will die in the first 350 months. First, we are simulation 200 women to calculate the fraction and repeat this 100 times. This method is also called Crude Monte Carlo estimation. Then, to reduce variance, we use the mean lifetime after surgery of the 200 simulations as control variates (see formula below).\n",
    "\n",
    "$Z = X + c * (Y - \\bar Y)$,\n",
    "\n",
    "where \n",
    "\n",
    "$c = \\frac{-Cov(X, Y)} {Var(Y)}$\n"
   ]
  },
  {
   "cell_type": "code",
   "execution_count": null,
   "metadata": {},
   "outputs": [],
   "source": [
    "def compute_estimator(N_repeats, N_women, T_max):\n",
    "    X = []  # Crude Monte Carlo estimators : fraction of survivors\n",
    "    Y = []  # Control variates : mean lifetime after surgery\n",
    "\n",
    "    # make N_repeats\n",
    "    for i in range(N_repeats):\n",
    "        # simulate for N_women\n",
    "        women_die, lifetime_die, _, _ = breast_cancer_simulation(\n",
    "            P, n=N_women, Tmax=T_max\n",
    "        )\n",
    "        # Count number of dead women\n",
    "        died = (women_die[350, :] == 5).sum()\n",
    "\n",
    "        # fraction of women who died\n",
    "        X += [died / N_women]\n",
    "        Y += [np.mean(lifetime_die)]\n",
    "\n",
    "    # convert to numpy\n",
    "    X = np.array(X)\n",
    "    Y = np.array(Y)\n",
    "\n",
    "    return X, Y"
   ]
  },
  {
   "cell_type": "code",
   "execution_count": null,
   "metadata": {},
   "outputs": [],
   "source": [
    "def visualize_results(confidence_inters, truth=None):\n",
    "    methods_idx = {\n",
    "        k: i\n",
    "        for k, i in zip(\n",
    "            confidence_inters.keys(), np.arange(1, len(confidence_inters) + 1)\n",
    "        )\n",
    "    }\n",
    "    fig, ax = plt.subplots(1, 1, figsize=(10, 4))\n",
    "\n",
    "    if truth:\n",
    "        ax.vlines(\n",
    "            x=truth,\n",
    "            ymin=0,\n",
    "            ymax=len(confidence_inters) + 1,\n",
    "            linestyles=\"--\",\n",
    "            color=\"grey\",\n",
    "            label=\"Truth\",\n",
    "        )\n",
    "\n",
    "    for method, interval in confidence_inters.items():\n",
    "        ax.plot(interval, np.full((2,), methods_idx[method]), marker=\"o\", label=method)\n",
    "    ax.legend()\n",
    "    ax.set(xlabel=\"Confidence interval\", ylabel=\"Simulation\")\n",
    "    ax.set_yticks([])\n",
    "    plt.show()"
   ]
  },
  {
   "cell_type": "code",
   "execution_count": null,
   "metadata": {},
   "outputs": [
    {
     "name": "stdout",
     "output_type": "stream",
     "text": [
      "Estimated mean: 0.7358500000000001, Difference from true mean: 0.002036800587965626\n",
      "Estimated mean: 0.7358500000000001, Difference from true mean: 0.002036800587965626\n",
      "Control Variate -> reduction in variance: 0.000524670702690182\n"
     ]
    },
    {
     "data": {
      "image/png": "[encoded data removed]",
      "text/plain": [
       "<Figure size 720x288 with 1 Axes>"
      ]
     },
     "metadata": {
      "image/png": {
       "height": 262,
       "width": 592
      },
      "needs_background": "light"
     },
     "output_type": "display_data"
    }
   ],
   "source": [
    "# run the fraction calculator crude monte carlo estimator\n",
    "N_repeats = 100\n",
    "N_women = 200\n",
    "T_max = 2000  # 350\n",
    "\n",
    "X, Y = compute_estimator(N_repeats, N_women, T_max)\n",
    "\n",
    "# truth: women dead within 350 months\n",
    "truth = PIs_analytical[350, 4]\n",
    "\n",
    "# initial lists\n",
    "confidence_inters = {}\n",
    "estimates_var = {}\n",
    "\n",
    "# Calculate expected mean - Crude monte carlo\n",
    "point_estimate = np.mean(X)\n",
    "print(\n",
    "    f\"Estimated mean: {point_estimate}, Difference from true mean: {abs(point_estimate - truth)}\"\n",
    ")\n",
    "\n",
    "# Add to the lists\n",
    "confidence_inters[\"Crude Monte Carlo\"] = confidence_interval_mean(X, alpha=0.05)\n",
    "estimates_var[\"Crude Monte Carlo\"] = np.var(X)\n",
    "\n",
    "# Control variate (expected lifetime after surgery)\n",
    "mu_Y = np.mean(Y)\n",
    "c = -np.cov(X, Y)[0][1] / np.var(Y)\n",
    "# New estimator: variable Z\n",
    "Z = X + c * (Y - mu_Y)\n",
    "point_estimate = np.mean(Z)\n",
    "print(\n",
    "    f\"Estimated mean: {point_estimate}, Difference from true mean: {abs(point_estimate - truth)}\"\n",
    ")\n",
    "\n",
    "# Add to the lists\n",
    "confidence_inters[\"Control Variate\"] = confidence_interval_mean(Z, alpha=0.05)\n",
    "estimates_var[\"Control Variate\"] = np.var(Z)\n",
    "\n",
    "print(\n",
    "    \"Control Variate -> reduction in variance:\",\n",
    "    abs(estimates_var[\"Control Variate\"] - estimates_var[\"Crude Monte Carlo\"]),\n",
    ")\n",
    "\n",
    "visualize_results(confidence_inters, truth)"
   ]
  },
  {
   "cell_type": "markdown",
   "metadata": {},
   "source": [
    "The fraction of women who dies within the first 350 months (before the age of 30) is computed from the number of women in state five according to the Expected distribution $\\pi_{t=350}$. The reduction in variance is marginal."
   ]
  },
  {
   "cell_type": "markdown",
   "metadata": {},
   "source": [
    "## Task 6"
   ]
  },
  {
   "cell_type": "markdown",
   "metadata": {},
   "source": [
    "Assumptions underlying the discrete time Markov chain model:\n",
    "\n",
    "* Women do not undergo another surgery after either a local or distant ressurgence appears (state 1 is not accessible from state 2,3 or 4).\n",
    "\n",
    "* We observed the case whe some women have a lifetime of more than 100 years after surgery. This is not realistic.\n",
    "\n",
    "* The model only considers 5 different states and only two kinds of cancer reappearance. There might be more types of cancer, with different survival rate. \n",
    "\n",
    "\n",
    "* The discrete Markov chain assumes transitions occur once a month. However, transitions for the breast-cancer model should occur continously. Thus, a continuous-time Markov chain is applicable. "
   ]
  },
  {
   "cell_type": "markdown",
   "metadata": {},
   "source": [
    "# Part 2: A continuous-time model\n",
    "\n",
    "In the previous part, we assumed transitions from one state to another only\n",
    "happened once a month. In a more realistic model, transitions may occur\n",
    "at any time. Markov chains where transitions occur in continuous time are\n",
    "called Continuous-Time Markov Chains (CTMC). A CTMC is specified by\n",
    "a transition-rate matrix.\n",
    "\n",
    "$$\n",
    "Q = \\begin{bmatrix} q_{11} & q_{12} & \\cdots & q_{1N} \\\\ q_{21} & q_{22} & \\cdots & q_{2N} \\\\ \\vdots & \\vdots & \\ddots & \\vdots \\\\ q_{N1} & q_{N2} & \\cdots & q_{NN} \\end{bmatrix}\n",
    "$$\n",
    "\n",
    "## Task 7\n",
    "\n",
    "As before, we choose one time-unit equal to one month.\n",
    "\n",
    "Use transition matrix $Q$ below.\n",
    "\n",
    "Simulate 1000 women, all starting in state 1, until death. Summarize the\n",
    "lifetime distribution after surgery, for example in a histogram. Report the\n",
    "mean, along with a confidence interval, and the standard deviation, also\n",
    "with a confidence interval. In what proportion of women has the cancer\n",
    "reappeared distantly after 30.5 months?"
   ]
  },
  {
   "cell_type": "code",
   "execution_count": null,
   "metadata": {},
   "outputs": [],
   "source": [
    "Q = [\n",
    "    [-0.0085, 0.005, 0.0025, 0, 0.001],\n",
    "    [0, -0.014, 0.005, 0.004, 0.005],\n",
    "    [0, 0, -0.008, 0.003, 0.005],\n",
    "    [0, 0, 0, -0.009, 0.009],\n",
    "    [0, 0, 0, 0, 0],\n",
    "]\n",
    "Q = np.array(Q)"
   ]
  },
  {
   "cell_type": "markdown",
   "metadata": {},
   "source": [
    "After the sojourn time is up in state $i$, the CTMC jumps to state $j$ with probability $\\dfrac{-q_{ij}}{q_{ii}}$ given $i \\neq j$. \n",
    "\n",
    "If $i = j$ the transition probability becomes negative so it is set to 0."
   ]
  },
  {
   "cell_type": "code",
   "execution_count": null,
   "metadata": {},
   "outputs": [],
   "source": [
    "def sample_q(i):\n",
    "    ### starting in state i, compute probabilities of moving to state 0...k\n",
    "    probs = [-Q[i][k] / Q[i][i] for k in range(Q.shape[1])]\n",
    "\n",
    "    ### -Q[k][k]/Q[k][k] = -1\n",
    "    ### can't move to same state so set probability to 0 where its -1\n",
    "    probs = [0.0 if x < 0.0 else x for x in probs]\n",
    "\n",
    "    ### pick a new state based on probabilities defined before\n",
    "    i_star = np.random.choice([0, 1, 2, 3, 4], p=probs)\n",
    "\n",
    "    return i_star"
   ]
  },
  {
   "cell_type": "markdown",
   "metadata": {},
   "source": [
    "The sojourn time in state $i$ is exponentially distributed with rate $-q_{ii}$. If a person is dead (i.e. in state 5) we set the sojourn time to infinity."
   ]
  },
  {
   "cell_type": "code",
   "execution_count": null,
   "metadata": {},
   "outputs": [],
   "source": [
    "def sj_time_point(Q, i):\n",
    "    if i == Q.shape[0] - 1:  ### person is dead so not transitioning ever\n",
    "        return np.inf\n",
    "    else:\n",
    "        return np.random.exponential(scale=1 / -Q[i][i])"
   ]
  },
  {
   "cell_type": "code",
   "execution_count": null,
   "metadata": {},
   "outputs": [],
   "source": [
    "### initialise list of lists\n",
    "### with each person having state 0 and waiting time = sj_times[0]\n",
    "\n",
    "\n",
    "def init_people(n):\n",
    "    ### lst = [(state, time left), (state, time left) ... ]\n",
    "    lst = []\n",
    "    for _ in range(n):\n",
    "        lst.append((0, sj_time_point(Q, 0)))\n",
    "    return np.array(lst)"
   ]
  },
  {
   "cell_type": "markdown",
   "metadata": {},
   "source": [
    "We now show the main loop of the simulation program for the continuous case. We have $n$ women and a maximum iteration limit period $T$. $T$ is given to initialise the sizes of the arrays ```women``` and ```alive```. The two arrays hold information on the state of each woman at timestep $t$ and the number of women alive at timestep $t$ respectively. Timestep $t$ is the actual continuous time and is incremented based on an event list. The simulation terminates when all women are dead. Since we don't know when the simulation would end, we use $i$ to track the iteration of the simulation program and provide that information. As before the aim of the program is to update the state of every woman when the sojourn period is up for that woman. The state is updated based on probabilies calculated using values from the matrix $Q$. This is done in the ```sample_q(i)``` function above. After a state update, a new sojourn time is drawn using the ```sj_time_point(Q, i)``` function above.\n",
    "\n",
    "The program follows the following steps:\n",
    "\n",
    "* **Step 1:** Initialization. All women are healthy. For each woman we draw the sojourn time for being in state 0 (healthy). We store both the state and sojourn time for each woman. This is the event list ```people```.\n",
    "* **Step 2:** While atleast one alive:  \n",
    "    * **Step 3:** We extract the minimum sojourn time ```next_event_time``` from the event list. \n",
    "    * **Step 4:** If ```next_event_time``` is infinity then everyone is dead and we exit the simulation.\n",
    "    * **Step 5:** For each woman in the event list we update the sojourn time by subtracting ```next_event_time``` from the sojourn time. \n",
    "    * **Step 6:** For all women where the updated time is 0, we transition to a new state and update the sojourn time by drawing a new time for being in that state.\n",
    "    * **Step 7:** We update timestep $t$ to the ```next_event_time```.\n",
    "    * **Step 8:** We increment $i$.\n",
    "\n",
    "Below is the program presented.\n"
   ]
  },
  {
   "cell_type": "code",
   "execution_count": null,
   "metadata": {},
   "outputs": [],
   "source": [
    "def ctmc_sim(Q, n, T):\n",
    "    t = 0\n",
    "\n",
    "    people = init_people(n)  ### [(state, time left), (state, time left) ... ]\n",
    "    lifetime = np.zeros((n,))\n",
    "    alive = np.zeros((T, 2))  ### [[t1, no.alive], [t2, no.alive] ... ]\n",
    "    alive[0, :] = [0, n]\n",
    "    women = np.zeros(\n",
    "        (T, n + 1)\n",
    "    )  # Timestep column + n women columns: [[t1, states], [t2, states], [ t3, states]...]\n",
    "\n",
    "    i = 0\n",
    "    while True:\n",
    "        ### extract min waiting time from people list\n",
    "        next_event_time = np.min([x[1] for x in people])\n",
    "\n",
    "        ### if min is np.inf exit loop as everyone is dead\n",
    "        if next_event_time == np.inf:\n",
    "            break\n",
    "\n",
    "        ### subtract waiting times in people list with next_event_time\n",
    "        people = np.array([(x[0], x[1] - next_event_time) for x in people])\n",
    "\n",
    "        ### for all people with remaining waiting time == 0 update their state\n",
    "        ### first update state\n",
    "        people = np.array(\n",
    "            [\n",
    "                (sample_q(int(x[0])), x[1]) if x[1] == 0.0 else (x[0], x[1])\n",
    "                for x in people\n",
    "            ]\n",
    "        )\n",
    "\n",
    "        ### then update waiting time by drawing a new waiting time from exp()\n",
    "        people = np.array(\n",
    "            [\n",
    "                (x[0], sj_time_point(Q, int(x[0]))) if x[1] == 0.0 else (x[0], x[1])\n",
    "                for x in people\n",
    "            ]\n",
    "        )\n",
    "\n",
    "        people_times = np.array([x[1] for x in people])\n",
    "        ### get indices of alive people\n",
    "        idx = np.argwhere(people_times != np.inf)\n",
    "\n",
    "        ### move time forward\n",
    "        t += next_event_time\n",
    "\n",
    "        ### update lifetimes\n",
    "        lifetime[idx] = t\n",
    "\n",
    "        ### update index\n",
    "        i += 1\n",
    "\n",
    "        ### extract updated states for each woman\n",
    "        updated_states = [x[0] for x in people]\n",
    "        ### put timestep in 0'th index\n",
    "        updated_states = np.insert(updated_states, 0, t)\n",
    "        ### append\n",
    "        women[i, :] = np.array(updated_states)\n",
    "\n",
    "        ### update number of women alive\n",
    "        alive_counts = [1 if x[1] != np.inf else 0 for x in people]\n",
    "        alive_counts = np.array(np.sum(np.array(alive_counts)))\n",
    "        ### insert timestamp\n",
    "        alive_counts = np.insert(alive_counts, 0, t)\n",
    "        alive[i, :] = np.array(alive_counts)\n",
    "\n",
    "    return lifetime, people, t, women[: i + 1, :], alive[: i + 1, :], i"
   ]
  },
  {
   "cell_type": "code",
   "execution_count": null,
   "metadata": {},
   "outputs": [],
   "source": [
    "lifetime, people, t, women, alive, end_index = ctmc_sim(Q, n, T=5000)"
   ]
  },
  {
   "cell_type": "code",
   "execution_count": null,
   "metadata": {},
   "outputs": [
    {
     "name": "stdout",
     "output_type": "stream",
     "text": [
      "Simulation ended, i.e. all women died, after 1243.440722759823 months (103.62 years).\n"
     ]
    }
   ],
   "source": [
    "### assert that all women are dead at end of simulation\n",
    "assert np.all(people[:, 1] == np.inf)  ### time is np.inf\n",
    "assert np.all(people[:, 0] == 4)  ### state is 4\n",
    "assert np.all(women[-1, 1:].astype(np.int32) == 4)  ### state is 4\n",
    "print(\n",
    "    \"Simulation ended, i.e. all women died, after {} months ({:.2f} years).\".format(\n",
    "        t, t / 12\n",
    "    )\n",
    ")"
   ]
  },
  {
   "cell_type": "markdown",
   "metadata": {},
   "source": [
    "The simulation ends when all women are dead. Similar to before we see this happens after about 100 years and again it is unrealistic for a person to live that long.\n",
    "\n",
    "Next, we look at a histogram of the lifetime distribution and a boxplot."
   ]
  },
  {
   "cell_type": "code",
   "execution_count": null,
   "metadata": {},
   "outputs": [
    {
     "data": {
      "image/png": "[encoded data removed]",
      "text/plain": [
       "<Figure size 1440x288 with 1 Axes>"
      ]
     },
     "metadata": {
      "image/png": {
       "height": 281,
       "width": 1170
      },
      "needs_background": "light"
     },
     "output_type": "display_data"
    },
    {
     "data": {
      "image/png": "[encoded data removed]",
      "text/plain": [
       "<Figure size 1440x288 with 1 Axes>"
      ]
     },
     "metadata": {
      "image/png": {
       "height": 281,
       "width": 1130
      },
      "needs_background": "light"
     },
     "output_type": "display_data"
    },
    {
     "data": {
      "application/vnd.deepnote.dataframe.v3+json": {
       "column_count": 8,
       "columns": [
        {
         "dtype": "float64",
         "name": "count",
         "stats": {
          "histogram": [
           {
            "bin_end": 999.6,
            "bin_start": 999.5,
            "count": 0
           },
           {
            "bin_end": 999.7,
            "bin_start": 999.6,
            "count": 0
           },
           {
            "bin_end": 999.8,
            "bin_start": 999.7,
            "count": 0
           },
           {
            "bin_end": 999.9,
            "bin_start": 999.8,
            "count": 0
           },
           {
            "bin_end": 1000,
            "bin_start": 999.9,
            "count": 0
           },
           {
            "bin_end": 1000.1,
            "bin_start": 1000,
            "count": 1
           },
           {
            "bin_end": 1000.2,
            "bin_start": 1000.1,
            "count": 0
           },
           {
            "bin_end": 1000.3,
            "bin_start": 1000.2,
            "count": 0
           },
           {
            "bin_end": 1000.4,
            "bin_start": 1000.3,
            "count": 0
           },
           {
            "bin_end": 1000.5,
            "bin_start": 1000.4,
            "count": 0
           }
          ],
          "max": "1000.0",
          "min": "1000.0",
          "nan_count": 0,
          "unique_count": 1
         }
        },
        {
         "dtype": "float64",
         "name": "mean",
         "stats": {
          "histogram": [
           {
            "bin_end": 251.50276752260785,
            "bin_start": 251.40276752260786,
            "count": 0
           },
           {
            "bin_end": 251.60276752260785,
            "bin_start": 251.50276752260785,
            "count": 0
           },
           {
            "bin_end": 251.70276752260787,
            "bin_start": 251.60276752260785,
            "count": 0
           },
           {
            "bin_end": 251.80276752260787,
            "bin_start": 251.70276752260787,
            "count": 0
           },
           {
            "bin_end": 251.90276752260786,
            "bin_start": 251.80276752260787,
            "count": 0
           },
           {
            "bin_end": 252.00276752260785,
            "bin_start": 251.90276752260786,
            "count": 1
           },
           {
            "bin_end": 252.10276752260785,
            "bin_start": 252.00276752260785,
            "count": 0
           },
           {
            "bin_end": 252.20276752260787,
            "bin_start": 252.10276752260785,
            "count": 0
           },
           {
            "bin_end": 252.30276752260787,
            "bin_start": 252.20276752260787,
            "count": 0
           },
           {
            "bin_end": 252.40276752260786,
            "bin_start": 252.30276752260787,
            "count": 0
           }
          ],
          "max": "251.90276752260786",
          "min": "251.90276752260786",
          "nan_count": 0,
          "unique_count": 1
         }
        },
        {
         "dtype": "float64",
         "name": "std",
         "stats": {
          "histogram": [
           {
            "bin_end": 182.91986274578554,
            "bin_start": 182.81986274578554,
            "count": 0
           },
           {
            "bin_end": 183.01986274578553,
            "bin_start": 182.91986274578554,
            "count": 0
           },
           {
            "bin_end": 183.11986274578555,
            "bin_start": 183.01986274578553,
            "count": 0
           },
           {
            "bin_end": 183.21986274578555,
            "bin_start": 183.11986274578555,
            "count": 0
           },
           {
            "bin_end": 183.31986274578554,
            "bin_start": 183.21986274578555,
            "count": 0
           },
           {
            "bin_end": 183.41986274578554,
            "bin_start": 183.31986274578554,
            "count": 1
           },
           {
            "bin_end": 183.51986274578553,
            "bin_start": 183.41986274578554,
            "count": 0
           },
           {
            "bin_end": 183.61986274578555,
            "bin_start": 183.51986274578553,
            "count": 0
           },
           {
            "bin_end": 183.71986274578555,
            "bin_start": 183.61986274578555,
            "count": 0
           },
           {
            "bin_end": 183.81986274578554,
            "bin_start": 183.71986274578555,
            "count": 0
           }
          ],
          "max": "183.31986274578554",
          "min": "183.31986274578554",
          "nan_count": 0,
          "unique_count": 1
         }
        },
        {
         "dtype": "float64",
         "name": "min",
         "stats": {
          "histogram": [
           {
            "bin_end": 2.7179006427982317,
            "bin_start": 2.6179006427982316,
            "count": 0
           },
           {
            "bin_end": 2.817900642798232,
            "bin_start": 2.7179006427982317,
            "count": 0
           },
           {
            "bin_end": 2.917900642798232,
            "bin_start": 2.817900642798232,
            "count": 0
           },
           {
            "bin_end": 3.0179006427982316,
            "bin_start": 2.917900642798232,
            "count": 0
           },
           {
            "bin_end": 3.1179006427982316,
            "bin_start": 3.0179006427982316,
            "count": 0
           },
           {
            "bin_end": 3.2179006427982317,
            "bin_start": 3.1179006427982316,
            "count": 1
           },
           {
            "bin_end": 3.317900642798232,
            "bin_start": 3.2179006427982317,
            "count": 0
           },
           {
            "bin_end": 3.417900642798232,
            "bin_start": 3.317900642798232,
            "count": 0
           },
           {
            "bin_end": 3.5179006427982316,
            "bin_start": 3.417900642798232,
            "count": 0
           },
           {
            "bin_end": 3.6179006427982316,
            "bin_start": 3.5179006427982316,
            "count": 0
           }
          ],
          "max": "3.1179006427982316",
          "min": "3.1179006427982316",
          "nan_count": 0,
          "unique_count": 1
         }
        },
        {
         "dtype": "float64",
         "name": "25%",
         "stats": {
          "histogram": [
           {
            "bin_end": 121.0420513708483,
            "bin_start": 120.9420513708483,
            "count": 0
           },
           {
            "bin_end": 121.1420513708483,
            "bin_start": 121.0420513708483,
            "count": 0
           },
           {
            "bin_end": 121.2420513708483,
            "bin_start": 121.1420513708483,
            "count": 0
           },
           {
            "bin_end": 121.34205137084831,
            "bin_start": 121.2420513708483,
            "count": 0
           },
           {
            "bin_end": 121.4420513708483,
            "bin_start": 121.34205137084831,
            "count": 0
           },
           {
            "bin_end": 121.5420513708483,
            "bin_start": 121.4420513708483,
            "count": 1
           },
           {
            "bin_end": 121.6420513708483,
            "bin_start": 121.5420513708483,
            "count": 0
           },
           {
            "bin_end": 121.7420513708483,
            "bin_start": 121.6420513708483,
            "count": 0
           },
           {
            "bin_end": 121.84205137084831,
            "bin_start": 121.7420513708483,
            "count": 0
           },
           {
            "bin_end": 121.9420513708483,
            "bin_start": 121.84205137084831,
            "count": 0
           }
          ],
          "max": "121.4420513708483",
          "min": "121.4420513708483",
          "nan_count": 0,
          "unique_count": 1
         }
        },
        {
         "dtype": "float64",
         "name": "50%",
         "stats": {
          "histogram": [
           {
            "bin_end": 210.31137435238514,
            "bin_start": 210.21137435238515,
            "count": 0
           },
           {
            "bin_end": 210.41137435238514,
            "bin_start": 210.31137435238514,
            "count": 0
           },
           {
            "bin_end": 210.51137435238516,
            "bin_start": 210.41137435238514,
            "count": 0
           },
           {
            "bin_end": 210.61137435238516,
            "bin_start": 210.51137435238516,
            "count": 0
           },
           {
            "bin_end": 210.71137435238515,
            "bin_start": 210.61137435238516,
            "count": 0
           },
           {
            "bin_end": 210.81137435238514,
            "bin_start": 210.71137435238515,
            "count": 1
           },
           {
            "bin_end": 210.91137435238514,
            "bin_start": 210.81137435238514,
            "count": 0
           },
           {
            "bin_end": 211.01137435238516,
            "bin_start": 210.91137435238514,
            "count": 0
           },
           {
            "bin_end": 211.11137435238516,
            "bin_start": 211.01137435238516,
            "count": 0
           },
           {
            "bin_end": 211.21137435238515,
            "bin_start": 211.11137435238516,
            "count": 0
           }
          ],
          "max": "210.71137435238515",
          "min": "210.71137435238515",
          "nan_count": 0,
          "unique_count": 1
         }
        },
        {
         "dtype": "float64",
         "name": "75%",
         "stats": {
          "histogram": [
           {
            "bin_end": 338.58530495255945,
            "bin_start": 338.48530495255943,
            "count": 0
           },
           {
            "bin_end": 338.6853049525594,
            "bin_start": 338.58530495255945,
            "count": 0
           },
           {
            "bin_end": 338.78530495255944,
            "bin_start": 338.6853049525594,
            "count": 0
           },
           {
            "bin_end": 338.8853049525594,
            "bin_start": 338.78530495255944,
            "count": 0
           },
           {
            "bin_end": 338.98530495255943,
            "bin_start": 338.8853049525594,
            "count": 0
           },
           {
            "bin_end": 339.08530495255945,
            "bin_start": 338.98530495255943,
            "count": 1
           },
           {
            "bin_end": 339.1853049525594,
            "bin_start": 339.08530495255945,
            "count": 0
           },
           {
            "bin_end": 339.28530495255944,
            "bin_start": 339.1853049525594,
            "count": 0
           },
           {
            "bin_end": 339.3853049525594,
            "bin_start": 339.28530495255944,
            "count": 0
           },
           {
            "bin_end": 339.48530495255943,
            "bin_start": 339.3853049525594,
            "count": 0
           }
          ],
          "max": "338.98530495255943",
          "min": "338.98530495255943",
          "nan_count": 0,
          "unique_count": 1
         }
        },
        {
         "dtype": "float64",
         "name": "max",
         "stats": {
          "histogram": [
           {
            "bin_end": 1184.9211201648764,
            "bin_start": 1184.8211201648764,
            "count": 0
           },
           {
            "bin_end": 1185.0211201648765,
            "bin_start": 1184.9211201648764,
            "count": 0
           },
           {
            "bin_end": 1185.1211201648764,
            "bin_start": 1185.0211201648765,
            "count": 0
           },
           {
            "bin_end": 1185.2211201648765,
            "bin_start": 1185.1211201648764,
            "count": 0
           },
           {
            "bin_end": 1185.3211201648764,
            "bin_start": 1185.2211201648765,
            "count": 0
           },
           {
            "bin_end": 1185.4211201648764,
            "bin_start": 1185.3211201648764,
            "count": 1
           },
           {
            "bin_end": 1185.5211201648765,
            "bin_start": 1185.4211201648764,
            "count": 0
           },
           {
            "bin_end": 1185.6211201648764,
            "bin_start": 1185.5211201648765,
            "count": 0
           },
           {
            "bin_end": 1185.7211201648765,
            "bin_start": 1185.6211201648764,
            "count": 0
           },
           {
            "bin_end": 1185.8211201648764,
            "bin_start": 1185.7211201648765,
            "count": 0
           }
          ],
          "max": "1185.3211201648764",
          "min": "1185.3211201648764",
          "nan_count": 0,
          "unique_count": 1
         }
        },
        {
         "dtype": "object",
         "name": "_deepnote_index_column"
        }
       ],
       "row_count": 1,
       "rows": [
        {
         "25%": 121.4420513708483,
         "50%": 210.71137435238515,
         "75%": 338.98530495255943,
         "_deepnote_index_column": "Lifetimes",
         "count": 1000,
         "max": 1185.3211201648764,
         "mean": 251.90276752260786,
         "min": 3.1179006427982316,
         "std": 183.31986274578554
        }
       ]
      },
      "text/html": [
       "<div>\n",
       "<style scoped>\n",
       "    .dataframe tbody tr th:only-of-type {\n",
       "        vertical-align: middle;\n",
       "    }\n",
       "\n",
       "    .dataframe tbody tr th {\n",
       "        vertical-align: top;\n",
       "    }\n",
       "\n",
       "    .dataframe thead th {\n",
       "        text-align: right;\n",
       "    }\n",
       "</style>\n",
       "<table border=\"1\" class=\"dataframe\">\n",
       "  <thead>\n",
       "    <tr style=\"text-align: right;\">\n",
       "      <th></th>\n",
       "      <th>count</th>\n",
       "      <th>mean</th>\n",
       "      <th>std</th>\n",
       "      <th>min</th>\n",
       "      <th>25%</th>\n",
       "      <th>50%</th>\n",
       "      <th>75%</th>\n",
       "      <th>max</th>\n",
       "    </tr>\n",
       "  </thead>\n",
       "  <tbody>\n",
       "    <tr>\n",
       "      <th>Lifetimes</th>\n",
       "      <td>1000.0</td>\n",
       "      <td>251.902768</td>\n",
       "      <td>183.319863</td>\n",
       "      <td>3.117901</td>\n",
       "      <td>121.442051</td>\n",
       "      <td>210.711374</td>\n",
       "      <td>338.985305</td>\n",
       "      <td>1185.32112</td>\n",
       "    </tr>\n",
       "  </tbody>\n",
       "</table>\n",
       "</div>"
      ],
      "text/plain": [
       "            count        mean         std       min         25%         50%  \\\n",
       "Lifetimes  1000.0  251.902768  183.319863  3.117901  121.442051  210.711374   \n",
       "\n",
       "                  75%         max  \n",
       "Lifetimes  338.985305  1185.32112  "
      ]
     },
     "metadata": {},
     "output_type": "display_data"
    }
   ],
   "source": [
    "fig, ax = plt.subplots(figsize=(20, 4))\n",
    "ax.hist(lifetime, bins=40, color=\"powderblue\", edgecolor=\"darkslategrey\")\n",
    "ax.set(xlabel=r\"Lifetime $t$ (months)\", ylabel=\"count\", title=\"Lifetime distribution\")\n",
    "plt.show()\n",
    "\n",
    "fig, ax = plt.subplots(figsize=(20, 4))\n",
    "ax = sns.boxplot(\n",
    "    x=lifetime,\n",
    "    linewidth=2.5,\n",
    "    color=\"powderblue\",\n",
    "    medianprops=dict(color=\"blue\", alpha=0.7),\n",
    "    showmeans=True,\n",
    "    meanline=True,\n",
    "    meanprops={\"color\": \"white\"},\n",
    ")\n",
    "ax.set(\n",
    "    xlabel=r\"Lifetime $t$ (months)\",\n",
    "    title=\"Boxplot of lifetime distribution after surgery\",\n",
    ")\n",
    "plt.show()\n",
    "\n",
    "# Descriptive statistics\n",
    "df_describe = pd.DataFrame(lifetime, columns=[\"Lifetimes\"])\n",
    "display(df_describe.describe().T)"
   ]
  },
  {
   "cell_type": "markdown",
   "metadata": {},
   "source": [
    "We see a similar trend to the discrete case, where on average a woman dies about 22 years after surgery. Again, looking at the boxpot women who die about 60 years after surgery would be considered outliers. The lifetime dsitribution follows a similar trend to the discrete case."
   ]
  },
  {
   "cell_type": "markdown",
   "metadata": {},
   "source": [
    "Next we compute the confidence intervals for the mean and standard deviations.\n",
    "\n",
    "Confidence interval for the standard deviation of $n$ estimates, $\\hat{\\theta}_1,\\dots,\\hat{\\theta}_2$:\n",
    "\n",
    "$$\n",
    "\\left[\\sqrt{\\frac{(n-1)S_{\\theta}^2}{\\chi^2_{1-\\alpha/2}}}, \\sqrt{\\frac{(n-1)S_{\\theta}^2}{\\chi^2_{\\alpha/2}}} \\right]\n",
    "$$\n",
    "\n",
    "where the quantiles come from a $\\chi^2$-distribution with $n-1$ degrees of freedom."
   ]
  },
  {
   "cell_type": "code",
   "execution_count": null,
   "metadata": {},
   "outputs": [],
   "source": [
    "def confidence_interval_std(estimates, perc=0.95):\n",
    "    n = len(estimates)\n",
    "    mean = np.mean(estimates)\n",
    "    var = np.var(estimates, ddof=1)\n",
    "\n",
    "    alpha = 1 - perc\n",
    "    qt = stats.chi2.interval(1 - alpha, df=n - 1)\n",
    "\n",
    "    lower = np.sqrt(((n - 1) * var) / qt[1])\n",
    "    upper = np.sqrt(((n - 1) * var) / qt[0])\n",
    "    return lower, upper"
   ]
  },
  {
   "cell_type": "code",
   "execution_count": null,
   "metadata": {},
   "outputs": [
    {
     "data": {
      "image/png": "[encoded data removed]",
      "text/plain": [
       "<Figure size 720x288 with 1 Axes>"
      ]
     },
     "metadata": {
      "image/png": {
       "height": 262,
       "width": 586
      },
      "needs_background": "light"
     },
     "output_type": "display_data"
    },
    {
     "name": "stdout",
     "output_type": "stream",
     "text": [
      "Mean: 251.90276752260786\n",
      "Confidence interval: [240.52691107 263.27862398]\n"
     ]
    },
    {
     "data": {
      "image/png": "[encoded data removed]",
      "text/plain": [
       "<Figure size 720x288 with 1 Axes>"
      ]
     },
     "metadata": {
      "image/png": {
       "height": 262,
       "width": 586
      },
      "needs_background": "light"
     },
     "output_type": "display_data"
    },
    {
     "name": "stdout",
     "output_type": "stream",
     "text": [
      "STD: 183.22817988796515\n",
      "Confidence interval: (175.6226923503924, 191.72789376867058)\n"
     ]
    }
   ],
   "source": [
    "conf_mean = {\"Mean lifetime\": confidence_interval_mean(lifetime)}\n",
    "visualize_results(conf_mean)\n",
    "print(\"Mean:\", np.mean(lifetime))\n",
    "print(\"Confidence interval:\", conf_mean[\"Mean lifetime\"])\n",
    "\n",
    "conf_std = {\"Standard deviation lifetime\": confidence_interval_std(lifetime)}\n",
    "visualize_results(conf_std)\n",
    "print(\"STD:\", np.std(lifetime))\n",
    "print(\"Confidence interval:\", conf_std[\"Standard deviation lifetime\"])"
   ]
  },
  {
   "cell_type": "markdown",
   "metadata": {},
   "source": [
    "We see that both the mean and standard deviations for this run of the simulation fall within the 95% confidence intervals."
   ]
  },
  {
   "cell_type": "markdown",
   "metadata": {},
   "source": [
    "Next we define a function to get the proportion of women where the cancer reappeared after 30.5 months. "
   ]
  },
  {
   "cell_type": "code",
   "execution_count": null,
   "metadata": {},
   "outputs": [
    {
     "name": "stdout",
     "output_type": "stream",
     "text": [
      "After 30.5 months, proportion of women that went through state 1 is 1.0\n",
      "After 30.5 months, proportion of women that went through state 2 is 0.136\n",
      "After 30.5 months, proportion of women that went through state 3 is 0.088\n",
      "After 30.5 months, proportion of women that went through state 4 is 0.008\n",
      "After 30.5 months, proportion of women that went through state 5 is 0.036\n"
     ]
    }
   ],
   "source": [
    "t_ = 30.5\n",
    "# Index of the row with timestamp closest to 30.5 months (but not above)\n",
    "idx = np.argwhere(women[:, 0] < t_).flatten()[-1]\n",
    "\n",
    "for s in range(N):\n",
    "    proportion = 0\n",
    "    for col in range(1, women.shape[1]):\n",
    "        # Check if the woman went through state s\n",
    "        if s in women[: idx + 1, col]:\n",
    "            proportion += 1\n",
    "    proportion /= n\n",
    "    print(\n",
    "        \"After {} months, proportion of women that went through state {} is {}\".format(\n",
    "            t_, s + 1, proportion\n",
    "        )\n",
    "    )"
   ]
  },
  {
   "cell_type": "markdown",
   "metadata": {},
   "source": [
    "After 30.5 months, the proportion of women whose cancer reappeared distantly is 7.1%."
   ]
  },
  {
   "cell_type": "markdown",
   "metadata": {},
   "source": [
    "## Task 8\n",
    "In this task, we want to validate the simulation by ensuring the empirical lifetime distribution matches the theoretical. We want to show that the lifetime distribution now follows a continuous-time phase-type distribution. Given as:\n",
    "\n",
    "$$\n",
    "F_T(t)=1-p_0 \\exp(Q_st)1\n",
    "$$\n",
    "\n",
    "Where the last column and row are removed, where $Q_s$ is given as the sub-matrix 4x4 of $Q$. Finally, 1 is a vector of ones of appropriate dimensions. $\\exp(Qst)$ is the matrix exponential of the matrix $Q_st$. It is defined as the infinite sum:\n",
    "\n",
    "$$\n",
    "\\exp(Q_st)=\\sum^\\infty_{i=1} \\frac{(Q_{s}t)^i}{i!}\n",
    "$$\n",
    "\n",
    "We are using the appropriate statistical test Kolmogorov Smirnov test and the program is presented below."
   ]
  },
  {
   "cell_type": "code",
   "execution_count": null,
   "metadata": {},
   "outputs": [
    {
     "data": {
      "image/png": "[encoded data removed]",
      "text/plain": [
       "<Figure size 1080x360 with 1 Axes>"
      ]
     },
     "metadata": {
      "image/png": {
       "height": 336,
       "width": 891
      },
      "needs_background": "light"
     },
     "output_type": "display_data"
    },
    {
     "name": "stdout",
     "output_type": "stream",
     "text": [
      "The null hypothesis is rejected since D = 0.040855 > D_α = 0.038534\n"
     ]
    }
   ],
   "source": [
    "# Calculate the continuous-time phase-type distribution\n",
    "\n",
    "\n",
    "def cdf(p0, Qs, t):\n",
    "    return 1 - p0 @ expm(Qs * t) @ np.ones(p0.size)\n",
    "\n",
    "\n",
    "def kolmogorov_smirnov_test(\n",
    "    lifetimes, alpha=0.05, ticks=1000, minimumT=1000, plot_cdf=False\n",
    "):\n",
    "    T = max(minimumT, max(lifetimes))\n",
    "\n",
    "    step_by = T / float(ticks)\n",
    "    timesteps = np.arange(0, T, step_by)\n",
    "\n",
    "    cdf_true = np.array([cdf(p0, Qs, t) for t in timesteps])\n",
    "    cdf_sim = np.array([np.sum(lifetimes <= t) / lifetimes.size for t in timesteps])\n",
    "\n",
    "    gaps = np.abs(cdf_sim - cdf_true)\n",
    "    idx_max = np.argmax(gaps)\n",
    "\n",
    "    Dn = gaps[idx_max]\n",
    "    Dt = timesteps[idx_max]\n",
    "\n",
    "    if plot_cdf:\n",
    "        fig, ax = plt.subplots(figsize=(15, 5))\n",
    "        ax.plot(timesteps, cdf_true, label=\"Analytical cdf\")\n",
    "        ax.step(timesteps, cdf_sim, label=\"Simulation cdf\")\n",
    "        ax.set(\n",
    "            xlabel=r\"Lifetime $t$ (months)\",\n",
    "            ylabel=r\"$P(T < t)$\",\n",
    "            title=\"Cumulative density function of lifetimes\",\n",
    "        )\n",
    "        ax.legend()\n",
    "        ax.vlines(\n",
    "            x=Dt,\n",
    "            ymin=cdf_true[idx_max],\n",
    "            ymax=cdf_sim[idx_max],\n",
    "            color=\"red\",\n",
    "            label=\"Maximum D\",\n",
    "        )\n",
    "        ax.grid(True)\n",
    "        plt.show()\n",
    "\n",
    "    criticalValue = stats.ksone.ppf(1 - alpha, n)  # one-sided\n",
    "\n",
    "    # pval = scipy.special.kolmogorov(Dn*np.sqrt(n)) / 2 #two-sided\n",
    "    pval = scipy.special.smirnov(n, Dn)  # one-sided\n",
    "\n",
    "    if Dn <= criticalValue:\n",
    "        print(\n",
    "            \"The null hypothesis is not rejected since D = %f < D_α = %f\"\n",
    "            % (Dn, criticalValue)\n",
    "        )\n",
    "    else:\n",
    "        print(\n",
    "            \"The null hypothesis is rejected since D = %f > D_α = %f\"\n",
    "            % (Dn, criticalValue)\n",
    "        )\n",
    "\n",
    "    return pval, Dn, criticalValue\n",
    "\n",
    "\n",
    "Qs = Q[:-1, :-1]\n",
    "p0 = np.array([1, 0, 0, 0])\n",
    "\n",
    "pval, T, crit = kolmogorov_smirnov_test(lifetime, plot_cdf=True)\n",
    "# print('Kolmogorov Smirnov Test: p={}, T={}, Crit={}'.format(pval, T, crit))"
   ]
  },
  {
   "cell_type": "markdown",
   "metadata": {},
   "source": [
    "By just looking at the cumulative density function of lifetime, the analytical and the simulated are almost identical. Therefore, the hypothesis that the simulated distribution follows the analytical distribution is not rejected for the statistical test since the $D < D_\\alpha$. "
   ]
  },
  {
   "cell_type": "markdown",
   "metadata": {},
   "source": [
    "## Task 9\n",
    "In this task, we want to investigate if certain preventative treatment influences the lifetime. We are given a new transition-rate matrix $Q$ for women who have received the treatment. To compare lifetime of women given treatment vs. women not given treatment we use their suvival fuctions given as:\n",
    "\n",
    "$$\n",
    "S(t) = P(T>t)\n",
    "$$\n",
    "\n",
    "And the unbiased estimator of the survival function, which is the Kaplan-Meier estimator, given as:\n",
    "\n",
    "$$\n",
    "\\hat S(t)=\\frac{n-d(t)}{n}\n",
    "$$\n",
    "\n",
    "Where $n$ is the number of woman and $d(t)$ is the number of woman who had died at time $t$.\n",
    "\n",
    "For this new $Q$ we are simulating 1000 women and plot the Kaplan-Meier estimate of the survival function. In the same figure we are also plotting Kaplan-Meier estimate of the survival function this time for women not reciving the treatment. In this way we can compare if the treatment have an effect."
   ]
  },
  {
   "cell_type": "code",
   "execution_count": null,
   "metadata": {},
   "outputs": [
    {
     "data": {
      "image/png": "[encoded data removed]",
      "text/plain": [
       "<Figure size 1080x360 with 1 Axes>"
      ]
     },
     "metadata": {
      "image/png": {
       "height": 336,
       "width": 891
      },
      "needs_background": "light"
     },
     "output_type": "display_data"
    }
   ],
   "source": [
    "n = lifetime.size\n",
    "\n",
    "### Base Simulation ###\n",
    "lifetimes_base_sorted = np.sort(lifetime)\n",
    "cdf_base_sim = np.arange(n) / n\n",
    "survival_proportion_base = 1 - cdf_base_sim\n",
    "\n",
    "\n",
    "### Treatment Simulation ###\n",
    "Q_treatment = np.array(\n",
    "    [\n",
    "        [-(0.0025 + 0.00125 + 0 + 0.001), 0.0025, 0.00125, 0, 0.001],\n",
    "        [0, -(0 + 0 + 0.002 + 0.005), 0, 0.002, 0.005],\n",
    "        [0, 0, -(0 + 0 + 0.003 + 0.005), 0.003, 0.005],\n",
    "        [0, 0, 0, -(0 + 0 + 0 + 0.009), 0.009],\n",
    "        [0, 0, 0, 0, -0],\n",
    "    ]\n",
    ")\n",
    "\n",
    "lifetime_treatment, _, _, _, _, _ = ctmc_sim(Q_treatment, n, T=5000)\n",
    "\n",
    "lifetimes_treatment_sorted = np.sort(lifetime_treatment)\n",
    "cdf_treatment_sim = np.arange(n) / n  # actually redundant\n",
    "survival_proportion_treatment = 1 - cdf_treatment_sim\n",
    "\n",
    "\n",
    "### Plotting ###\n",
    "fig, ax = plt.subplots(figsize=(15, 5))\n",
    "ax.plot(lifetimes_base_sorted, survival_proportion_base, label=\"Base\")\n",
    "ax.plot(lifetimes_treatment_sorted, survival_proportion_treatment, label=\"Treatment\")\n",
    "ax.set(\n",
    "    xlabel=r\"Lifetime $t$ (months)\",\n",
    "    ylabel=r\"$P(T > t)$\",\n",
    "    title=\"Survival function S(t)\",\n",
    ")\n",
    "ax.legend()\n",
    "ax.grid(True)\n",
    "plt.show()"
   ]
  },
  {
   "cell_type": "markdown",
   "metadata": {},
   "source": [
    "The treatment appears to have a positive effect. The survival rate is larger at all times when using the new treatment compared to no treatment."
   ]
  },
  {
   "cell_type": "markdown",
   "metadata": {},
   "source": [
    "## Task 10"
   ]
  },
  {
   "cell_type": "markdown",
   "metadata": {},
   "source": [
    "[Logrank test - Wikipedia](https://en.wikipedia.org/wiki/Logrank_test)\n",
    "\n",
    "\"Consider two groups of patients, e.g., treatment vs. control. Let $1,\\dots,J$ be the distinct times of observed events in either group. \n",
    "\n",
    "Let $N_{1,j}$ and $N_{2,j}$ be the number of subjects \"at risk\" (who have not yet had an event or been censored) at the start of period $j$ in the groups, respectively. \n",
    "\n",
    "Let $O_{1,j}$ and $O_{2,j}$ be the observed number of events in the groups at time $j$.\n",
    "\n",
    "Finally, define $N_j = N_{1,j} + N_{2,j}$ and $O_{j} = O_{1,j} + O_{2,j}$.\n",
    "\n",
    "The null hypothesis $H_0$ is that the two groups have identical hazard functions.\"\n",
    "\n",
    "Under $H_0$, the random variable $O_{i,j}$ follows a hypergeometric distribution with expectation $E_{i,j} = N_{i,j}\\frac{O_j}{N_j}$ and variance \n",
    "$V_{i,j} = E_{i,j}\\frac{N_j - O_j}{N_j}\\frac{N_j - N_{i,j}}{N_j - 1}$.\n",
    "\n",
    "Logrank statistic (for $i=1,2$) for sufficiently large $J$:\n",
    "$$\n",
    "Z_i = \\frac{\\sum_{j=1}^{J}(O_{i,j}-E_{i,j})}{\\sqrt{\\sum_{j=1}^{J}V_{i,j}}}\n",
    "$$\n",
    "\n",
    "Then, under $H_0$, it argued that \n",
    "$$\n",
    "Z \\sim N(0,1) \\:\\:\\:\\:\\:\\text{or}\\:\\:\\:\\:\\: Z^2 \\sim \\chi^2_1\n",
    "$$\n",
    "\n",
    "Additional source: [Stanford univeristy - STAT331 Logrank Test](https://web.stanford.edu/~lutian/coursepdf/unitweek3.pdf)\n",
    "\n",
    "Here, an event is the death of a patient. We have $J=2000$ distinct event timestamps. Indeed, there are 1000 events from the control group and 1000 from the treatment group and in this case no two events occured at the exact same timestamp ($t$ is continuous)."
   ]
  },
  {
   "cell_type": "code",
   "execution_count": null,
   "metadata": {},
   "outputs": [],
   "source": [
    "### Log-rank test ###\n",
    "events = np.array([lifetimes_base_sorted, lifetimes_treatment_sorted])\n",
    "lifetimes_merged = np.sort(\n",
    "    np.concatenate((lifetimes_base_sorted, lifetimes_treatment_sorted))\n",
    ")\n",
    "J = lifetimes_merged.shape[0]\n",
    "\n",
    "Nij = np.zeros((2, J))\n",
    "Oij = np.zeros((2, J))\n",
    "for i in range(2):\n",
    "    for j in range(J):\n",
    "        event_time = lifetimes_merged[j]\n",
    "        Nij[i, j] = len(np.argwhere(events[i, :] > event_time).flatten())\n",
    "        Oij[i, j] = len(np.argwhere(events[i, :] == event_time).flatten())\n",
    "\n",
    "Nj = np.sum(Nij, axis=0)\n",
    "Oj = np.sum(Oij, axis=0)\n",
    "\n",
    "Eij = np.zeros((2, J))\n",
    "Vij = np.zeros((2, J))\n",
    "for i in range(2):\n",
    "    for j in range(J - 2):\n",
    "        Eij[i, j] = Nij[i, j] * Oj[j] / Nj[j]  # Last event divide by zero\n",
    "        Vij[i, j] = (\n",
    "            Eij[i, j] * ((Nj[j] - Oj[j]) / Nj[j]) * ((Nj[j] - Nij[i, j]) / (Nj[j] - 1))\n",
    "        )  # Last 2 events divide by zero\n",
    "\n",
    "Zi = np.zeros((2,))\n",
    "for i in range(2):\n",
    "    Zi[i] = np.sum((Oij - Eij), axis=1)[i] / np.sqrt(np.sum(Vij, axis=1)[i])"
   ]
  },
  {
   "cell_type": "code",
   "execution_count": null,
   "metadata": {},
   "outputs": [
    {
     "data": {
      "image/png": "[encoded data removed]",
      "text/plain": [
       "<Figure size 720x360 with 1 Axes>"
      ]
     },
     "metadata": {
      "image/png": {
       "height": 319,
       "width": 601
      },
      "needs_background": "light"
     },
     "output_type": "display_data"
    },
    {
     "name": "stdout",
     "output_type": "stream",
     "text": [
      "Test statistic Z2 = -6.72674535659628\n",
      "p-value = 5.959257802167006e-11\n"
     ]
    }
   ],
   "source": [
    "fig, ax = plt.subplots(figsize=(10, 5))\n",
    "x = np.linspace(stats.norm.ppf(0.0001), stats.norm.ppf(0.9999), 500)\n",
    "y = stats.norm.pdf(x)\n",
    "ax.plot(x, y, \"-\", lw=1, alpha=0.6, label=\"norm pdf\")\n",
    "ax.fill_between(\n",
    "    x,\n",
    "    0,\n",
    "    y,\n",
    "    where=x >= stats.norm.ppf(0.975),\n",
    "    facecolor=\"red\",\n",
    "    alpha=0.3,\n",
    "    label=\"critical region\",\n",
    ")\n",
    "ax.fill_between(x, 0, y, where=x <= stats.norm.ppf(0.025), facecolor=\"red\", alpha=0.3)\n",
    "ax.vlines(x=Zi[0], ymin=0, ymax=max(y), color=\"blue\", label=r\"$Z_1$\")\n",
    "ax.vlines(x=Zi[1], ymin=0, ymax=max(y), color=\"green\", label=r\"$Z_2$\")\n",
    "ax.set(title=\"Logrank test\")\n",
    "ax.legend()\n",
    "plt.show()\n",
    "\n",
    "p_value = stats.norm.pdf(Zi[1])\n",
    "print(f\"Test statistic Z2 = {Zi[1]}\")\n",
    "print(f\"p-value = {p_value}\")"
   ]
  },
  {
   "cell_type": "markdown",
   "metadata": {},
   "source": [
    "We see that the test statistic is in the critical region (p-value < 0.05). Therefore, we reject the null hypothesis $H_0$. We have significant evidence to show that the two survival curves are different. "
   ]
  },
  {
   "cell_type": "markdown",
   "metadata": {},
   "source": [
    "## Task 11\n",
    "\n",
    "What assumptions have been eliminated, by going from the discrete to the continuous time model?\n",
    "What have been added? How could the model be extended, such that the\n",
    "sojourn times are Erlang distributed?\n"
   ]
  },
  {
   "cell_type": "markdown",
   "metadata": {},
   "source": [
    "* We no longer assume that women can only change state on a monthly basis but now at any continuous time. This results in the model being able to capture more details for the lifetime months. Now, the simulations are now able to simulate when a women died down to a precise timestamp (relative to the surgery).\n",
    "\n",
    "* We keep the assumption that a woman cannot go to any previous state from the current state. So for example cannot go from state 4 to either 3, 2 or 1.\n",
    "\n",
    "* In the context of the markov model we no longer assume that a transition can occur to the current state. When the sojourn time is up the state must change to a different state.\n",
    "\n",
    "* The Erlang distribution is specified by two parameters, the shape $k$ and the rate $\\lambda$. The sojourn times can be extended to follow a Erlang distribution by fixing the shape $k$ for each state and defining the rate $\\lambda$ similiarly as done when using the exponential distribution for sojourn time. Setting $k=1$ simplifies to an exponential distribution. If desired larger $k's$ can be set to shift the density to the right such that larger sojourn times are sampled."
   ]
  },
  {
   "cell_type": "markdown",
   "metadata": {},
   "source": [
    "# Part 3: Estimation\n",
    "\n",
    "## Task 12\n",
    "\n",
    "In this task, a time series will be created for each women simulated using the same $Q$ as previously. A total of 1000 time series will be created. A time series contains the state of a given women at every $48$th month, i.e $$Y^{(i)} = (X(0), X(48), X(94), ...,) $$. The time series continues until death, thus the last value in each of the time series should be 5."
   ]
  },
  {
   "cell_type": "code",
   "execution_count": null,
   "metadata": {},
   "outputs": [],
   "source": [
    "_, _, _, women2, _, _ = ctmc_sim(Q, n=1000, T=5000)"
   ]
  },
  {
   "cell_type": "code",
   "execution_count": null,
   "metadata": {},
   "outputs": [],
   "source": [
    "def extract_timeseries(women, t_between=48):\n",
    "    timeseries = []\n",
    "    timeseries.append(women[0, :])  # first check-up\n",
    "    checkup_id = 1\n",
    "    for i in range(1, women.shape[0]):\n",
    "        timestamp = women[i, 0]\n",
    "\n",
    "        current_checkup_id = int(np.floor(timestamp / t_between))\n",
    "        delta = current_checkup_id - checkup_id\n",
    "\n",
    "        # Catch up on multiple check-ups, i.e. repeat previous check-up delta times\n",
    "        for k in range(delta + 1):\n",
    "            X_checkup = women[i - 1, :]\n",
    "            timeseries.append(X_checkup)\n",
    "            checkup_id += 1\n",
    "\n",
    "    timeseries.append(women[-1, :])  # last check-up\n",
    "\n",
    "    timeseries = np.array(timeseries)\n",
    "    return timeseries"
   ]
  },
  {
   "cell_type": "code",
   "execution_count": null,
   "metadata": {},
   "outputs": [],
   "source": [
    "time_between = 48\n",
    "timeseries = extract_timeseries(women2, time_between)"
   ]
  },
  {
   "cell_type": "markdown",
   "metadata": {},
   "source": [
    "The following figure depicts the timeseries for a single woman."
   ]
  },
  {
   "cell_type": "code",
   "execution_count": null,
   "metadata": {},
   "outputs": [],
   "source": [
    "def plot_timeseries(woman, timeserie, t_between):\n",
    "    spaces = np.arange(0, timeserie[:, 0].size) * t_between\n",
    "\n",
    "    fig, ax = plt.subplots(figsize=(20, 4))\n",
    "    ax.scatter(spaces, 1 + timeserie[:, 1], color=\"orange\", label=\"timeseries\")\n",
    "    ax.scatter(\n",
    "        woman[:, 0], 1 + woman[:, 1], color=\"blue\", marker=\"x\", label=\"state change\"\n",
    "    )\n",
    "    ax.set(\n",
    "        xlabel=r\"Lifetime $t$ (months)\", ylabel=r\"State\", title=\"Timeseries for a woman\"\n",
    "    )\n",
    "    ax.grid(True)\n",
    "    ax.set_yticks(1 + np.arange(0, 5))\n",
    "    ax.set_xticks(spaces)\n",
    "    ax.legend()\n",
    "    plt.show()"
   ]
  },
  {
   "cell_type": "code",
   "execution_count": null,
   "metadata": {},
   "outputs": [
    {
     "data": {
      "image/png": "[encoded data removed]",
      "text/plain": [
       "<Figure size 1440x288 with 1 Axes>"
      ]
     },
     "metadata": {
      "image/png": {
       "height": 281,
       "width": 1157
      },
      "needs_background": "light"
     },
     "output_type": "display_data"
    }
   ],
   "source": [
    "example_trajectory = np.array([[0, 0], [56.2, 1], [169.2, 2], [180.1, 3], [201.1, 4]])\n",
    "example_timeserie = extract_timeseries(example_trajectory, time_between)\n",
    "plot_timeseries(example_trajectory, example_timeserie, time_between)"
   ]
  },
  {
   "cell_type": "markdown",
   "metadata": {},
   "source": [
    "This example figure above illustrates \n",
    "* The case when nothing changed between screenings at the doctor's office every 4 years. Here, the state 2 is observed a second time between 96 and 144 months.\n",
    "* The case when multiple changes of state occured during the same 4 years window. In that case, only the last one is observed and the state before that are unreported. Here, the state 3 is unreported between 144 and 192 months."
   ]
  },
  {
   "cell_type": "markdown",
   "metadata": {},
   "source": [
    "## Task 13\n",
    "\n",
    "In this task, the transition rate matrix $Q$ is viewed as unknown, and the transition matrix $Q$ will be estimated using the Monte Carlo Expectation Maximization algorithm. The set of $1000$ timeseries generated in task 12 will be used to do the estimation."
   ]
  },
  {
   "cell_type": "code",
   "execution_count": null,
   "metadata": {},
   "outputs": [],
   "source": [
    "def jump_state(Q, i):\n",
    "    ### starting in state i, compute probabilities of moving to state 0...k\n",
    "    probs = [-Q[i][k] / Q[i][i] for k in range(Q.shape[1])]\n",
    "\n",
    "    # Q[k,k] = Q[k][]\n",
    "    ### -Q[k][k]/Q[k][k] = -1\n",
    "    ### can't move to same state so set probability to 0 where its -1\n",
    "    probs = [0.0 if x < 0.0 else x for x in probs]\n",
    "\n",
    "    ### pick a new state based on probabilities defined before\n",
    "    i_star = np.random.choice([0, 1, 2, 3, 4], p=probs)\n",
    "\n",
    "    return i_star"
   ]
  },
  {
   "cell_type": "markdown",
   "metadata": {},
   "source": [
    "The function below implement the first step of the algorithm, $i.e.$ sampling a trajectory for each woman that matches their timeserie.\n",
    "\n",
    "Two tricks were implemented to improve the performance of the rejection sampling. \n",
    "* First, if an interval, $i.e.$ a window of time of 48 months, is rejected, we do not reject the whole trajectory (and have to restart at t=0). But we rather restart only the rejected window of time. Indeed, the previous intervals already matched with the timeserie, so why throw them away? \n",
    "* Secondly, if the timeserie shows no change of state during an interval, there is no need to simulate that interval."
   ]
  },
  {
   "cell_type": "code",
   "execution_count": null,
   "metadata": {},
   "outputs": [],
   "source": [
    "def simulate_complete_matching_trajectories(Q, timeseries):\n",
    "    trajectories = {}\n",
    "    # For each woman\n",
    "    for i in range(timeseries.shape[1]):\n",
    "\n",
    "        # Observed time serie for 1 woman\n",
    "        Y = timeseries[:, i]\n",
    "\n",
    "        traj = [[0.0, 0]]\n",
    "        # For each interval between observations\n",
    "        for j, y_init in enumerate(Y[:-1]):\n",
    "            y_goal = Y[j + 1]\n",
    "            # No need to simulate if nothing happened\n",
    "            if y_init == y_goal:\n",
    "                continue\n",
    "\n",
    "            # SIMULATE ONE TRAJECTORY WITH CHANGE OF STATE FOR 48 MONTHS:\n",
    "            accepted = False\n",
    "            while not accepted:\n",
    "                y_init = Y[j]\n",
    "                jumps = []\n",
    "                t = 0\n",
    "                while t < 48 and y_init != 4:\n",
    "                    t_jump = np.random.exponential(\n",
    "                        scale=1 / -Q[int(y_init)][int(y_init)]\n",
    "                    )\n",
    "                    if t_jump < 48 - t:\n",
    "                        y_init = jump_state(Q, int(y_init))\n",
    "                        jumps += [[48 * j + t_jump, y_init]]\n",
    "\n",
    "                    t += t_jump\n",
    "\n",
    "                # If no change of state, try again\n",
    "                if len(jumps) == 0:\n",
    "                    continue\n",
    "                # Else, check state after 48 months\n",
    "                else:\n",
    "                    y_sim = jumps[-1][1]  # Check-up\n",
    "\n",
    "                # Rejection sampling\n",
    "                if y_goal == y_sim:  # Accept if it matches\n",
    "                    accepted = True\n",
    "                    traj += jumps\n",
    "\n",
    "        trajectories[i] = np.array(traj)\n",
    "\n",
    "    return trajectories"
   ]
  },
  {
   "cell_type": "code",
   "execution_count": null,
   "metadata": {},
   "outputs": [],
   "source": [
    "def summarize_trajectories(trajectories):\n",
    "    N = np.zeros((5, 5))\n",
    "    S = np.zeros(5)\n",
    "\n",
    "    for k, traj in trajectories.items():\n",
    "        for i in range(traj.shape[0] - 1):\n",
    "\n",
    "            # N: total number of jumps\n",
    "            N[int(traj[i, 1]), int(traj[i + 1, 1])] += 1\n",
    "\n",
    "            # S: total sojourn time\n",
    "            S[int(traj[i, 1])] += abs(traj[i + 1, 0] - traj[i, 0])\n",
    "\n",
    "    return N, S"
   ]
  },
  {
   "cell_type": "code",
   "execution_count": null,
   "metadata": {},
   "outputs": [],
   "source": [
    "def update_Q(N, S):\n",
    "    nstates = N.shape[0]\n",
    "    Q = np.ones((nstates, nstates))\n",
    "    for row in range(Q.shape[0]):\n",
    "        Q[row, :] = [\n",
    "            N[row, col] / S[row] if S[row] != 0 else 0 for col in range(Q.shape[1])\n",
    "        ]\n",
    "\n",
    "    ### update diagonals\n",
    "    updated_diagonals = [\n",
    "        -(np.sum(Q[row, :]) - Q[row, row]) for row in range(Q.shape[0])\n",
    "    ]\n",
    "    np.fill_diagonal(Q, updated_diagonals)\n",
    "\n",
    "    return Q"
   ]
  },
  {
   "cell_type": "code",
   "execution_count": null,
   "metadata": {},
   "outputs": [],
   "source": [
    "def MC_Expectation_Maximization_algo(Q_0, timeseries, N_iter=10, epsilon=10e-3):\n",
    "\n",
    "    Qapprox = Q_0\n",
    "    convergence = False\n",
    "    for k in range(N_iter):\n",
    "        print(\"Iteration\", k + 1)\n",
    "\n",
    "        # Simulate entire trace with matching trajectories - timeseries using Qapprox\n",
    "        trajectories = simulate_complete_matching_trajectories(\n",
    "            Qapprox, timeseries[:, 1:]\n",
    "        )\n",
    "\n",
    "        # Compute N and S from entire trace\n",
    "        N, S = summarize_trajectories(trajectories)\n",
    "\n",
    "        # Define Q with updated qi,j\n",
    "        Q = update_Q(N, S)\n",
    "\n",
    "        if np.linalg.norm(Qapprox - Q, ord=np.inf) < epsilon:\n",
    "            Qapprox = Q\n",
    "            convergence = True\n",
    "            print(\n",
    "                \"Algorithm reached convergence criterion after {} iteration(s)\".format(\n",
    "                    k + 1\n",
    "                )\n",
    "            )\n",
    "            break\n",
    "\n",
    "        Qapprox = Q\n",
    "\n",
    "    if not convergence:\n",
    "        print(\"Warning: the algorithm has not reached the convergence criterion.\")\n",
    "\n",
    "    return Qapprox"
   ]
  },
  {
   "cell_type": "code",
   "execution_count": null,
   "metadata": {},
   "outputs": [],
   "source": [
    "def get_initial_Q(n_states):\n",
    "    Q_0 = (\n",
    "        np.ones((n_states, n_states)) * 0.01\n",
    "    )  # 0.1 jumps to large, 0.00001 jumps too short\n",
    "\n",
    "    updated_diagonals = [\n",
    "        -(np.sum(Q_0[row, :]) - Q_0[row, row]) for row in range(Q_0.shape[0])\n",
    "    ]\n",
    "    np.fill_diagonal(Q_0, updated_diagonals)\n",
    "\n",
    "    return Q_0"
   ]
  },
  {
   "cell_type": "code",
   "execution_count": null,
   "metadata": {},
   "outputs": [
    {
     "name": "stdout",
     "output_type": "stream",
     "text": [
      "Iteration 1\n",
      "Iteration 2\n",
      "Iteration 3\n",
      "Iteration 4\n",
      "Algorithm reached convergence criterion after 4 iteration(s)\n"
     ]
    }
   ],
   "source": [
    "Q_0 = get_initial_Q(Q.shape[0])\n",
    "Q_approx = MC_Expectation_Maximization_algo(Q_0, timeseries, N_iter=200, epsilon=10e-4)"
   ]
  },
  {
   "cell_type": "code",
   "execution_count": null,
   "metadata": {},
   "outputs": [
    {
     "name": "stdout",
     "output_type": "stream",
     "text": [
      "Original Q\n",
      "[[-0.0085  0.005   0.0025  0.      0.001 ]\n",
      " [ 0.     -0.014   0.005   0.004   0.005 ]\n",
      " [ 0.      0.     -0.008   0.003   0.005 ]\n",
      " [ 0.      0.      0.     -0.009   0.009 ]\n",
      " [ 0.      0.      0.      0.      0.    ]]\n",
      "Initial guess Q0\n",
      "[[-0.04  0.01  0.01  0.01  0.01]\n",
      " [ 0.01 -0.04  0.01  0.01  0.01]\n",
      " [ 0.01  0.01 -0.04  0.01  0.01]\n",
      " [ 0.01  0.01  0.01 -0.04  0.01]\n",
      " [ 0.01  0.01  0.01  0.01 -0.04]]\n",
      "Approximated Q (rounded)\n",
      "[[-0.0084  0.0043  0.0028  0.0005  0.0009]\n",
      " [ 0.     -0.0125  0.0046  0.003   0.0048]\n",
      " [ 0.      0.0001 -0.0082  0.0031  0.0051]\n",
      " [ 0.      0.      0.0002 -0.0097  0.0096]\n",
      " [ 0.      0.      0.      0.     -0.    ]]\n"
     ]
    }
   ],
   "source": [
    "print(\"Original Q\")\n",
    "print(Q)\n",
    "print(\"Initial guess Q0\")\n",
    "print(Q_0)\n",
    "print(\"Approximated Q (rounded)\")\n",
    "print(np.round(Q_approx, decimals=4))"
   ]
  },
  {
   "cell_type": "markdown",
   "metadata": {},
   "source": [
    "We see that the approximated $Q^{*}$ is quite close to the original $Q$. Thus we have been able to retrieve the original $Q$ matrix using only partial simulation information and an initial guess $Q_0$. The algorithm is very fast thanks to tricks made to improve the performance of the rejection sampling.\n",
    "\n",
    "Notice how the lower triangle part of the approximated matrix and the last row has been correctly set to 0 despite the inital guess having values there. This means that the algorithm correctly simulated trajectories matching with the observed timeseries. Indeed, in those timeseries, it impossible to see those types of transitions, thus $N_i,j$ is 0.\n",
    "\n",
    "Moreover, we observed that the choice of $Q_0$ has an effect on the algorithm. We decided to have for inital guess a matrix whose non-diagonal elements are all the same (and the diagonal is computed to have the property that a row sums to 0).\n",
    "\n",
    "Initializing $Q_0$ with too large values ($10^{-1}$), or too small ($10^{-5}$), leads to a very long first iteration. Indeed, in those cases, the rejection sampling nearly always reject trajectories because it simulates either too many jumps or nearly never jump to another state in a window of time of 48 months. Indeed, the time a jump occurs is defined by the sojourn time directly computed from the element of the matrix $Q$."
   ]
  }
 ],
 "metadata": {
  "language_info": {
   "name": "python"
  }
 },
 "nbformat": 4,
 "nbformat_minor": 0
}
