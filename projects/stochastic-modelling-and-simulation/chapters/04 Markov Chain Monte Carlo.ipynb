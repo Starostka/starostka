{
 "cells": [
  {
   "cell_type": "raw",
   "metadata": {},
   "source": [
    "---\n",
    "title: Markov Chain Monte Carlo\n",
    "subtitle: Practical examples of sampling using markov chains\n",
    "---"
   ]
  },
  {
   "cell_type": "code",
   "execution_count": null,
   "metadata": {},
   "outputs": [],
   "source": [
    "import matplotlib.pyplot as plt\n",
    "import numpy as np\n",
    "import pandas as pd\n",
    "import seaborn as sns\n",
    "from scipy import stats\n",
    "from scipy.stats import chisquare"
   ]
  },
  {
   "cell_type": "markdown",
   "metadata": {},
   "source": [
    "Here we consider a truncated poisson distribution (Erlang System).\n",
    "$$\n",
    "P(i) = c \\cdot \\frac{A^i}{i!} \\;, \\;\\; i = 0,\\dots,m\n",
    "$$\n",
    "It's often used to simulate the probability of the number of busy lines in a communication system, train tracks and highways.\n",
    "\n",
    "We'll visualize the probability masses for $m=10$ states to get an idea of what it looks like."
   ]
  },
  {
   "cell_type": "code",
   "execution_count": null,
   "metadata": {},
   "outputs": [],
   "source": [
    "def truncated_Poisson_distr(A, m):\n",
    "    \"\"\"Truncated poisson distribution (Erlang System)\"\"\"\n",
    "    distr = {}\n",
    "    var = np.arange(0, m + 1)\n",
    "    for i in var:\n",
    "        distr[i] = A**i / np.math.factorial(i)\n",
    "\n",
    "    tot = np.sum(list(distr.values()))\n",
    "    distr = {k: v / tot for k, v in distr.items()}  # Normalization\n",
    "    return distr\n",
    "\n",
    "# Sample the truncated poisson distribution\n",
    "A = 8\n",
    "m = 10\n",
    "distr = truncated_Poisson_distr(A, m)\n",
    "\n",
    "# Visualize the distribution\n",
    "fig, ax = plt.subplots(1, 1, figsize=(20, 4))\n",
    "ax.bar(x=[str(t) for t in distr.keys()], height=list(distr.values()), color=\"C0\")\n",
    "ax.set(\n",
    "    xlabel=\"Discrete variable\",\n",
    "    ylabel=\"Probability\",\n",
    "    title=rf\"Truncated Poisson distribution ($A$={A}, $m$={m})\",\n",
    ")\n",
    "plt.xticks(rotation=90)\n",
    "plt.show()"
   ]
  },
  {
   "cell_type": "markdown",
   "metadata": {},
   "source": [
    "And we want to sample from it using Markov Chain Monte Carlo.\n",
    "\n",
    "1. First we choose a proposal distribution $q$ which covers the density of the target distribution. \n",
    "$$\n",
    "q(j|i) = \\left\\{\n",
    "    \\begin{array}{ll}\n",
    "        0.5\\;\\; \\text{if}\\:\\:\\:|j-i| =1\\:\\:\\:\\: \\text{or}\\:\\:\\:\\:\\: |j-i|=m \\\\\n",
    "        0 \\;\\;\\;\\;\\text{otherwise}\n",
    "    \\end{array}\n",
    "\\right.\n",
    "$$\n",
    "Note that it is symmetric, $q(j|i) = q(i|j)$. When sampling from $q$ the candidate state $j$ can only be $i-j$ or $i+j$.\n",
    "The proposal distribution is easy to sample from, and uniformly covers the target density.\n",
    "\n",
    "But we need to be picky in terms of which samples we decide to keep. Or else we'll just end up with a uniform distribution that looks nothing like the target distribution...\n",
    "\n",
    "2. We pick a suitable acceptance probability $\\alpha$. \n",
    "$$\n",
    "\\alpha = \\min(1, \\frac{P(j)q(j|i)}{P(i)q(i|j)}) = \\min(1, \\frac{P(j)}{P(i)}) = \\min(1, \\frac{A^{j-i}\\:i!}{j!})\n",
    "$$\n",
    "If we think about we've defined a ratio that can only ever get below 1 if the state changes in the positive direction $i+j$.\n",
    "And it ensures that the sampled densities stay proportional to the given state of the target distribution."
   ]
  },
  {
   "cell_type": "code",
   "execution_count": null,
   "metadata": {},
   "outputs": [],
   "source": [
    "def sample_q(i, m):\n",
    "    \"\"\"Proposal distribution (one step forward or one step backward)\"\"\"\n",
    "    if np.random.uniform() < 0.5:\n",
    "        j = i - 1\n",
    "        if i == 0:\n",
    "            j = m\n",
    "    else:\n",
    "        j = i + 1\n",
    "        if i == m:\n",
    "            j = 0\n",
    "    return j\n",
    "\n",
    "def MH_algorithm_1(A, m, s_0, N_iter):\n",
    "    \"\"\"Markov chain algorithm (Only accept cases stepping forward that also satify the 20%-50% ratio)\"\"\"\n",
    "    counter_accept = 0\n",
    "    traces = []\n",
    "\n",
    "    i = s_0\n",
    "    for n in range(N_iter):\n",
    "\n",
    "        j = sample_q(i, m)\n",
    "\n",
    "        ratio = A ** (j - i) * np.math.factorial(i) / np.math.factorial(j)\n",
    "        alpha = min(1, ratio)\n",
    "\n",
    "        if np.random.uniform() < alpha:  # Accept\n",
    "            i = j\n",
    "            counter_accept += 1\n",
    "\n",
    "        # Else, reject and i stays i.\n",
    "        traces.append(i)\n",
    "\n",
    "    print(f\"Proposal accepted {100 * counter_accept / N_iter:2.3f}% of the times\")\n",
    "    return np.array(traces)"
   ]
  },
  {
   "cell_type": "code",
   "execution_count": null,
   "metadata": {},
   "outputs": [],
   "source": [
    "N_iter = 50000\n",
    "s_0 = 2\n",
    "trace = MH_algorithm_1(A, m, s_0, N_iter)"
   ]
  }
 ],
 "metadata": {
  "language_info": {
   "name": "python"
  }
 },
 "nbformat": 4,
 "nbformat_minor": 2
}
