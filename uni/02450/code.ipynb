{
 "cells": [
  {
   "cell_type": "code",
   "execution_count": 7,
   "metadata": {},
   "outputs": [],
   "source": [
    "import numpy as np"
   ]
  },
  {
   "cell_type": "markdown",
   "metadata": {},
   "source": [
    "# Notes"
   ]
  },
  {
   "cell_type": "markdown",
   "metadata": {},
   "source": [
    "## Association Mining\n",
    "\n",
    "$support=\\frac{X}{\\lvert T \\rvert}$\n",
    "\n",
    "Support for an $item > 40\\%$ means $0.4 \\times \\lvert T \\rvert$ must be satisfied.\n",
    "\n",
    "$confidence=\\frac{support(X\\bigcup Y)}{support(X)}$\n",
    "\n",
    "## Naïve Bayes Classifier\n",
    "\n",
    "$p\\left(y \\mid x_{1}, x_{2}, \\ldots, x_{M}\\right)=\\frac{p\\left(x_{1}, x_{2}, \\ldots, x_{M} \\mid y\\right) p(y)}{\\sum_{k=0}^{K-1} p\\left(x_{1}, x_{2}, \\ldots, x_{M} \\mid y=k\\right) p(y=k)}$\n",
    "\n",
    "## AUC\n",
    "\n",
    "$TPR / Recall / Sensitivity =\\frac{\\text { TP }}{\\text { TP }+\\text { FN }}$\n",
    "\n",
    "$Specificity=\\frac{\\text { TN }}{\\text { TN + FP }}$\n",
    "\n",
    "FPR = $1 - Specificity=\\frac{F P}{T N+F P}$\n",
    "\n",
    "Total number of positive examples: $TP + FN$\n",
    "\n",
    "Total number of negative examples: $FP + TN$"
   ]
  },
  {
   "cell_type": "code",
   "execution_count": 75,
   "metadata": {},
   "outputs": [
    {
     "data": {
      "text/plain": [
       "0.7500000000000001"
      ]
     },
     "execution_count": 75,
     "metadata": {},
     "output_type": "execute_result"
    }
   ],
   "source": [
    "# compute AUC\n",
    "from sklearn import metrics\n",
    "y = np.array([0, 0, 0, 0, 1, 1, 1, 0, 0, 1])\n",
    "pred = np.array([5.7, 6.0, 6.2, 6.3, 6.4, 6.6, 6.7, 6.9, 7.0, 7.4])\n",
    "fpr, tpr, thresholds = metrics.roc_curve(y, pred, pos_label=1)\n",
    "metrics.auc(fpr, tpr)"
   ]
  },
  {
   "cell_type": "markdown",
   "metadata": {},
   "source": [
    "## Similarity"
   ]
  },
  {
   "cell_type": "code",
   "execution_count": 19,
   "metadata": {},
   "outputs": [
    {
     "name": "stdout",
     "output_type": "stream",
     "text": [
      "SMC: -1.3333333333333333\n",
      "Jaccard: -5.166666666666667\n",
      "CosineSimilarity: [[-0.97590007]]\n"
     ]
    },
    {
     "name": "stderr",
     "output_type": "stream",
     "text": [
      "/tmp/ipykernel_15602/642619845.py:6: DeprecationWarning: `np.bool` is a deprecated alias for the builtin `bool`. To silence this warning, use `bool` by itself. Doing this will not modify any behavior and is safe. If you specifically wanted the numpy scalar type, use `np.bool_` here.\n",
      "Deprecated in NumPy 1.20; for more details and guidance: https://numpy.org/devdocs/release/1.20.0-notes.html#deprecations\n",
      "  x = np.asarray(x, np.bool) # Not necessary, if you keep your data\n",
      "/tmp/ipykernel_15602/642619845.py:7: DeprecationWarning: `np.bool` is a deprecated alias for the builtin `bool`. To silence this warning, use `bool` by itself. Doing this will not modify any behavior and is safe. If you specifically wanted the numpy scalar type, use `np.bool_` here.\n",
      "Deprecated in NumPy 1.20; for more details and guidance: https://numpy.org/devdocs/release/1.20.0-notes.html#deprecations\n",
      "  y = np.asarray(y, np.bool) # in a boolean array already!\n"
     ]
    }
   ],
   "source": [
    "r = np.array([[1,1,1,1,0,1]])\n",
    "s = np.array([[1,1,0,1,0,0]])\n",
    "\n",
    "def jaccard(x,y):\n",
    "  x = np.asarray(x, np.bool) # Not necessary, if you keep your data\n",
    "  y = np.asarray(y, np.bool) # in a boolean array already!\n",
    "  return np.double(np.bitwise_and(x, y).sum()) / x.size - np.double(np.bitwise_or(x, y).sum())\n",
    "\n",
    "def smc(x,y):\n",
    "  return np.double(np.bitwise_and(x,y).sum() + np.bitwise_not(x,y).sum()) / x.size\n",
    "\n",
    "\n",
    "from sklearn.metrics.pairwise import cosine_similarity\n",
    "\n",
    "print(f\"SMC: {smc(r,s)}\")\n",
    "print(f\"Jaccard: {jaccard(r,s)}\")\n",
    "print(f\"CosineSimilarity: {cosine_similarity(r,s)}\")"
   ]
  },
  {
   "cell_type": "markdown",
   "metadata": {},
   "source": []
  },
  {
   "cell_type": "markdown",
   "metadata": {},
   "source": [
    "\n",
    "## k-means"
   ]
  },
  {
   "cell_type": "code",
   "execution_count": 47,
   "metadata": {},
   "outputs": [
    {
     "data": {
      "text/plain": [
       "(array([[6.92],\n",
       "        [6.12]]),\n",
       " array([1, 1, 1, 1, 1, 0, 0, 0, 0, 0], dtype=int32))"
      ]
     },
     "execution_count": 47,
     "metadata": {},
     "output_type": "execute_result"
    }
   ],
   "source": [
    "from sklearn.cluster import KMeans\n",
    "x = np.array([[5.7, 6.0, 6.2, 6.3, 6.4, 6.6, 6.7, 6.9, 7.0, 7.4]]).T\n",
    "\n",
    "kmeans = KMeans(n_clusters=2).fit(x)\n",
    "#kmeans = KMeans(n_clusters=2, init=np.array([[x.mean]]).T).fit(x)\n",
    "\n",
    "kmeans.cluster_centers_, kmeans.labels_"
   ]
  },
  {
   "cell_type": "markdown",
   "metadata": {},
   "source": [
    "## KNN"
   ]
  },
  {
   "cell_type": "code",
   "execution_count": 10,
   "metadata": {},
   "outputs": [
    {
     "data": {
      "text/plain": [
       "<bound method BaseEstimator.get_params of NearestNeighbors(n_neighbors=3)>"
      ]
     },
     "execution_count": 10,
     "metadata": {},
     "output_type": "execute_result"
    }
   ],
   "source": [
    "# find k-nearest neighbours\n",
    "from sklearn.neighbors import NearestNeighbors\n",
    "samples = np.array([[5.7, 6.0, 6.2, 6.3, 6.4, 6.6, 6.7, 6.9, 7.0, 7.4]]).T\n",
    "neigh = NearestNeighbors(n_neighbors=3)\n",
    "neigh.fit(samples)\n",
    "neigh.kneighbors([[7.4]])\n",
    "\n",
    "# compute densities and average relative densities (modify K and arrays)\n",
    "K = 3\n",
    "(d1, d2, d3) = (1/K * np.array([0.1,0.3,0.4])).sum()**-1, (1/K*np.array([0.1,0.2,0.3])).sum()**-1, (1/K*np.array([0.1,0.2,0.3])).sum()**-1\n",
    "di = (1/K * np.array([0.4, 0.5, 0.7])).sum()**-1\n",
    "ard = di/(1/K*np.array([d1,d2,d3])).sum()\n",
    "ard"
   ]
  },
  {
   "cell_type": "markdown",
   "metadata": {},
   "source": [
    "## PCA"
   ]
  },
  {
   "cell_type": "code",
   "execution_count": null,
   "metadata": {},
   "outputs": [],
   "source": [
    "# variance explained\n",
    "def variance_explained(S, S_sub):\n",
    "    var_expl_pca = (S_sub**2).sum() / sum(S**2)\n",
    "    print(\"$Var_{Expl} Range$: \", var_expl_pca)\n",
    "\n",
    "S = np.array([14.14, 11.41, 9.46, 4.19, 0.17]) # s_i\n",
    "\n",
    "# modify range\n",
    "S_sub = S[:3]\n",
    "print(f\"Selected values: {S_sub}\")\n",
    "variance_explained(S, S_sub)"
   ]
  },
  {
   "cell_type": "markdown",
   "metadata": {},
   "source": [
    "## Decision Trees\n",
    "\n",
    "**Impurity Gain**\n",
    "$\\Delta=I(r)-\\sum_{k=1}^{K} \\frac{N\\left(v_{k}\\right)}{N(r)} I\\left(v_{k}\\right)$\n",
    "\n",
    "Impurity Gain Example\n",
    "N = 54\n",
    "\n",
    "height: {low: 18, medium: 18, high: 18}\n",
    "high performance (height low): {low: 6, medium. 9, high: 3}\n",
    "high performance (height medium): {low: 4, medium: 6, high: 10}\n",
    "high performance (height high): {low: 8, medium: 3, high: 5}\n",
    "\n",
    "\n"
   ]
  },
  {
   "cell_type": "code",
   "execution_count": 32,
   "metadata": {},
   "outputs": [
    {
     "ename": "AttributeError",
     "evalue": "'float' object has no attribute 'sum'",
     "output_type": "error",
     "traceback": [
      "\u001b[0;31m---------------------------------------------------------------------------\u001b[0m",
      "\u001b[0;31mAttributeError\u001b[0m                            Traceback (most recent call last)",
      "\u001b[0;32m/var/folders/v0/mmbq6z6n5_z6kkfpcc0tb33m0000gn/T/ipykernel_17720/81013915.py\u001b[0m in \u001b[0;36m<module>\u001b[0;34m\u001b[0m\n\u001b[1;32m      3\u001b[0m \u001b[0mI_1\u001b[0m \u001b[0;34m=\u001b[0m \u001b[0mnp\u001b[0m\u001b[0;34m.\u001b[0m\u001b[0marray\u001b[0m\u001b[0;34m(\u001b[0m\u001b[0;34m[\u001b[0m\u001b[0;36m4\u001b[0m\u001b[0;34m/\u001b[0m\u001b[0;36m18\u001b[0m\u001b[0;34m,\u001b[0m \u001b[0;36m6\u001b[0m\u001b[0;34m/\u001b[0m\u001b[0;36m18\u001b[0m\u001b[0;34m,\u001b[0m \u001b[0;36m10\u001b[0m\u001b[0;34m/\u001b[0m\u001b[0;36m18\u001b[0m\u001b[0;34m]\u001b[0m\u001b[0;34m)\u001b[0m\u001b[0;34m**\u001b[0m\u001b[0;36m2\u001b[0m\u001b[0;34m\u001b[0m\u001b[0;34m\u001b[0m\u001b[0m\n\u001b[1;32m      4\u001b[0m \u001b[0mI_1\u001b[0m \u001b[0;34m=\u001b[0m \u001b[0mnp\u001b[0m\u001b[0;34m.\u001b[0m\u001b[0marray\u001b[0m\u001b[0;34m(\u001b[0m\u001b[0;34m[\u001b[0m\u001b[0;36m8\u001b[0m\u001b[0;34m/\u001b[0m\u001b[0;36m18\u001b[0m\u001b[0;34m,\u001b[0m \u001b[0;36m3\u001b[0m\u001b[0;34m/\u001b[0m\u001b[0;36m18\u001b[0m\u001b[0;34m,\u001b[0m \u001b[0;36m5\u001b[0m\u001b[0;34m/\u001b[0m\u001b[0;36m18\u001b[0m\u001b[0;34m]\u001b[0m\u001b[0;34m)\u001b[0m\u001b[0;34m**\u001b[0m\u001b[0;36m2\u001b[0m\u001b[0;34m\u001b[0m\u001b[0;34m\u001b[0m\u001b[0m\n\u001b[0;32m----> 5\u001b[0;31m \u001b[0;36m1\u001b[0m \u001b[0;34m-\u001b[0m \u001b[0mI_1\u001b[0m\u001b[0;34m.\u001b[0m\u001b[0msum\u001b[0m\u001b[0;34m(\u001b[0m\u001b[0;34m)\u001b[0m \u001b[0;34m+\u001b[0m \u001b[0mI_2\u001b[0m\u001b[0;34m.\u001b[0m\u001b[0msum\u001b[0m\u001b[0;34m(\u001b[0m\u001b[0;34m)\u001b[0m \u001b[0;34m+\u001b[0m \u001b[0mI_3\u001b[0m\u001b[0;34m.\u001b[0m\u001b[0msum\u001b[0m\u001b[0;34m(\u001b[0m\u001b[0;34m)\u001b[0m\u001b[0;34m\u001b[0m\u001b[0;34m\u001b[0m\u001b[0m\n\u001b[0m",
      "\u001b[0;31mAttributeError\u001b[0m: 'float' object has no attribute 'sum'"
     ]
    }
   ],
   "source": [
    "I_r = 54\n",
    "I_1 = np.array([6/18, 9/18, 3/18])**2\n",
    "I_1 = np.array([4/18, 6/18, 10/18])**2\n",
    "I_1 = np.array([8/18, 3/18, 5/18])**2\n"
   ]
  },
  {
   "cell_type": "code",
   "execution_count": 66,
   "metadata": {},
   "outputs": [
    {
     "data": {
      "text/plain": [
       "0.011160714285714286"
      ]
     },
     "execution_count": 66,
     "metadata": {},
     "output_type": "execute_result"
    }
   ],
   "source": [
    "\n",
    "(1/2 * np.array([68.1,111.1])).sum()**-1"
   ]
  },
  {
   "cell_type": "code",
   "execution_count": 71,
   "metadata": {},
   "outputs": [
    {
     "data": {
      "text/plain": [
       "(0.4090909090909091, 1.875)"
      ]
     },
     "execution_count": 71,
     "metadata": {},
     "output_type": "execute_result"
    }
   ],
   "source": []
  },
  {
   "cell_type": "markdown",
   "metadata": {},
   "source": [
    "## Adaboost\n",
    "\n",
    "error rate\n",
    "$\\epsilon_{t}=\\sum_{i=1}^{N} w_{i}(t)\\left(1-\\delta_{f_{t}\\left(\\boldsymbol{x}_{i}\\right), y_{i}}\\right)$ where $\\delta_{a, b}=\\left\\{\\begin{array}{ll}1 & \\text { if } a=b \\\\ 0 & \\text { if } a \\neq b\\end{array}\\right.$\n",
    "\n",
    "importance of classifier\n",
    "$\\alpha_{t}=\\frac{1}{2} \\log \\frac{1-\\epsilon_{t}}{\\epsilon_{t}}$"
   ]
  },
  {
   "cell_type": "markdown",
   "metadata": {},
   "source": [
    "## Decision Boundaries\n",
    "- Linear boundaries: Multinomial Regression\n",
    "- Smooth curvy boundaries: ANN\n",
    "- Axis aligned boundaries: Classification Tree\n",
    "- Complex non-smooth boundaries: 3-nearest neighbours"
   ]
  },
  {
   "cell_type": "markdown",
   "metadata": {},
   "source": [
    "# Scratchbook"
   ]
  },
  {
   "cell_type": "code",
   "execution_count": 25,
   "metadata": {},
   "outputs": [
    {
     "data": {
      "text/plain": [
       "0.2285714285714286"
      ]
     },
     "execution_count": 25,
     "metadata": {},
     "output_type": "execute_result"
    }
   ],
   "source": [
    "c1 = np.array([-2.1, -1.7, -1.5])\n",
    "c2 = np.array([-0.4, 0.0, 0.6])\n",
    "c3 = np.array([0.8, 1.0, 1.1])\n",
    "\n",
    "np.append(np.append(c2, c3), -1.5).mean()"
   ]
  },
  {
   "cell_type": "code",
   "execution_count": 24,
   "metadata": {},
   "outputs": [
    {
     "data": {
      "text/plain": [
       "(0.25, -0.0, -0.0625)"
      ]
     },
     "execution_count": 24,
     "metadata": {},
     "output_type": "execute_result"
    }
   ],
   "source": [
    "(1*0.5+0.5*1)*0.25, (1*0.5-0.5*1)*-0.25, (1*-0.5+0.25)*0.25"
   ]
  },
  {
   "cell_type": "code",
   "execution_count": 18,
   "metadata": {},
   "outputs": [
    {
     "data": {
      "text/plain": [
       "211.70000000000002"
      ]
     },
     "execution_count": 18,
     "metadata": {},
     "output_type": "execute_result"
    }
   ],
   "source": [
    "forward\n",
    "4\n",
    "\n",
    "backward\n",
    "1,2,3,4\n",
    "1,3,4\n"
   ]
  },
  {
   "cell_type": "code",
   "execution_count": null,
   "metadata": {},
   "outputs": [],
   "source": []
  }
 ],
 "metadata": {
  "interpreter": {
   "hash": "d4d1e4263499bec80672ea0156c357c1ee493ec2b1c70f0acce89fc37c4a6abe"
  },
  "kernelspec": {
   "display_name": "Python 3.9.7 64-bit ('base': conda)",
   "language": "python",
   "name": "python3"
  },
  "language_info": {
   "codemirror_mode": {
    "name": "ipython",
    "version": 3
   },
   "file_extension": ".py",
   "mimetype": "text/x-python",
   "name": "python",
   "nbconvert_exporter": "python",
   "pygments_lexer": "ipython3",
   "version": "3.9.1"
  },
  "orig_nbformat": 4
 },
 "nbformat": 4,
 "nbformat_minor": 2
}
