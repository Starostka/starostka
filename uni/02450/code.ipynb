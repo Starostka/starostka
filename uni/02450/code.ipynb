{
 "cells": [
  {
   "cell_type": "code",
   "execution_count": 2,
   "metadata": {},
   "outputs": [],
   "source": [
    "import numpy as np"
   ]
  },
  {
   "cell_type": "markdown",
   "metadata": {},
   "source": [
    "# Notes"
   ]
  },
  {
   "cell_type": "markdown",
   "metadata": {},
   "source": [
    "## Association Mining\n",
    "\n",
    "$support=\\frac{X}{\\lvert T \\rvert}$\n",
    "\n",
    "Support for an $item > 40\\%$ means $0.4 \\times \\lvert T \\rvert$ must be satisfied.\n",
    "\n",
    "$confidence=\\frac{support(X\\bigcup Y)}{support(X)}$\n",
    "\n",
    "## Naïve Bayes Classifier\n",
    "\n",
    "$p\\left(y \\mid x_{1}, x_{2}, \\ldots, x_{M}\\right)=\\frac{p\\left(x_{1}, x_{2}, \\ldots, x_{M} \\mid y\\right) p(y)}{\\sum_{k=0}^{K-1} p\\left(x_{1}, x_{2}, \\ldots, x_{M} \\mid y=k\\right) p(y=k)}$\n",
    "\n",
    "## AUC\n",
    "\n",
    "$TPR / Recall / Sensitivity =\\frac{\\text { TP }}{\\text { TP }+\\text { FN }}$\n",
    "\n",
    "$Specificity=\\frac{\\text { TN }}{\\text { TN + FP }}$\n",
    "\n",
    "FPR = $1 - Specificity=\\frac{F P}{T N+F P}$\n"
   ]
  },
  {
   "cell_type": "markdown",
   "metadata": {},
   "source": [
    "\n",
    "## k-means"
   ]
  },
  {
   "cell_type": "code",
   "execution_count": null,
   "metadata": {},
   "outputs": [],
   "source": [
    "from sklearn.cluster import KMeans\n",
    "x = np.array([[1.0, 1.2, 1.8, 2.3, 2.6, 3.4, 4.0, 4.1, 4.2]]).T\n",
    "\n",
    "kmeans = KMeans(n_clusters=3, init=np.array([[1.8,3.3,3.6]]).T).fit(x)\n",
    "\n",
    "kmeans.cluster_centers_"
   ]
  },
  {
   "cell_type": "markdown",
   "metadata": {},
   "source": [
    "## PCA"
   ]
  },
  {
   "cell_type": "code",
   "execution_count": null,
   "metadata": {},
   "outputs": [],
   "source": [
    "# variance explained\n",
    "def variance_explained(S, S_sub):\n",
    "    var_expl_pca = (S_sub**2).sum() / sum(S**2)\n",
    "    print(\"$Var_{Expl} Range$: \", var_expl_pca)\n",
    "\n",
    "S = np.array([14.14, 11.41, 9.46, 4.19, 0.17]) # s_i\n",
    "\n",
    "# modify range\n",
    "S_sub = S[:3]\n",
    "print(f\"Selected values: {S_sub}\")\n",
    "variance_explained(S, S_sub)"
   ]
  },
  {
   "cell_type": "markdown",
   "metadata": {},
   "source": [
    "# Scratchbook"
   ]
  },
  {
   "cell_type": "code",
   "execution_count": 25,
   "metadata": {},
   "outputs": [
    {
     "data": {
      "text/plain": [
       "0.2285714285714286"
      ]
     },
     "execution_count": 25,
     "metadata": {},
     "output_type": "execute_result"
    }
   ],
   "source": [
    "c1 = np.array([-2.1, -1.7, -1.5])\n",
    "c2 = np.array([-0.4, 0.0, 0.6])\n",
    "c3 = np.array([0.8, 1.0, 1.1])\n",
    "\n",
    "np.append(np.append(c2, c3), -1.5).mean()"
   ]
  },
  {
   "cell_type": "code",
   "execution_count": 27,
   "metadata": {},
   "outputs": [
    {
     "data": {
      "text/plain": [
       "0.2857142857142857"
      ]
     },
     "execution_count": 27,
     "metadata": {},
     "output_type": "execute_result"
    }
   ],
   "source": [
    "4/14"
   ]
  },
  {
   "cell_type": "code",
   "execution_count": null,
   "metadata": {},
   "outputs": [],
   "source": []
  }
 ],
 "metadata": {
  "interpreter": {
   "hash": "d4d1e4263499bec80672ea0156c357c1ee493ec2b1c70f0acce89fc37c4a6abe"
  },
  "kernelspec": {
   "display_name": "Python 3.9.7 64-bit ('base': conda)",
   "language": "python",
   "name": "python3"
  },
  "language_info": {
   "codemirror_mode": {
    "name": "ipython",
    "version": 3
   },
   "file_extension": ".py",
   "mimetype": "text/x-python",
   "name": "python",
   "nbconvert_exporter": "python",
   "pygments_lexer": "ipython3",
   "version": "3.9.7"
  },
  "orig_nbformat": 4
 },
 "nbformat": 4,
 "nbformat_minor": 2
}
