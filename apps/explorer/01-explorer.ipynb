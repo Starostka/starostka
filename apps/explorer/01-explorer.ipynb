{
 "cells": [
  {
   "cell_type": "code",
   "metadata": {
    "cell_id": "4564728e-b754-41d8-bde4-63552ebcb175",
    "deepnote_to_be_reexecuted": false,
    "execution_millis": 4092,
    "execution_start": 1663599748148,
    "source_hash": "b0c16005",
    "tags": [],
    "deepnote_cell_type": "code",
    "deepnote_cell_height": 385.90625
   },
   "source": "# Debian (Quarto)\n!sudo curl -LO https://quarto.org/download/latest/quarto-linux-amd64.deb\n!sudo apt-get install gdebi-core -y\n!sudo gdebi -n quarto-linux-amd64.deb\n!/usr/local/bin/quarto check\n\n# Alternative installation using nbdev\n# nbdev_install_quarto",
   "execution_count": null,
   "outputs": [
    {
     "name": "stdout",
     "text": "Reading package lists... Done\nBuilding dependency tree        \nReading state information... Done\nReading state information... Done\nSelecting previously unselected package quarto.\n(Reading database ... 32611 files and directories currently installed.)\nPreparing to unpack quarto-linux-amd64.deb ...\nUnpacking quarto (1.1.251) ...\nSetting up quarto (1.1.251) ...\n",
     "output_type": "stream"
    }
   ]
  },
  {
   "cell_type": "code",
   "metadata": {
    "cell_id": "fa6466b93ea942f6ae3d3e2420ce09f6",
    "tags": [],
    "deepnote_cell_type": "code",
    "deepnote_cell_height": 97.15625
   },
   "source": "# Debian (Java JDK)\n!sudo apt update\n!sudo apt install default-jdk",
   "execution_count": null,
   "outputs": []
  },
  {
   "cell_type": "code",
   "metadata": {
    "cell_id": "7a5f5fdc83c94831b0ae00488a4a3330",
    "deepnote_to_be_reexecuted": false,
    "execution_millis": 4521,
    "execution_start": 1663605361249,
    "source_hash": "37bf610b",
    "tags": [],
    "deepnote_cell_type": "code",
    "deepnote_cell_height": 256.359375
   },
   "source": "# nbdev\n!conda install -c fastai nbdev\n#!pip install nbdev\n#!nbdev_help",
   "execution_count": null,
   "outputs": [
    {
     "name": "stdout",
     "text": "Collecting package metadata (current_repodata.json): done\nSolving environment: done\n\n# All requested packages already installed.\n\nRetrieving notices: ...working... done\n",
     "output_type": "stream"
    }
   ]
  },
  {
   "cell_type": "code",
   "metadata": {
    "cell_id": "ef10e0e4c28c4d679a68ee8aca8b65ba",
    "deepnote_to_be_reexecuted": false,
    "execution_millis": 159,
    "execution_start": 1663707468190,
    "source_hash": "3f343d8c",
    "tags": [],
    "deepnote_cell_type": "code",
    "deepnote_cell_height": 526.15625
   },
   "source": "# Merge notebooks\nimport nbformat\ndef merge_notebooks(notebooks, output, ignore_index = True):\n    # ignore_index enabled will assign new ids to cells\n    merged_nb, metadata = None, []\n    for path in notebooks:\n        # Read the notebooks\n        with open(path, 'r', encoding='utf-8') as handler:\n            nb = nbformat.read(handler, as_version=4)\n            metadata += [nb.metadata]\n        \n        if merged_nb is None:\n            merged_nb = nb\n        else:\n            merged_nb.cells.extend(nb.cells)\n\n        merged_metadata = {}\n        for meta in reversed(metadata):\n            merged_metadata.update(meta)\n        merged_nb.metadata = merged_metadata\n\n    # Create a combined notebook\n    if ignore_index:\n        nbformat.write(nbformat.v4.new_notebook(cells=merged_nb.cells, metadata=merged_nb.metadata), output)\n    else:\n        nbformat.write(merged_nb, output)",
   "execution_count": 3,
   "outputs": []
  },
  {
   "cell_type": "code",
   "metadata": {
    "cell_id": "8f1eab21182b451a983679a2d5959da8",
    "deepnote_to_be_reexecuted": false,
    "execution_millis": 2,
    "execution_start": 1663707468652,
    "source_hash": "32814ea5",
    "tags": [],
    "deepnote_cell_type": "code",
    "deepnote_cell_height": 994.15625
   },
   "source": "# Clean specific metadata (!mutate), tags etc. (nbconvert, nbformat and nbdev)\nimport nbformat\n\n# Clean metadata and output\n#!nbdev_clean --fname report-example.ipynb\n\n# Remove cells with specific tags\ndef clear_tag(path, key):\n    nb = nbformat.read(path, as_version=4)\n    for i, cell in enumerate(nb[\"cells\"]):\n        try:\n            cell[\"metadata\"][\"tags\"][key].remove(\"raises-error\")\n            if not cell[\"metadata\"][\"tags\"]:\n                cell[\"metadata\"].pop(\"tags\")\n        except:\n            pass\n        nb[\"cells\"][i] = cell\n    nbformat.write(nb, path)\n\n# Remove cells with specific metadata\ndef remove_cell_by_metadata(path, key):\n    nb = nbformat.read(path, as_version=4)\n\n    # Repeat process as index changes on pop\n    repeat = len(nb.cells)\n    for i in range(repeat):\n        nb = nbformat.read(path, as_version=4)\n        # Find cell with metadata key, pop, repeat\n        for i, cell in enumerate(nb.cells):\n            cell_metadata = cell.metadata.get(key)\n            if cell_metadata:\n                nb.cells.pop(i)\n                continue\n    nbformat.write(nb, path)\n\n# Remove empty cells\ndef remove_empty_cells(path):\n    nb = nbformat.read(path, as_version=4)\n\n    # Repeat process as index changes on pop\n    repeat = len(nb.cells)\n    for i in range(repeat):\n        nb = nbformat.read(path, as_version=4)\n        # Find empty cell (no source), pop, repeat\n        for i, cell in enumerate(nb.cells):\n            cell_source = cell.source\n            if len(cell_source) == 0:\n                nb.cells.pop(i)\n                continue\n    nbformat.write(nb, path)\n\n# todo: combine the techniques into a more general function or alt. a class or functional approach ",
   "execution_count": 4,
   "outputs": []
  },
  {
   "cell_type": "code",
   "source": "# Prepare report for Quarto\nimport os\nimport pathlib\nimport shutil\nimport glob\ndef report(path, output, preview = True):\n    # Read environment e.g., is it Deepnote? Clean non-compatible metadata..\n    path_abs = os.path.abspath(path)\n    output_abs = os.path.abspath(output)\n\n    # Create temp build directory in output\n    build_path = os.path.join(output_abs, '.report-build')\n    if not os.path.exists(build_path):\n        os.makedirs(build_path)\n\n    # Read files in directory (sort the names e.g., 01-section, 02-section etc.)\n    notebooks = sorted(glob.glob(os.path.join(path_abs, '*.ipynb')))\n\n    # Create output file and replace with merge\n    report_path = os.path.join(build_path, 'report.ipynb')\n    merge_notebooks(notebooks, report_path)\n\n    # Remove cells by metadata key\n    remove_cell_by_metadata(report_path, 'created_in_deepnote_cell')\n\n    # Remove empty cells\n    remove_empty_cells(report_path)\n\n    # Copy final report to output\n    final_report_path = os.path.join(output_abs, 'report.ipynb')\n    shutil.copy(report_path, final_report_path)\n\n    # Preview enabled opens Quarto preview of report\n    # todo: detected changes should merely update current session\n    if preview:\n        pass\n    \n    # Quarto render report (options: execute, [docx, pdf, html, etc.])\n    !quarto install tool tinytex\n    !quarto render $final_report_path --to pdf\n\n    # Clear temp build directory\n    if os.path.exists(build_path):\n        shutil.rmtree(build_path)\n    else:\n        print(\"Error: %s directory not found\" % build_path)\n\n# todo: if any step fails clean temp files etc.\n# todo: add quarto options to generated report e.g., include code, outputs etc.. ",
   "metadata": {
    "cell_id": "57a68eea88da4be9a9d8ee2cc37242cd",
    "deepnote_to_be_reexecuted": false,
    "execution_millis": 2,
    "execution_start": 1663707495168,
    "source_hash": "9ca4162",
    "tags": [],
    "deepnote_cell_type": "code",
    "deepnote_cell_height": 940.171875
   },
   "execution_count": 7,
   "outputs": []
  },
  {
   "cell_type": "code",
   "metadata": {
    "cell_id": "7fe8f39aa8524f24bd07bf94e450b142",
    "deepnote_to_be_reexecuted": false,
    "execution_millis": 18127,
    "execution_start": 1663707495727,
    "source_hash": "fddf3bc8",
    "tags": [],
    "deepnote_cell_type": "code",
    "deepnote_cell_height": 714.265625,
    "deepnote_output_heights": [
     269.5625
    ]
   },
   "source": "# Test report method\nreport(path='report-example', output='report-example/output')",
   "execution_count": 8,
   "outputs": [
    {
     "name": "stdout",
     "text": "Installing tinytex\n[✓] Downloading TinyTex v2022.09\n[✓] Unzipping TinyTeX-v2022.09.tar.gz\n[✓] Moving files\n[✓] Verifying tlgpg support\n[✓] Default Repository: https://mirrors.rit.edu/CTAN/systems/texlive/tlnet/\n[✓] Updating Path (inspecting 1 possible paths)\nInstallation successful\n\u001b[1mpandoc \u001b[22m\n  to: latex\n  output-file: report.tex\n  standalone: true\n  pdf-engine: xelatex\n  variables:\n    graphics: true\n    tables: true\n  default-image-extension: pdf\n  \n\u001b[1mmetadata\u001b[22m\n  documentclass: scrartcl\n  classoption:\n    - DIV=11\n    - numbers=noendperiod\n  papersize: letter\n  header-includes:\n    - '\\KOMAoption{captions}{tableheading}'\n  block-headings: true\n  \n\u001b[1mrunning xelatex - 1\u001b[22m\n  This is XeTeX, Version 3.141592653-2.6-0.999994 (TeX Live 2022) (preloaded format=xelatex)\n   restricted \\write18 enabled.\n  entering extended mode\n  \n\u001b[1mrunning xelatex - 2\u001b[22m\n  This is XeTeX, Version 3.141592653-2.6-0.999994 (TeX Live 2022) (preloaded format=xelatex)\n   restricted \\write18 enabled.\n  entering extended mode\n  \n\nOutput created: report.pdf\n\n",
     "output_type": "stream"
    }
   ]
  },
  {
   "cell_type": "markdown",
   "source": "# Explorer",
   "metadata": {
    "cell_id": "3219daae647e497db3ea10647213b5f6",
    "tags": [],
    "deepnote_cell_type": "markdown",
    "deepnote_cell_height": 82.15625
   }
  },
  {
   "cell_type": "markdown",
   "source": "@dataclass\nclass Explorer:",
   "metadata": {
    "cell_id": "3ff67a14f1734b3685dbb640f701833f",
    "tags": [],
    "deepnote_cell_type": "markdown",
    "deepnote_cell_height": 74.921875
   }
  },
  {
   "cell_type": "markdown",
   "source": "<a style='text-decoration:none;line-height:16px;display:flex;color:#5B5B62;padding:10px;justify-content:end;' href='https://deepnote.com?utm_source=created-in-deepnote-cell&projectId=7393f88e-6674-4a74-8a6c-ce9dc44581ca' target=\"_blank\">\n<img alt='Created in deepnote.com' style='display:inline;max-height:16px;margin:0px;margin-right:7.5px;' src='data:image/svg+xml;base64,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' > </img>\nCreated in <span style='font-weight:600;margin-left:4px;'>Deepnote</span></a>",
   "metadata": {
    "tags": [],
    "created_in_deepnote_cell": true,
    "deepnote_cell_type": "markdown"
   }
  }
 ],
 "nbformat": 4,
 "nbformat_minor": 2,
 "metadata": {
  "deepnote": {},
  "deepnote_execution_queue": [],
  "deepnote_notebook_id": "d6257e6c-30ed-454e-9fb4-8036abf54456",
  "kernelspec": {
   "display_name": "Python 3.10.4 64-bit",
   "language": "python",
   "name": "python3"
  },
  "language_info": {
   "codemirror_mode": {
    "name": "ipython",
    "version": 3
   },
   "file_extension": ".py",
   "mimetype": "text/x-python",
   "name": "python",
   "nbconvert_exporter": "python",
   "pygments_lexer": "ipython3",
   "version": "3.10.4"
  },
  "orig_nbformat": 2,
  "vscode": {
   "interpreter": {
    "hash": "4f946df053fbf2b937619d3c5458e7af74262f9a954d8797ba0b27400bcafe06"
   }
  }
 }
}