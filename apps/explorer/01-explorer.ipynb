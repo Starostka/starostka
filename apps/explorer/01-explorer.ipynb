{
 "cells": [
  {
   "cell_type": "code",
   "execution_count": null,
   "metadata": {
    "cell_id": "4564728e-b754-41d8-bde4-63552ebcb175",
    "deepnote_cell_height": 385.90625,
    "deepnote_cell_type": "code",
    "deepnote_to_be_reexecuted": false,
    "execution_millis": 4092,
    "execution_start": 1663599748148,
    "source_hash": "b0c16005",
    "tags": []
   },
   "outputs": [
    {
     "name": "stdout",
     "output_type": "stream",
     "text": [
      "Reading package lists... Done\n",
      "Building dependency tree        \n",
      "Reading state information... Done\n",
      "Reading state information... Done\n",
      "Selecting previously unselected package quarto.\n",
      "(Reading database ... 32611 files and directories currently installed.)\n",
      "Preparing to unpack quarto-linux-amd64.deb ...\n",
      "Unpacking quarto (1.1.251) ...\n",
      "Setting up quarto (1.1.251) ...\n"
     ]
    }
   ],
   "source": [
    "# Debian (Quarto)\n",
    "!sudo curl -LO https://quarto.org/download/latest/quarto-linux-amd64.deb\n",
    "!sudo apt-get install gdebi-core -y\n",
    "!sudo gdebi -n quarto-linux-amd64.deb\n",
    "!/usr/local/bin/quarto check\n",
    "\n",
    "# Alternative installation using nbdev\n",
    "# nbdev_install_quarto"
   ]
  },
  {
   "cell_type": "code",
   "execution_count": null,
   "metadata": {
    "cell_id": "fa6466b93ea942f6ae3d3e2420ce09f6",
    "deepnote_cell_height": 97.15625,
    "deepnote_cell_type": "code",
    "tags": []
   },
   "outputs": [],
   "source": [
    "# Debian (Java JDK)\n",
    "!sudo apt update\n",
    "!sudo apt install default-jdk"
   ]
  },
  {
   "cell_type": "code",
   "execution_count": null,
   "metadata": {
    "cell_id": "7a5f5fdc83c94831b0ae00488a4a3330",
    "deepnote_cell_height": 256.359375,
    "deepnote_cell_type": "code",
    "deepnote_to_be_reexecuted": false,
    "execution_millis": 4521,
    "execution_start": 1663605361249,
    "source_hash": "37bf610b",
    "tags": []
   },
   "outputs": [
    {
     "name": "stdout",
     "output_type": "stream",
     "text": [
      "Collecting package metadata (current_repodata.json): done\n",
      "Solving environment: done\n",
      "\n",
      "# All requested packages already installed.\n",
      "\n",
      "Retrieving notices: ...working... done\n"
     ]
    }
   ],
   "source": [
    "# nbdev\n",
    "!conda install -c fastai nbdev\n",
    "#!pip install nbdev\n",
    "#!nbdev_help"
   ]
  },
  {
   "cell_type": "code",
   "execution_count": 1,
   "metadata": {
    "cell_id": "ef10e0e4c28c4d679a68ee8aca8b65ba",
    "deepnote_cell_height": 526.15625,
    "deepnote_cell_type": "code",
    "deepnote_to_be_reexecuted": false,
    "execution_millis": 0,
    "execution_start": 1663701699947,
    "source_hash": "3f343d8c",
    "tags": []
   },
   "outputs": [],
   "source": [
    "# Merge notebooks\n",
    "import nbformat\n",
    "def merge_notebooks(notebooks, output, ignore_index = True):\n",
    "    # ignore_index enabled will assign new ids to cells\n",
    "    merged_nb, metadata = None, []\n",
    "    for path in notebooks:\n",
    "        # Read the notebooks\n",
    "        with open(path, 'r', encoding='utf-8') as handler:\n",
    "            nb = nbformat.read(handler, as_version=4)\n",
    "            metadata += [nb.metadata]\n",
    "        \n",
    "        if merged_nb is None:\n",
    "            merged_nb = nb\n",
    "        else:\n",
    "            merged_nb.cells.extend(nb.cells)\n",
    "\n",
    "        merged_metadata = {}\n",
    "        for meta in reversed(metadata):\n",
    "            merged_metadata.update(meta)\n",
    "        merged_nb.metadata = merged_metadata\n",
    "\n",
    "    # Create a combined notebook\n",
    "    if ignore_index:\n",
    "        nbformat.write(nbformat.v4.new_notebook(cells=merged_nb.cells, metadata=merged_nb.metadata), output)\n",
    "    else:\n",
    "        nbformat.write(merged_nb, output)"
   ]
  },
  {
   "cell_type": "code",
   "execution_count": 63,
   "metadata": {
    "cell_id": "8f1eab21182b451a983679a2d5959da8",
    "deepnote_cell_height": 1174.15625,
    "deepnote_cell_type": "code",
    "deepnote_to_be_reexecuted": false,
    "execution_millis": 3,
    "execution_start": 1663703869021,
    "source_hash": "5633bb9",
    "tags": []
   },
   "outputs": [],
   "source": [
    "# Clean specific metadata (!mutate), tags etc. (nbconvert, nbformat and nbdev)\n",
    "import nbformat\n",
    "\n",
    "# Clean metadata and output\n",
    "#!nbdev_clean --fname report-example.ipynb\n",
    "\n",
    "# Remove cells with specific tags\n",
    "def clear_tag(path, key):\n",
    "    nb = nbformat.read(path, as_version=4)\n",
    "    for i, cell in enumerate(nb[\"cells\"]):\n",
    "        try:\n",
    "            cell[\"metadata\"][\"tags\"][key].remove(\"raises-error\")\n",
    "            if not cell[\"metadata\"][\"tags\"]:\n",
    "                cell[\"metadata\"].pop(\"tags\")\n",
    "        except:\n",
    "            pass\n",
    "        nb[\"cells\"][i] = cell\n",
    "    nbformat.write(nb, path)\n",
    "\n",
    "# Remove cells with specific metadata\n",
    "def remove_cell_by_metadata(path, key):\n",
    "    nb = nbformat.read(path, as_version=4)\n",
    "\n",
    "    # Repeat process as index changes on pop\n",
    "    repeat = len(nb.cells)\n",
    "    for i in range(repeat):\n",
    "        nb = nbformat.read(path, as_version=4)\n",
    "        # Find cell with metadata key, pop, repeat\n",
    "        for i, cell in enumerate(nb.cells):\n",
    "            cell_metadata = cell.metadata.get(key)\n",
    "            if cell_metadata:\n",
    "                nb.cells.pop(i)\n",
    "                continue\n",
    "    nbformat.write(nb, path)\n",
    "\n",
    "# Remove empty cells\n",
    "def remove_empty_cells(path):\n",
    "    nb = nbformat.read(path, as_version=4)\n",
    "\n",
    "    # Repeat process as index changes on pop\n",
    "    repeat = len(nb.cells)\n",
    "    for i in range(repeat):\n",
    "        nb = nbformat.read(path, as_version=4)\n",
    "        # Find empty cell (no source), pop, repeat\n",
    "        for i, cell in enumerate(nb.cells):\n",
    "            cell_source = cell.source\n",
    "            if len(cell_source) == 0:\n",
    "                nb.cells.pop(i)\n",
    "                continue\n",
    "    nbformat.write(nb, path)\n",
    "\n",
    "# todo: combine the techniques into a more general function or alt. a class or functional approach "
   ]
  },
  {
   "cell_type": "code",
   "execution_count": 68,
   "metadata": {
    "cell_id": "57a68eea88da4be9a9d8ee2cc37242cd",
    "deepnote_cell_height": 706.15625,
    "deepnote_cell_type": "code",
    "deepnote_to_be_reexecuted": false,
    "execution_millis": 0,
    "execution_start": 1663703594111,
    "source_hash": "b4ab6d98",
    "tags": []
   },
   "outputs": [],
   "source": [
    "# Prepare report for Quarto\n",
    "import os\n",
    "import pathlib\n",
    "import shutil\n",
    "import glob\n",
    "def report(path, output):\n",
    "    # Read environment e.g., is it Deepnote? Clean non-compatible metadata..\n",
    "    path_abs = os.path.abspath(path)\n",
    "    output_abs = os.path.abspath(output)\n",
    "\n",
    "    # Create temp build directory in output\n",
    "    build_path = os.path.join(output_abs, '.report-build')\n",
    "    if not os.path.exists(build_path):\n",
    "        os.makedirs(build_path)\n",
    "\n",
    "    # Read files in directory (sort the names e.g., 01-section, 02-section etc.)\n",
    "    notebooks = sorted(glob.glob(os.path.join(path_abs, '*.ipynb')))\n",
    "\n",
    "    # Create output file and replace with merge\n",
    "    report_path = os.path.join(build_path, 'report.ipynb')\n",
    "    merge_notebooks(notebooks, report_path)\n",
    "\n",
    "    # Remove cells by metadata key\n",
    "    remove_cell_by_metadata(report_path, 'created_in_deepnote_cell')\n",
    "\n",
    "    # Remove empty cells\n",
    "    remove_empty_cells(report_path)\n",
    "\n",
    "    # Copy final report to output\n",
    "    final_report_path = os.path.join(output_abs, 'report.ipynb')\n",
    "    shutil.copy(report_path, final_report_path)\n",
    "\n",
    "    # Clear temp build directory\n",
    "    if os.path.exists(build_path):\n",
    "        shutil.rmtree(build_path)\n",
    "    else:\n",
    "        print(\"Error: %s directory not found\" % build_path)\n",
    "\n",
    "# todo: if any step fails clean temp files etc. "
   ]
  },
  {
   "cell_type": "code",
   "execution_count": 69,
   "metadata": {
    "cell_id": "7fe8f39aa8524f24bd07bf94e450b142",
    "deepnote_cell_height": 94.15625,
    "deepnote_cell_type": "code",
    "deepnote_to_be_reexecuted": false,
    "execution_millis": 23,
    "execution_start": 1663703881328,
    "source_hash": "fddf3bc8",
    "tags": []
   },
   "outputs": [],
   "source": [
    "# Test report method\n",
    "report(path='report-example', output='report-example/output')"
   ]
  },
  {
   "cell_type": "markdown",
   "metadata": {
    "cell_id": "3219daae647e497db3ea10647213b5f6",
    "deepnote_cell_height": 82.15625,
    "deepnote_cell_type": "markdown",
    "tags": []
   },
   "source": [
    "# Explorer"
   ]
  },
  {
   "cell_type": "code",
   "execution_count": null,
   "metadata": {
    "cell_id": "3ff67a14f1734b3685dbb640f701833f",
    "deepnote_cell_height": 74.921875,
    "deepnote_cell_type": "markdown",
    "tags": []
   },
   "outputs": [],
   "source": [
    "@dataclass\n",
    "class Explorer:"
   ]
  }
 ],
 "metadata": {
  "deepnote": {},
  "deepnote_execution_queue": [],
  "deepnote_notebook_id": "d6257e6c-30ed-454e-9fb4-8036abf54456",
  "kernelspec": {
   "display_name": "Python 3.10.4 64-bit",
   "language": "python",
   "name": "python3"
  },
  "language_info": {
   "codemirror_mode": {
    "name": "ipython",
    "version": 3
   },
   "file_extension": ".py",
   "mimetype": "text/x-python",
   "name": "python",
   "nbconvert_exporter": "python",
   "pygments_lexer": "ipython3",
   "version": "3.10.4"
  },
  "orig_nbformat": 2,
  "vscode": {
   "interpreter": {
    "hash": "4f946df053fbf2b937619d3c5458e7af74262f9a954d8797ba0b27400bcafe06"
   }
  }
 },
 "nbformat": 4,
 "nbformat_minor": 2
}
