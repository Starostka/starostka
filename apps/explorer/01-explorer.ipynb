{
 "cells": [
  {
   "cell_type": "code",
   "source": "",
   "metadata": {
    "cell_id": "cfdb441798624a0b893efec46dc53036",
    "tags": [],
    "deepnote_to_be_reexecuted": false,
    "source_hash": "b623e53d",
    "execution_start": 1663746688352,
    "execution_millis": 40,
    "deepnote_cell_type": "code",
    "deepnote_cell_height": 76.15625
   },
   "outputs": [],
   "execution_count": 0
  },
  {
   "cell_type": "code",
   "metadata": {
    "cell_id": "4564728e-b754-41d8-bde4-63552ebcb175",
    "deepnote_to_be_reexecuted": false,
    "execution_millis": 4092,
    "execution_start": 1663599748148,
    "source_hash": "b0c16005",
    "tags": [],
    "deepnote_cell_type": "code",
    "deepnote_cell_height": 385.90625
   },
   "source": "# Debian (Quarto)\n!sudo curl -LO https://quarto.org/download/latest/quarto-linux-amd64.deb\n!sudo apt-get install gdebi-core -y\n!sudo gdebi -n quarto-linux-amd64.deb\n!/usr/local/bin/quarto check\n\n# Alternative installation using nbdev\n# nbdev_install_quarto",
   "execution_count": null,
   "outputs": [
    {
     "name": "stdout",
     "text": "Reading package lists... Done\nBuilding dependency tree        \nReading state information... Done\nReading state information... Done\nSelecting previously unselected package quarto.\n(Reading database ... 32611 files and directories currently installed.)\nPreparing to unpack quarto-linux-amd64.deb ...\nUnpacking quarto (1.1.251) ...\nSetting up quarto (1.1.251) ...\n",
     "output_type": "stream"
    }
   ]
  },
  {
   "cell_type": "code",
   "metadata": {
    "cell_id": "fa6466b93ea942f6ae3d3e2420ce09f6",
    "tags": [],
    "deepnote_cell_type": "code",
    "deepnote_cell_height": 97.15625
   },
   "source": "# Debian (Java JDK)\n!sudo apt update\n!sudo apt install default-jdk",
   "execution_count": null,
   "outputs": []
  },
  {
   "cell_type": "code",
   "metadata": {
    "cell_id": "7a5f5fdc83c94831b0ae00488a4a3330",
    "deepnote_to_be_reexecuted": false,
    "execution_millis": 4521,
    "execution_start": 1663605361249,
    "source_hash": "37bf610b",
    "tags": [],
    "deepnote_cell_type": "code",
    "deepnote_cell_height": 256.359375
   },
   "source": "# nbdev\n!conda install -c fastai nbdev\n#!pip install nbdev\n#!nbdev_help",
   "execution_count": null,
   "outputs": [
    {
     "name": "stdout",
     "text": "Collecting package metadata (current_repodata.json): done\nSolving environment: done\n\n# All requested packages already installed.\n\nRetrieving notices: ...working... done\n",
     "output_type": "stream"
    }
   ]
  },
  {
   "cell_type": "code",
   "metadata": {
    "cell_id": "ef10e0e4c28c4d679a68ee8aca8b65ba",
    "deepnote_to_be_reexecuted": false,
    "execution_millis": 159,
    "execution_start": 1663707468190,
    "source_hash": "3f343d8c",
    "tags": [],
    "deepnote_cell_type": "code",
    "deepnote_cell_height": 526.15625
   },
   "source": "# Merge notebooks\nimport nbformat\ndef merge_notebooks(notebooks, output, ignore_index = True):\n    # ignore_index enabled will assign new ids to cells\n    merged_nb, metadata = None, []\n    for path in notebooks:\n        # Read the notebooks\n        with open(path, 'r', encoding='utf-8') as handler:\n            nb = nbformat.read(handler, as_version=4)\n            metadata += [nb.metadata]\n        \n        if merged_nb is None:\n            merged_nb = nb\n        else:\n            merged_nb.cells.extend(nb.cells)\n\n        merged_metadata = {}\n        for meta in reversed(metadata):\n            merged_metadata.update(meta)\n        merged_nb.metadata = merged_metadata\n\n    # Create a combined notebook\n    if ignore_index:\n        nbformat.write(nbformat.v4.new_notebook(cells=merged_nb.cells, metadata=merged_nb.metadata), output)\n    else:\n        nbformat.write(merged_nb, output)",
   "execution_count": 3,
   "outputs": []
  },
  {
   "cell_type": "code",
   "metadata": {
    "cell_id": "8f1eab21182b451a983679a2d5959da8",
    "deepnote_to_be_reexecuted": false,
    "execution_millis": 2,
    "execution_start": 1663707468652,
    "source_hash": "32814ea5",
    "tags": [],
    "deepnote_cell_type": "code",
    "deepnote_cell_height": 994.15625
   },
   "source": "# Clean specific metadata (!mutate), tags etc. (nbconvert, nbformat and nbdev)\nimport nbformat\n\n# Clean metadata and output\n#!nbdev_clean --fname report-example.ipynb\n\n# Remove cells with specific tags\ndef clear_tag(path, key):\n    nb = nbformat.read(path, as_version=4)\n    for i, cell in enumerate(nb[\"cells\"]):\n        try:\n            cell[\"metadata\"][\"tags\"][key].remove(\"raises-error\")\n            if not cell[\"metadata\"][\"tags\"]:\n                cell[\"metadata\"].pop(\"tags\")\n        except:\n            pass\n        nb[\"cells\"][i] = cell\n    nbformat.write(nb, path)\n\n# Remove cells with specific metadata\ndef remove_cell_by_metadata(path, key):\n    nb = nbformat.read(path, as_version=4)\n\n    # Repeat process as index changes on pop\n    repeat = len(nb.cells)\n    for i in range(repeat):\n        nb = nbformat.read(path, as_version=4)\n        # Find cell with metadata key, pop, repeat\n        for i, cell in enumerate(nb.cells):\n            cell_metadata = cell.metadata.get(key)\n            if cell_metadata:\n                nb.cells.pop(i)\n                continue\n    nbformat.write(nb, path)\n\n# Remove empty cells\ndef remove_empty_cells(path):\n    nb = nbformat.read(path, as_version=4)\n\n    # Repeat process as index changes on pop\n    repeat = len(nb.cells)\n    for i in range(repeat):\n        nb = nbformat.read(path, as_version=4)\n        # Find empty cell (no source), pop, repeat\n        for i, cell in enumerate(nb.cells):\n            cell_source = cell.source\n            if len(cell_source) == 0:\n                nb.cells.pop(i)\n                continue\n    nbformat.write(nb, path)\n\n# todo: combine the techniques into a more general function or alt. a class or functional approach ",
   "execution_count": 4,
   "outputs": []
  },
  {
   "cell_type": "code",
   "source": "# Prepare report for Quarto\nimport os\nimport pathlib\nimport shutil\nimport glob\ndef report(path, output, preview = True):\n    # Read environment e.g., is it Deepnote? Clean non-compatible metadata..\n    path_abs = os.path.abspath(path)\n    output_abs = os.path.abspath(output)\n\n    # Create temp build directory in output\n    build_path = os.path.join(output_abs, '.report-build')\n    if not os.path.exists(build_path):\n        os.makedirs(build_path)\n\n    # Read files in directory (sort the names e.g., 01-section, 02-section etc.)\n    notebooks = sorted(glob.glob(os.path.join(path_abs, '*.ipynb')))\n\n    # Create output file and replace with merge\n    report_path = os.path.join(build_path, 'report.ipynb')\n    merge_notebooks(notebooks, report_path)\n\n    # Remove cells by metadata key\n    remove_cell_by_metadata(report_path, 'created_in_deepnote_cell')\n\n    # Remove empty cells\n    remove_empty_cells(report_path)\n\n    # Copy final report to output\n    final_report_path = os.path.join(output_abs, 'report.ipynb')\n    shutil.copy(report_path, final_report_path)\n\n    # Preview enabled opens Quarto preview of report\n    # todo: detected changes should merely update current session\n    if preview:\n        pass\n    \n    # Quarto render report (options: execute, [docx, pdf, html, etc.])\n    !quarto install tool tinytex\n    !quarto render $final_report_path --to pdf\n\n    # Clear temp build directory\n    if os.path.exists(build_path):\n        shutil.rmtree(build_path)\n    else:\n        print(\"Error: %s directory not found\" % build_path)\n\n# todo: if any step fails clean temp files etc.\n# todo: add quarto options to generated report e.g., include code, outputs etc.. \n\n# Test\n#report(path='report-example', output='report-example/output')",
   "metadata": {
    "cell_id": "57a68eea88da4be9a9d8ee2cc37242cd",
    "deepnote_to_be_reexecuted": false,
    "execution_millis": 2,
    "execution_start": 1663707495168,
    "source_hash": "9ca4162",
    "tags": [],
    "deepnote_cell_type": "code",
    "deepnote_cell_height": 994.15625
   },
   "execution_count": 7,
   "outputs": []
  },
  {
   "cell_type": "code",
   "source": "!echo \"$PS1\"\n!printenv",
   "metadata": {
    "cell_id": "e906caab08ab4c8b8cd9ac59d4020025",
    "tags": [],
    "deepnote_to_be_reexecuted": false,
    "source_hash": "4deecf34",
    "execution_start": 1663749495833,
    "execution_millis": 453,
    "deepnote_cell_type": "code",
    "deepnote_cell_height": 714.265625
   },
   "outputs": [
    {
     "name": "stdout",
     "text": "\nSHELL=/bin/bash\nDEEPNOTE_GITHUB_TOKEN_SERVICE_URL=https://deepnote.com/api/github-apps/git-token\nKUBERNETES_SERVICE_PORT_HTTPS=443\nJUPYTER_CONFIG_DIR=/deepnote-config/jupyter\nPIP_TARGET=/opt/conda/lib/python3.8/site-packages\nKUBERNETES_SERVICE_PORT=443\nINTEGRATION_CREDENTIALS_SERVICE_PORT=tcp://10.100.12.67:80\nHOSTNAME=p-7393f88e-6674-4a74-8a6c-ce9dc44581ca\nPYTHON_VERSION=3.8\nLANGUAGE=en_US.UTF-8\nGIT_SSH_COMMAND=ssh -i /work/.deepnote/gitkey -o UserKnownHostsFile=/dev/null -o StrictHostKeyChecking=no\nINTEGRATION_CREDENTIALS_SERVICE_PORT_80_TCP_ADDR=10.100.12.67\nINTEGRATION_CREDENTIALS_SERVICE_PORT_80_TCP=tcp://10.100.12.67:80\nPWD=/work/apps/explorer\nDEEPNOTE_PYTHON_KERNEL_ONLY=true\nJUPYTER_TOKEN=b0106297-544c-4bd3-85f8-63c4e41c0b45\nPYTHON_SETUPTOOLS_VERSION=57.5.0\n_=/usr/bin/printenv\nINTEGRATION_CREDENTIALS_SERVICE_SERVICE_PORT=80\nPLOTLY_RENDERER=colab\nIPYTHONDIR=/deepnote-config/ipython\nHOME=/root\nLANG=en_US.UTF-8\nKUBERNETES_PORT_443_TCP=tcp://10.100.0.1:443\nINTEGRATION_CREDENTIALS_SERVICE_PORT_80_TCP_PORT=80\nVIRTUAL_ENV=/root/venv\nINTEGRATION_CREDENTIALS_SERVICE_SERVICE_HOST=10.100.12.67\nDEEPNOTE_PROJECT_ID=7393f88e-6674-4a74-8a6c-ce9dc44581ca\nGPG_KEY=E3FF2839C048B25C084DEBE9B26995E310250568\nCLICOLOR=1\nDEEPNOTE_RUNTIME_UUID=3599904d-df2d-4d25-8e01-e528b531d8db\nCONDA_ALWAYS_YES=true\nSF_PARTNER=Deepnote_Workspaces\nDEEPNOTE_PROJECT_OWNER_ID=2b99e2cb-5e50-4925-ad4e-e154c446eb48\nJPY_PARENT_PID=1\nPYTHONPATH=/shared-libs/python3.8/py-core/lib/python3.8/site-packages::/opt/conda/lib/python38.zip:/opt/conda/lib/python3.8:/opt/conda/lib/python3.8/lib-dynload:/root/venv/lib/python3.8/site-packages:/opt/conda/lib/python3.8/site-packages:/shared-libs/python3.8/py/lib/python3.8/site-packages\nTERM=xterm-color\nGIT_PAGER=cat\nSQL_DEEPNOTE_DATAFRAME_SQL={\"url\":\"deepnote+duckdb:///:memory:\",\"params\":{},\"param_style\":\"qmark\"}\nSHLVL=0\nPAGER=cat\nKUBERNETES_PORT_443_TCP_PROTO=tcp\nJUPYTER_PATH=:/shared-libs/python3.8/py-core/share/jupyter\nPYTHON_PIP_VERSION=22.0.4\nKUBERNETES_PORT_443_TCP_ADDR=10.100.0.1\nMPLBACKEND=module://matplotlib_inline.backend_inline\nPYTHON_GET_PIP_SHA256=5aefe6ade911d997af080b315ebcb7f882212d070465df544e1175ac2be519b4\nDEEPNOTE_CPU_COUNT=1\nINTEGRATION_CREDENTIALS_SERVICE_PORT_80_TCP_PROTO=tcp\nKUBERNETES_SERVICE_HOST=10.100.0.1\nLC_ALL=en_US.UTF-8\nKUBERNETES_PORT=tcp://10.100.0.1:443\nKUBERNETES_PORT_443_TCP_PORT=443\nPYTHON_GET_PIP_URL=https://github.com/pypa/get-pip/raw/5eaac1050023df1f5c98b173b248c260023f2278/public/get-pip.py\nINTEGRATION_CREDENTIALS_SERVICE_SERVICE_PORT_EXTERNAL=80\nDEEPNOTE_RUNTIME_ENV_INTEGRATION_ENABLED=true\nPATH=/shared-libs/python3.8/py-core/bin:/root/venv/bin:/opt/conda/bin:/usr/local/bin:/usr/local/sbin:/usr/local/bin:/usr/sbin:/usr/bin:/sbin:/bin:/shared-libs/python3.8/py/bin\nDEBIAN_FRONTEND=noninteractive\n",
     "output_type": "stream"
    }
   ],
   "execution_count": 12
  },
  {
   "cell_type": "code",
   "source": "prompt = [!echo \"$PS0\", !echo \"$PS1\", !echo \"$PS2\", !echo \"$PS3\"]\n",
   "metadata": {
    "cell_id": "6b272d645cac4ef1a3c07d22662f375a",
    "tags": [],
    "deepnote_to_be_reexecuted": false,
    "source_hash": "55ec9cb2",
    "execution_start": 1663749381573,
    "execution_millis": 1,
    "deepnote_cell_type": "code",
    "deepnote_cell_height": 157.4375
   },
   "outputs": [
    {
     "output_type": "error",
     "ename": "SyntaxError",
     "evalue": "invalid syntax (3477522534.py, line 1)",
     "traceback": [
      "\u001b[0;36m  Cell \u001b[0;32mIn [1], line 1\u001b[0;36m\u001b[0m\n\u001b[0;31m    prompt = [!echo \"$PS0\", !echo \"$PS1\", !echo \"$PS2\", !echo \"$PS3\"]\u001b[0m\n\u001b[0m              ^\u001b[0m\n\u001b[0;31mSyntaxError\u001b[0m\u001b[0;31m:\u001b[0m invalid syntax\n"
     ]
    }
   ],
   "execution_count": 1
  },
  {
   "cell_type": "code",
   "source": "# Gather information about current host system (from host shell won't be accurate from notebooks)\ndef system_information():\n\n    # Prompt\n    prompt = [!echo \"$PS0\", !echo \"$PS1\", !echo \"$PS2\", !echo \"$PS3\"]\n\n    # User\n\n    # System    \n\n# Gather information about current kernel (inside notebooks)\ndef kernel_information():\n\n    # Prompt\n    prompt = [!echo \"$PS0\", !echo \"$PS1\", !echo \"$PS2\", !echo \"$PS3\"]\n\n    # User\n\n    # System    ",
   "metadata": {
    "cell_id": "b77994f5cedd4246b6ab500f9eb2b495",
    "tags": [],
    "deepnote_cell_type": "code",
    "deepnote_cell_height": 385.171875
   },
   "outputs": [],
   "execution_count": null
  },
  {
   "cell_type": "markdown",
   "source": "# Explorer",
   "metadata": {
    "cell_id": "3219daae647e497db3ea10647213b5f6",
    "tags": [],
    "deepnote_cell_type": "markdown",
    "deepnote_cell_height": 82.15625
   }
  },
  {
   "cell_type": "markdown",
   "source": "@dataclass\nclass Explorer:",
   "metadata": {
    "cell_id": "3ff67a14f1734b3685dbb640f701833f",
    "tags": [],
    "deepnote_cell_type": "markdown",
    "deepnote_cell_height": 74.921875
   }
  },
  {
   "cell_type": "markdown",
   "source": "<a style='text-decoration:none;line-height:16px;display:flex;color:#5B5B62;padding:10px;justify-content:end;' href='https://deepnote.com?utm_source=created-in-deepnote-cell&projectId=7393f88e-6674-4a74-8a6c-ce9dc44581ca' target=\"_blank\">\n<img alt='Created in deepnote.com' style='display:inline;max-height:16px;margin:0px;margin-right:7.5px;' src='data:image/svg+xml;base64,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' > </img>\nCreated in <span style='font-weight:600;margin-left:4px;'>Deepnote</span></a>",
   "metadata": {
    "tags": [],
    "created_in_deepnote_cell": true,
    "deepnote_cell_type": "markdown"
   }
  }
 ],
 "nbformat": 4,
 "nbformat_minor": 2,
 "metadata": {
  "deepnote": {},
  "deepnote_execution_queue": [],
  "deepnote_notebook_id": "d6257e6c-30ed-454e-9fb4-8036abf54456",
  "kernelspec": {
   "display_name": "Python 3.10.4 64-bit",
   "language": "python",
   "name": "python3"
  },
  "language_info": {
   "codemirror_mode": {
    "name": "ipython",
    "version": 3
   },
   "file_extension": ".py",
   "mimetype": "text/x-python",
   "name": "python",
   "nbconvert_exporter": "python",
   "pygments_lexer": "ipython3",
   "version": "3.10.4"
  },
  "orig_nbformat": 2,
  "vscode": {
   "interpreter": {
    "hash": "4f946df053fbf2b937619d3c5458e7af74262f9a954d8797ba0b27400bcafe06"
   }
  }
 }
}