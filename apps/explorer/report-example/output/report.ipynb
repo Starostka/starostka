{
 "cells": [
  {
   "cell_type": "code",
   "execution_count": null,
   "id": "39f52f94",
   "metadata": {
    "cell_id": "1a065c95-ce99-42ca-9a96-364e348dee3a",
    "deepnote_cell_height": 61.15625,
    "deepnote_cell_type": "code",
    "tags": []
   },
   "outputs": [],
   "source": [
    "# Start writing code here..."
   ]
  },
  {
   "cell_type": "markdown",
   "id": "fbee9fc6",
   "metadata": {
    "cell_id": "22e2347b3dfa4d5ab9dc9bc33550fee5",
    "deepnote_cell_height": 88.921875,
    "deepnote_cell_type": "markdown",
    "tags": []
   },
   "source": [
    "Details to be shown on first page.\n",
    "\n",
    "Author: Benjamin Starostka Jakobsen"
   ]
  },
  {
   "cell_type": "markdown",
   "id": "f3c446e0",
   "metadata": {
    "cell_id": "31db6733-9d50-41b6-995e-279bbffdad8d",
    "deepnote_cell_height": 129.125,
    "deepnote_cell_type": "markdown"
   },
   "source": [
    "# Section 1"
   ]
  },
  {
   "cell_type": "markdown",
   "id": "fcb42c46",
   "metadata": {
    "cell_id": "411e0f10-9765-4c73-8dfc-4bdebbd5b76d",
    "deepnote_cell_height": 82.15625,
    "deepnote_cell_type": "markdown",
    "tags": []
   },
   "source": [
    "# Section 2"
   ]
  },
  {
   "cell_type": "code",
   "execution_count": null,
   "id": "3dcc6a5c",
   "metadata": {
    "cell_id": "b285de39-fb7e-4fdb-b173-c0f03dba5329",
    "deepnote_cell_type": "code",
    "tags": []
   },
   "outputs": [],
   "source": [
    "# Start writing code here..."
   ]
  }
 ],
 "metadata": {
  "deepnote": {},
  "deepnote_execution_queue": [],
  "deepnote_notebook_id": "5a06c5d3-7365-42e4-a505-96e3234791ef"
 },
 "nbformat": 4,
 "nbformat_minor": 5
}
