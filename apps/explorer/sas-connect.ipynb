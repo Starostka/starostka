{
 "cells": [
  {
   "cell_type": "markdown",
   "metadata": {},
   "source": [
    "sascfg_personal.py\n",
    "```\n",
    "SAS_config_names=['oda']\n",
    "oda = {'java' : '/usr/bin/java',\n",
    "#European Home Region 1\n",
    "'iomhost' : ['odaws01-euw1.oda.sas.com','odaws02-euw1.oda.sas.com'],\n",
    "'iomport' : 8591,\n",
    "'authkey' : 'oda',\n",
    "'encoding' : 'utf-8'\n",
    "}\n",
    "```"
   ]
  },
  {
   "cell_type": "code",
   "execution_count": null,
   "metadata": {},
   "outputs": [],
   "source": [
    "import numpy as np\n",
    "import pandas as pd\n",
    "import matplotlib.pyplot as plt\n",
    "import seaborn as sns\n",
    "\n",
    "#!pip install saspy\n",
    "import saspy\n",
    "saspy.SAScfg\n",
    "saspy.list_configs()"
   ]
  },
  {
   "cell_type": "code",
   "execution_count": null,
   "metadata": {},
   "outputs": [],
   "source": [
    "#sas = saspy.SASsession(cfgfile='sascfg_personal.py')\n",
    "\n",
    "# alternative method (European Home Region 1)\n",
    "sas = saspy.SASsession(authkey='oda', java='/usr/bin/java', iomhost=['odaws01-euw1.oda.sas.com','odaws02-euw1.oda.sas.com'], iomport=8591, encoding='utf-8')"
   ]
  },
  {
   "cell_type": "code",
   "execution_count": null,
   "metadata": {},
   "outputs": [],
   "source": [
    "%%SAS sas\n",
    "proc print data=sashelp.cars ;\n",
    "run;"
   ]
  },
  {
   "cell_type": "code",
   "execution_count": null,
   "metadata": {},
   "outputs": [],
   "source": [
    "sas.submitLST('data a;x=1;run; proc print data=a;run;')\n",
    "cars = sas.sasdata('cars', libref='sashelp')\n",
    "sas.submitLST('proc print data=sashelp.cars;run;')"
   ]
  }
 ],
 "metadata": {
  "language_info": {
   "name": "python"
  },
  "orig_nbformat": 4
 },
 "nbformat": 4,
 "nbformat_minor": 2
}
